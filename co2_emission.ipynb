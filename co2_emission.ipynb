{
 "cells": [
  {
   "cell_type": "markdown",
   "id": "8e3a14db-141a-4614-ba85-4d9ff0898258",
   "metadata": {},
   "source": [
    "<h1>CO<sub>2</sub> Emission Prediction of Sri Lanka using LSTM (Univariate)</h1>\n",
    "<p>LSTM (Long Short-Term Memory) is a type of Recurrent Neural Network (RNN) architecture designed to efficiently capture and utilize long-term dependencies in <b>sequential data</b>. In this project, I will be developping an LSTM model to predict future CO<sub>2</sub> emission.</p>\n",
    "\n",
    "<p>CO<sub>2</sub> emission data is a <b>Timeseries</b> dataset, which fits for sequential model perfectly.</p>\n",
    "\n",
    "## Dataset\n",
    "<p>I will be using CO<sub>2</sub> emission data set by country from <a href=\"https://www.kaggle.com/datasets/ulrikthygepedersen/co2-emissions-by-country\" target=\"_blank\">Kaggle</a></p>"
   ]
  },
  {
   "cell_type": "markdown",
   "id": "753a0812-36af-4e3b-8d53-a3e11d95dd65",
   "metadata": {},
   "source": [
    "<div class=\"alert alert-success\">\n",
    "    <h3>Table of content</h3>\n",
    "    <ol>\n",
    "        <li>\n",
    "            <a href=\"#Technologies and tools\">Technologies and tools</a>\n",
    "        </li>\n",
    "        <li><a href=\"#Load-Dataset\">Load Dataset</a></li>\n",
    "        <li><a href=\"#check_dimensions\">Check dimensions of Data</a></li>\n",
    "        <li><a href=\"#forward_prop\">Implementing Forward Propagation</a></li>\n",
    "        <li><a href=\"#compile_model\">Compile the model</a></li>\n",
    "        <li><a href=\"#summary_of_the_model\">Summary of the model</a></li>\n",
    "        <li><a href=\"#train_and_evaluation\">Train and evaluation</a></li>\n",
    "        <li><a href=\"#save_model\">Save the model</a></li>\n",
    "    </ol>\n",
    "</div>"
   ]
  },
  {
   "cell_type": "markdown",
   "id": "68e3d37b-d503-4670-a3b3-fdd24b574f59",
   "metadata": {},
   "source": [
    "## Technologies and tools\n",
    "1. TensorFlow\n",
    "2. Keras\n",
    "3. LSTM\n",
    "4. Sequential Model"
   ]
  },
  {
   "cell_type": "markdown",
   "id": "72dfb6e5-3486-4f5c-85d6-c31f9f7ecb3c",
   "metadata": {},
   "source": [
    "## Load Dataset"
   ]
  },
  {
   "cell_type": "code",
   "execution_count": 1,
   "id": "de14867a-0ceb-440c-bf65-fd791d4c19cf",
   "metadata": {},
   "outputs": [],
   "source": [
    "import pandas as pd\n",
    "import matplotlib.pyplot as plt\n",
    "from sklearn.preprocessing import MinMaxScaler\n",
    "from tensorflow.keras.models import Sequential\n",
    "from tensorflow.keras.layers import InputLayer, Dense, LSTM\n",
    "from tensorflow.keras.optimizers import Adam\n",
    "from tensorflow.keras.losses import MeanSquaredError\n",
    "from tensorflow.keras.metrics import RootMeanSquaredError\n",
    "from tensorflow.keras.callbacks import ModelCheckpoint\n",
    "from tensorflow.keras.models import load_model\n",
    "import pickle\n",
    "%matplotlib inline"
   ]
  },
  {
   "cell_type": "code",
   "execution_count": 82,
   "id": "5d2fe3f8-8ec0-40ac-8264-5668c5fb3c64",
   "metadata": {},
   "outputs": [],
   "source": [
    "df_full = pd.read_csv('co2_emissions_kt_by_country.csv')"
   ]
  },
  {
   "cell_type": "code",
   "execution_count": 83,
   "id": "4d2c4a1b-ee46-462b-91de-69ecd465f249",
   "metadata": {},
   "outputs": [
    {
     "data": {
      "text/html": [
       "<div>\n",
       "<style scoped>\n",
       "    .dataframe tbody tr th:only-of-type {\n",
       "        vertical-align: middle;\n",
       "    }\n",
       "\n",
       "    .dataframe tbody tr th {\n",
       "        vertical-align: top;\n",
       "    }\n",
       "\n",
       "    .dataframe thead th {\n",
       "        text-align: right;\n",
       "    }\n",
       "</style>\n",
       "<table border=\"1\" class=\"dataframe\">\n",
       "  <thead>\n",
       "    <tr style=\"text-align: right;\">\n",
       "      <th></th>\n",
       "      <th>country_code</th>\n",
       "      <th>country_name</th>\n",
       "      <th>year</th>\n",
       "      <th>value</th>\n",
       "    </tr>\n",
       "  </thead>\n",
       "  <tbody>\n",
       "    <tr>\n",
       "      <th>0</th>\n",
       "      <td>ABW</td>\n",
       "      <td>Aruba</td>\n",
       "      <td>1960</td>\n",
       "      <td>11092.675</td>\n",
       "    </tr>\n",
       "    <tr>\n",
       "      <th>1</th>\n",
       "      <td>ABW</td>\n",
       "      <td>Aruba</td>\n",
       "      <td>1961</td>\n",
       "      <td>11576.719</td>\n",
       "    </tr>\n",
       "    <tr>\n",
       "      <th>2</th>\n",
       "      <td>ABW</td>\n",
       "      <td>Aruba</td>\n",
       "      <td>1962</td>\n",
       "      <td>12713.489</td>\n",
       "    </tr>\n",
       "    <tr>\n",
       "      <th>3</th>\n",
       "      <td>ABW</td>\n",
       "      <td>Aruba</td>\n",
       "      <td>1963</td>\n",
       "      <td>12178.107</td>\n",
       "    </tr>\n",
       "    <tr>\n",
       "      <th>4</th>\n",
       "      <td>ABW</td>\n",
       "      <td>Aruba</td>\n",
       "      <td>1964</td>\n",
       "      <td>11840.743</td>\n",
       "    </tr>\n",
       "  </tbody>\n",
       "</table>\n",
       "</div>"
      ],
      "text/plain": [
       "  country_code country_name  year      value\n",
       "0          ABW        Aruba  1960  11092.675\n",
       "1          ABW        Aruba  1961  11576.719\n",
       "2          ABW        Aruba  1962  12713.489\n",
       "3          ABW        Aruba  1963  12178.107\n",
       "4          ABW        Aruba  1964  11840.743"
      ]
     },
     "execution_count": 83,
     "metadata": {},
     "output_type": "execute_result"
    }
   ],
   "source": [
    "df_full.head()"
   ]
  },
  {
   "cell_type": "code",
   "execution_count": 84,
   "id": "baf3de96-ed30-4275-a1f8-f8fac3c466ab",
   "metadata": {},
   "outputs": [
    {
     "data": {
      "text/plain": [
       "array(['Aruba', 'Africa Eastern and Southern', 'Afghanistan',\n",
       "       'Africa Western and Central', 'Angola', 'Albania', 'Andorra',\n",
       "       'Arab World', 'United Arab Emirates', 'Argentina', 'Armenia',\n",
       "       'Antigua and Barbuda', 'Australia', 'Austria', 'Azerbaijan',\n",
       "       'Burundi', 'Belgium', 'Benin', 'Burkina Faso', 'Bangladesh',\n",
       "       'Bulgaria', 'Bahrain', 'Bahamas, The', 'Bosnia and Herzegovina',\n",
       "       'Belarus', 'Belize', 'Bermuda', 'Bolivia', 'Brazil', 'Barbados',\n",
       "       'Brunei Darussalam', 'Bhutan', 'Botswana',\n",
       "       'Central African Republic', 'Canada',\n",
       "       'Central Europe and the Baltics', 'Switzerland', 'Chile', 'China',\n",
       "       \"Cote d'Ivoire\", 'Cameroon', 'Congo, Dem. Rep.', 'Congo, Rep.',\n",
       "       'Colombia', 'Comoros', 'Cabo Verde', 'Costa Rica',\n",
       "       'Caribbean small states', 'Cuba', 'Curacao', 'Cayman Islands',\n",
       "       'Cyprus', 'Czechia', 'Germany', 'Djibouti', 'Dominica', 'Denmark',\n",
       "       'Dominican Republic', 'Algeria',\n",
       "       'East Asia & Pacific (excluding high income)',\n",
       "       'Early-demographic dividend', 'East Asia & Pacific',\n",
       "       'Europe & Central Asia (excluding high income)',\n",
       "       'Europe & Central Asia', 'Ecuador', 'Egypt, Arab Rep.',\n",
       "       'Euro area', 'Eritrea', 'Spain', 'Estonia', 'Ethiopia',\n",
       "       'European Union', 'Fragile and conflict affected situations',\n",
       "       'Finland', 'Fiji', 'France', 'Faroe Islands',\n",
       "       'Micronesia, Fed. Sts.', 'Gabon', 'United Kingdom', 'Georgia',\n",
       "       'Ghana', 'Gibraltar', 'Guinea', 'Gambia, The', 'Guinea-Bissau',\n",
       "       'Equatorial Guinea', 'Greece', 'Grenada', 'Greenland', 'Guatemala',\n",
       "       'Guyana', 'High income', 'Hong Kong SAR, China', 'Honduras',\n",
       "       'Heavily indebted poor countries (HIPC)', 'Croatia', 'Haiti',\n",
       "       'Hungary', 'IBRD only', 'IDA & IBRD total', 'IDA total',\n",
       "       'IDA blend', 'Indonesia', 'IDA only', 'India', 'Ireland',\n",
       "       'Iran, Islamic Rep.', 'Iraq', 'Iceland', 'Israel', 'Italy',\n",
       "       'Jamaica', 'Jordan', 'Japan', 'Kazakhstan', 'Kenya',\n",
       "       'Kyrgyz Republic', 'Cambodia', 'Kiribati', 'St. Kitts and Nevis',\n",
       "       'Korea, Rep.', 'Kuwait',\n",
       "       'Latin America & Caribbean (excluding high income)', 'Lao PDR',\n",
       "       'Lebanon', 'Liberia', 'Libya', 'St. Lucia',\n",
       "       'Latin America & Caribbean',\n",
       "       'Least developed countries: UN classification', 'Low income',\n",
       "       'Liechtenstein', 'Sri Lanka', 'Lower middle income',\n",
       "       'Low & middle income', 'Lesotho', 'Late-demographic dividend',\n",
       "       'Lithuania', 'Luxembourg', 'Latvia', 'Macao SAR, China', 'Morocco',\n",
       "       'Moldova', 'Madagascar', 'Maldives', 'Middle East & North Africa',\n",
       "       'Mexico', 'Marshall Islands', 'Middle income', 'North Macedonia',\n",
       "       'Mali', 'Malta', 'Myanmar',\n",
       "       'Middle East & North Africa (excluding high income)', 'Montenegro',\n",
       "       'Mongolia', 'Mozambique', 'Mauritania', 'Mauritius', 'Malawi',\n",
       "       'Malaysia', 'North America', 'Namibia', 'New Caledonia', 'Niger',\n",
       "       'Nigeria', 'Nicaragua', 'Netherlands', 'Norway', 'Nepal', 'Nauru',\n",
       "       'New Zealand', 'OECD members', 'Oman', 'Other small states',\n",
       "       'Pakistan', 'Panama', 'Peru', 'Philippines', 'Palau',\n",
       "       'Papua New Guinea', 'Poland', 'Pre-demographic dividend',\n",
       "       \"Korea, Dem. People's Rep.\", 'Portugal', 'Paraguay',\n",
       "       'West Bank and Gaza', 'Pacific island small states',\n",
       "       'Post-demographic dividend', 'French Polynesia', 'Qatar',\n",
       "       'Romania', 'Russian Federation', 'Rwanda', 'South Asia',\n",
       "       'Saudi Arabia', 'Sudan', 'Senegal', 'Singapore', 'Solomon Islands',\n",
       "       'Sierra Leone', 'El Salvador', 'Somalia', 'Serbia',\n",
       "       'Sub-Saharan Africa (excluding high income)', 'South Sudan',\n",
       "       'Sub-Saharan Africa', 'Small states', 'Sao Tome and Principe',\n",
       "       'Suriname', 'Slovak Republic', 'Slovenia', 'Sweden', 'Eswatini',\n",
       "       'Sint Maarten (Dutch part)', 'Seychelles', 'Syrian Arab Republic',\n",
       "       'Turks and Caicos Islands', 'Chad',\n",
       "       'East Asia & Pacific (IDA & IBRD countries)',\n",
       "       'Europe & Central Asia (IDA & IBRD countries)', 'Togo', 'Thailand',\n",
       "       'Tajikistan', 'Turkmenistan',\n",
       "       'Latin America & the Caribbean (IDA & IBRD countries)',\n",
       "       'Timor-Leste', 'Middle East & North Africa (IDA & IBRD countries)',\n",
       "       'Tonga', 'South Asia (IDA & IBRD)',\n",
       "       'Sub-Saharan Africa (IDA & IBRD countries)', 'Trinidad and Tobago',\n",
       "       'Tunisia', 'Turkey', 'Turkiye', 'Tuvalu', 'Tanzania', 'Uganda',\n",
       "       'Ukraine', 'Upper middle income', 'Uruguay', 'United States',\n",
       "       'Uzbekistan', 'St. Vincent and the Grenadines', 'Venezuela, RB',\n",
       "       'British Virgin Islands', 'Vietnam', 'Vanuatu', 'World', 'Samoa',\n",
       "       'Kosovo', 'Yemen, Rep.', 'South Africa', 'Zambia', 'Zimbabwe'],\n",
       "      dtype=object)"
      ]
     },
     "execution_count": 84,
     "metadata": {},
     "output_type": "execute_result"
    }
   ],
   "source": [
    "df_full['country_name'].unique()"
   ]
  },
  {
   "cell_type": "code",
   "execution_count": 85,
   "id": "fc66b728-63e7-4a03-bd66-eee9685be942",
   "metadata": {},
   "outputs": [],
   "source": [
    "df = df_full[df_full['country_name']=='Sri Lanka']"
   ]
  },
  {
   "cell_type": "markdown",
   "id": "f0e28488-d12c-4756-9a13-9777ee567ca0",
   "metadata": {},
   "source": [
    "## Data celanup"
   ]
  },
  {
   "cell_type": "markdown",
   "id": "b0bc97f8-6774-4c8f-b342-997fab8ea90f",
   "metadata": {},
   "source": [
    "### Remove unwanted columns"
   ]
  },
  {
   "cell_type": "code",
   "execution_count": 86,
   "id": "0ffcafe5-587a-46db-a718-451051946877",
   "metadata": {},
   "outputs": [
    {
     "data": {
      "text/html": [
       "<div>\n",
       "<style scoped>\n",
       "    .dataframe tbody tr th:only-of-type {\n",
       "        vertical-align: middle;\n",
       "    }\n",
       "\n",
       "    .dataframe tbody tr th {\n",
       "        vertical-align: top;\n",
       "    }\n",
       "\n",
       "    .dataframe thead th {\n",
       "        text-align: right;\n",
       "    }\n",
       "</style>\n",
       "<table border=\"1\" class=\"dataframe\">\n",
       "  <thead>\n",
       "    <tr style=\"text-align: right;\">\n",
       "      <th></th>\n",
       "      <th>country_code</th>\n",
       "      <th>country_name</th>\n",
       "      <th>year</th>\n",
       "      <th>value</th>\n",
       "    </tr>\n",
       "  </thead>\n",
       "  <tbody>\n",
       "    <tr>\n",
       "      <th>7399</th>\n",
       "      <td>LKA</td>\n",
       "      <td>Sri Lanka</td>\n",
       "      <td>1960</td>\n",
       "      <td>2258.872</td>\n",
       "    </tr>\n",
       "    <tr>\n",
       "      <th>7400</th>\n",
       "      <td>LKA</td>\n",
       "      <td>Sri Lanka</td>\n",
       "      <td>1961</td>\n",
       "      <td>2335.879</td>\n",
       "    </tr>\n",
       "    <tr>\n",
       "      <th>7401</th>\n",
       "      <td>LKA</td>\n",
       "      <td>Sri Lanka</td>\n",
       "      <td>1962</td>\n",
       "      <td>2563.233</td>\n",
       "    </tr>\n",
       "    <tr>\n",
       "      <th>7402</th>\n",
       "      <td>LKA</td>\n",
       "      <td>Sri Lanka</td>\n",
       "      <td>1963</td>\n",
       "      <td>2533.897</td>\n",
       "    </tr>\n",
       "    <tr>\n",
       "      <th>7403</th>\n",
       "      <td>LKA</td>\n",
       "      <td>Sri Lanka</td>\n",
       "      <td>1964</td>\n",
       "      <td>2273.540</td>\n",
       "    </tr>\n",
       "  </tbody>\n",
       "</table>\n",
       "</div>"
      ],
      "text/plain": [
       "     country_code country_name  year     value\n",
       "7399          LKA    Sri Lanka  1960  2258.872\n",
       "7400          LKA    Sri Lanka  1961  2335.879\n",
       "7401          LKA    Sri Lanka  1962  2563.233\n",
       "7402          LKA    Sri Lanka  1963  2533.897\n",
       "7403          LKA    Sri Lanka  1964  2273.540"
      ]
     },
     "execution_count": 86,
     "metadata": {},
     "output_type": "execute_result"
    }
   ],
   "source": [
    "df.head()"
   ]
  },
  {
   "cell_type": "code",
   "execution_count": 87,
   "id": "790027fa-14a2-4ca7-a727-71113ef4d6b3",
   "metadata": {},
   "outputs": [
    {
     "name": "stderr",
     "output_type": "stream",
     "text": [
      "C:\\Users\\navilog\\AppData\\Local\\Temp\\ipykernel_2992\\3515826104.py:1: SettingWithCopyWarning: \n",
      "A value is trying to be set on a copy of a slice from a DataFrame\n",
      "\n",
      "See the caveats in the documentation: https://pandas.pydata.org/pandas-docs/stable/user_guide/indexing.html#returning-a-view-versus-a-copy\n",
      "  df.drop(['country_code', 'country_name'], axis=1, inplace=True)\n"
     ]
    }
   ],
   "source": [
    "df.drop(['country_code', 'country_name'], axis=1, inplace=True)"
   ]
  },
  {
   "cell_type": "code",
   "execution_count": 88,
   "id": "8fbd8364-731e-4bcf-bb26-866873b07200",
   "metadata": {},
   "outputs": [],
   "source": [
    "df.reset_index(drop=True, inplace=True)"
   ]
  },
  {
   "cell_type": "code",
   "execution_count": 89,
   "id": "e84abb22-8889-4a8e-850f-e7136664c99d",
   "metadata": {},
   "outputs": [
    {
     "data": {
      "text/html": [
       "<div>\n",
       "<style scoped>\n",
       "    .dataframe tbody tr th:only-of-type {\n",
       "        vertical-align: middle;\n",
       "    }\n",
       "\n",
       "    .dataframe tbody tr th {\n",
       "        vertical-align: top;\n",
       "    }\n",
       "\n",
       "    .dataframe thead th {\n",
       "        text-align: right;\n",
       "    }\n",
       "</style>\n",
       "<table border=\"1\" class=\"dataframe\">\n",
       "  <thead>\n",
       "    <tr style=\"text-align: right;\">\n",
       "      <th></th>\n",
       "      <th>year</th>\n",
       "      <th>value</th>\n",
       "    </tr>\n",
       "  </thead>\n",
       "  <tbody>\n",
       "    <tr>\n",
       "      <th>0</th>\n",
       "      <td>1960</td>\n",
       "      <td>2258.872</td>\n",
       "    </tr>\n",
       "    <tr>\n",
       "      <th>1</th>\n",
       "      <td>1961</td>\n",
       "      <td>2335.879</td>\n",
       "    </tr>\n",
       "    <tr>\n",
       "      <th>2</th>\n",
       "      <td>1962</td>\n",
       "      <td>2563.233</td>\n",
       "    </tr>\n",
       "    <tr>\n",
       "      <th>3</th>\n",
       "      <td>1963</td>\n",
       "      <td>2533.897</td>\n",
       "    </tr>\n",
       "    <tr>\n",
       "      <th>4</th>\n",
       "      <td>1964</td>\n",
       "      <td>2273.540</td>\n",
       "    </tr>\n",
       "  </tbody>\n",
       "</table>\n",
       "</div>"
      ],
      "text/plain": [
       "   year     value\n",
       "0  1960  2258.872\n",
       "1  1961  2335.879\n",
       "2  1962  2563.233\n",
       "3  1963  2533.897\n",
       "4  1964  2273.540"
      ]
     },
     "execution_count": 89,
     "metadata": {},
     "output_type": "execute_result"
    }
   ],
   "source": [
    "df.head()"
   ]
  },
  {
   "cell_type": "code",
   "execution_count": 90,
   "id": "ec69b81a-6447-477a-a79e-e1613b028fd4",
   "metadata": {},
   "outputs": [
    {
     "data": {
      "text/plain": [
       "0     1960\n",
       "1     1961\n",
       "2     1962\n",
       "3     1963\n",
       "4     1964\n",
       "5     1965\n",
       "6     1966\n",
       "7     1967\n",
       "8     1968\n",
       "9     1969\n",
       "10    1970\n",
       "11    1971\n",
       "12    1972\n",
       "13    1973\n",
       "14    1974\n",
       "15    1975\n",
       "16    1976\n",
       "17    1977\n",
       "18    1978\n",
       "19    1979\n",
       "20    1980\n",
       "21    1981\n",
       "22    1982\n",
       "23    1983\n",
       "24    1984\n",
       "25    1985\n",
       "26    1986\n",
       "27    1987\n",
       "28    1988\n",
       "29    1989\n",
       "30    1990\n",
       "31    1991\n",
       "32    1992\n",
       "33    1993\n",
       "34    1994\n",
       "35    1995\n",
       "36    1996\n",
       "37    1997\n",
       "38    1998\n",
       "39    1999\n",
       "40    2000\n",
       "41    2001\n",
       "42    2002\n",
       "43    2003\n",
       "44    2004\n",
       "45    2005\n",
       "46    2006\n",
       "47    2007\n",
       "48    2008\n",
       "49    2009\n",
       "50    2010\n",
       "51    2011\n",
       "52    2012\n",
       "53    2013\n",
       "54    2014\n",
       "55    2015\n",
       "56    2016\n",
       "57    2017\n",
       "58    2018\n",
       "59    2019\n",
       "Name: year, dtype: int64"
      ]
     },
     "execution_count": 90,
     "metadata": {},
     "output_type": "execute_result"
    }
   ],
   "source": [
    "df_year = df['year']\n",
    "df_year"
   ]
  },
  {
   "cell_type": "markdown",
   "id": "f57af11d-eee7-470b-8902-fdafedadaa98",
   "metadata": {},
   "source": [
    "### check for null values"
   ]
  },
  {
   "cell_type": "code",
   "execution_count": 91,
   "id": "f62fb0da-3654-40c9-82e3-3ac365ef6a62",
   "metadata": {},
   "outputs": [
    {
     "data": {
      "text/plain": [
       "year     0\n",
       "value    0\n",
       "dtype: int64"
      ]
     },
     "execution_count": 91,
     "metadata": {},
     "output_type": "execute_result"
    }
   ],
   "source": [
    "df.isna().sum()"
   ]
  },
  {
   "cell_type": "code",
   "execution_count": 92,
   "id": "75674c7c-ca1a-49cf-bc33-865e1b1a72da",
   "metadata": {},
   "outputs": [
    {
     "data": {
      "image/png": "[encoded data removed]",
      "text/plain": [
       "<Figure size 640x480 with 1 Axes>"
      ]
     },
     "metadata": {},
     "output_type": "display_data"
    }
   ],
   "source": [
    "plt.plot(df['year'], df['value'])\n",
    "plt.title('CO2 emission of Sri Lanka between 1960 and 2020')\n",
    "plt.show()"
   ]
  },
  {
   "cell_type": "markdown",
   "id": "f6b665dc-63d4-4942-a194-3a94c75fef45",
   "metadata": {},
   "source": [
    "<div class=\"alert alert-info\">\n",
    "    <h3>Observations:</h3>\n",
    "    <ol>\n",
    "        <li>Between 1960 and mid 90s the carbon emission was not much increased.</li>\n",
    "        <li>After that, it has increased rapidly.</li>\n",
    "    </ol>\n",
    "</div>"
   ]
  },
  {
   "cell_type": "markdown",
   "id": "fe0da427-dac3-4607-92ea-c606fca1da61",
   "metadata": {},
   "source": [
    "## Data Preprocessing\n",
    "In the data preprocessing stage I will be performing following things.\n",
    "- filter the CO2 emission value column from the dataset\n",
    "- rearrange the CO2 emission values and prepare a supervised learning dataset.\n",
    "- reshape prepared dataset for LSTM model"
   ]
  },
  {
   "cell_type": "code",
   "execution_count": 93,
   "id": "d57b0265-fe4d-4f0e-abb4-26dc6da3b9b1",
   "metadata": {},
   "outputs": [],
   "source": [
    "df_co2 = df['value']\n",
    "#df_co2"
   ]
  },
  {
   "cell_type": "code",
   "execution_count": 94,
   "id": "53cf400d-101e-42de-83dc-5c8bfe2e4216",
   "metadata": {},
   "outputs": [
    {
     "data": {
      "text/plain": [
       "count       60.000000\n",
       "mean      7945.101660\n",
       "std       6161.212232\n",
       "min       2258.872000\n",
       "25%       3440.562750\n",
       "50%       4409.567500\n",
       "75%      12402.499676\n",
       "max      23780.000687\n",
       "Name: value, dtype: float64"
      ]
     },
     "execution_count": 94,
     "metadata": {},
     "output_type": "execute_result"
    }
   ],
   "source": [
    "df_co2.describe()"
   ]
  },
  {
   "cell_type": "markdown",
   "id": "4aad0f5d-738f-4ec1-a000-02858748d804",
   "metadata": {},
   "source": [
    "Above descriptive statistics shows that min and max values quite apart each other. Deep Learning prefers scaled data.\n",
    "## Data scaling\n",
    "In the dataset we have all positive values. I will use **Min-Max** scaler in the range of 0 and 1."
   ]
  },
  {
   "cell_type": "code",
   "execution_count": 95,
   "id": "660956e6-b887-4536-97be-631911504259",
   "metadata": {},
   "outputs": [
    {
     "data": {
      "application/javascript": [
       "\n",
       "        if (window._pyforest_update_imports_cell) { window._pyforest_update_imports_cell('import numpy as np'); }\n",
       "    "
      ],
      "text/plain": [
       "<IPython.core.display.Javascript object>"
      ]
     },
     "metadata": {},
     "output_type": "display_data"
    }
   ],
   "source": [
    "scaler = MinMaxScaler(feature_range=(0, 1))\n",
    "df_scaled = scaler.fit_transform(np.array(df_co2).reshape(-1, 1))"
   ]
  },
  {
   "cell_type": "markdown",
   "id": "42625214-e753-4d76-bb22-b774747866c3",
   "metadata": {},
   "source": [
    "## Save scaler and original emission values for future use"
   ]
  },
  {
   "cell_type": "code",
   "execution_count": 96,
   "id": "da41eaf3-0486-427e-9b7f-f6502ba145b1",
   "metadata": {},
   "outputs": [],
   "source": [
    "scalerfile = 'scaler.sav'\n",
    "pickle.dump(scaler, open(scalerfile, 'wb'))"
   ]
  },
  {
   "cell_type": "code",
   "execution_count": 97,
   "id": "3db5a9e8-889f-42e4-a0c9-2f80711e855e",
   "metadata": {},
   "outputs": [],
   "source": [
    "df[['year', 'value']].to_csv('year_emission.csv', index=False)"
   ]
  },
  {
   "cell_type": "markdown",
   "id": "256e559c-2722-4a1b-902d-5e3fc143b0da",
   "metadata": {},
   "source": [
    "### Split dataset into train / validation sets"
   ]
  },
  {
   "cell_type": "code",
   "execution_count": 98,
   "id": "315023d8-5409-49be-9f1b-3649d6463714",
   "metadata": {},
   "outputs": [
    {
     "data": {
      "text/plain": [
       "(42, 18)"
      ]
     },
     "execution_count": 98,
     "metadata": {},
     "output_type": "execute_result"
    }
   ],
   "source": [
    "train_size = int(len(df_scaled) * 0.70)\n",
    "val_size = len(df_scaled) - train_size\n",
    "\n",
    "train_size, val_size"
   ]
  },
  {
   "cell_type": "code",
   "execution_count": 99,
   "id": "22b9306b-1512-413a-b4f7-eab8ac41d5bc",
   "metadata": {},
   "outputs": [
    {
     "data": {
      "text/plain": [
       "((42, 1), (18, 1))"
      ]
     },
     "execution_count": 99,
     "metadata": {},
     "output_type": "execute_result"
    }
   ],
   "source": [
    "train_data, val_data = df_scaled[0:train_size, :], df_scaled[train_size:len(df_scaled), :1]\n",
    "train_data.shape, val_data.shape"
   ]
  },
  {
   "cell_type": "code",
   "execution_count": 100,
   "id": "35fc430c-a9ee-43c8-baad-6eab1fdd3fd1",
   "metadata": {},
   "outputs": [
    {
     "data": {
      "text/plain": [
       "((42,), (18,))"
      ]
     },
     "execution_count": 100,
     "metadata": {},
     "output_type": "execute_result"
    }
   ],
   "source": [
    "train_data_year, val_data_year = df_year[0:train_size], df_year[train_size:len(df_year)]\n",
    "train_data_year.shape, val_data_year.shape"
   ]
  },
  {
   "cell_type": "markdown",
   "id": "b14b1c80-9a8f-496f-972d-9b4c230b793e",
   "metadata": {},
   "source": [
    "### Prepare data for LSTM modelling\n",
    "- In sequential models we assume that, the output at some timestep is dependent on it's previous values.\n",
    "- So, here we will prepare a **supervised learning** dataset by taking 5 values as inputs and 6th value as the output. (window_size = 6) \n",
    "- Then we repeat the process by shifting the values one by one to generate the new supervides learning dataset for LSTM."
   ]
  },
  {
   "cell_type": "code",
   "execution_count": 101,
   "id": "da073af7-3c37-4b35-ad90-103b5d31fc31",
   "metadata": {},
   "outputs": [],
   "source": [
    "def create_dataset(dataset, window_size=1):\n",
    "    \"\"\"\n",
    "    Prepare supervised learning dataset from time series data for LSTM model.\n",
    "    \n",
    "    Arguments:\n",
    "    dataset -- Pandas Array: Time series values for prepreocessing\n",
    "    window_size -- Integer: How many time steps as inputs of the resulting supervised learning dataset.\n",
    "    \n",
    "    Return:\n",
    "    Tuple object containing data for inputs and outputs\n",
    "    \"\"\"\n",
    "    \n",
    "    dataX, dataY = [], []\n",
    "    \n",
    "    for i in range(len(dataset) - window_size - 1):\n",
    "        a = dataset[i:(i + window_size), 0]\n",
    "        dataX.append(a)\n",
    "        dataY.append(dataset[i + window_size, 0])\n",
    "        \n",
    "    return np.array(dataX), np.array(dataY)       \n",
    "        "
   ]
  },
  {
   "cell_type": "code",
   "execution_count": 102,
   "id": "22f07ec4-8340-4fd1-a44c-9e7c2fa06bb4",
   "metadata": {},
   "outputs": [
    {
     "data": {
      "application/javascript": [
       "\n",
       "        if (window._pyforest_update_imports_cell) { window._pyforest_update_imports_cell('import numpy as np'); }\n",
       "    "
      ],
      "text/plain": [
       "<IPython.core.display.Javascript object>"
      ]
     },
     "metadata": {},
     "output_type": "display_data"
    },
    {
     "data": {
      "application/javascript": [
       "\n",
       "        if (window._pyforest_update_imports_cell) { window._pyforest_update_imports_cell('import numpy as np'); }\n",
       "    "
      ],
      "text/plain": [
       "<IPython.core.display.Javascript object>"
      ]
     },
     "metadata": {},
     "output_type": "display_data"
    },
    {
     "data": {
      "application/javascript": [
       "\n",
       "        if (window._pyforest_update_imports_cell) { window._pyforest_update_imports_cell('import numpy as np'); }\n",
       "    "
      ],
      "text/plain": [
       "<IPython.core.display.Javascript object>"
      ]
     },
     "metadata": {},
     "output_type": "display_data"
    },
    {
     "data": {
      "application/javascript": [
       "\n",
       "        if (window._pyforest_update_imports_cell) { window._pyforest_update_imports_cell('import numpy as np'); }\n",
       "    "
      ],
      "text/plain": [
       "<IPython.core.display.Javascript object>"
      ]
     },
     "metadata": {},
     "output_type": "display_data"
    }
   ],
   "source": [
    "window_size = 2\n",
    "X_train, y_train = create_dataset(train_data, window_size)\n",
    "X_val, y_val = create_dataset(val_data, window_size)"
   ]
  },
  {
   "cell_type": "code",
   "execution_count": 103,
   "id": "cfb08952-85e1-4f4d-8109-cf769d1f10bb",
   "metadata": {},
   "outputs": [
    {
     "data": {
      "text/plain": [
       "((39, 2), (39,), (15, 2), (15,))"
      ]
     },
     "execution_count": 103,
     "metadata": {},
     "output_type": "execute_result"
    }
   ],
   "source": [
    "X_train.shape, y_train.shape, X_val.shape, y_val.shape"
   ]
  },
  {
   "cell_type": "markdown",
   "id": "a803949e-8aba-4a45-af3f-1e2df5c584f4",
   "metadata": {},
   "source": [
    "### Reshape train and validation sets for LSTM\n",
    "- For LSTM, we need to reshape out data as 3D matrix. - *(samples, window_size, features/variables)*\n",
    "- In this project we do univariate LSTM model. So, the last dimension will be 1"
   ]
  },
  {
   "cell_type": "code",
   "execution_count": 104,
   "id": "4dd6613b-f60e-40b6-848b-32509da08bdb",
   "metadata": {},
   "outputs": [],
   "source": [
    "X_train = X_train.reshape(X_train.shape[0], X_train.shape[1], 1)\n",
    "X_val = X_val.reshape(X_val.shape[0], X_val.shape[1], 1)"
   ]
  },
  {
   "cell_type": "code",
   "execution_count": 105,
   "id": "88d2d2d2-24ec-4bc3-8f53-2742887dabb5",
   "metadata": {},
   "outputs": [
    {
     "data": {
      "text/plain": [
       "(39, 2, 1)"
      ]
     },
     "execution_count": 105,
     "metadata": {},
     "output_type": "execute_result"
    }
   ],
   "source": [
    "X_train.shape"
   ]
  },
  {
   "cell_type": "markdown",
   "id": "6b051177-0328-4bb7-9161-92e2ab0754cc",
   "metadata": {},
   "source": [
    "## Prepare LSTM model"
   ]
  },
  {
   "cell_type": "code",
   "execution_count": 106,
   "id": "7fb25f88-43aa-448c-b022-53e9b963cb65",
   "metadata": {},
   "outputs": [
    {
     "name": "stdout",
     "output_type": "stream",
     "text": [
      "Model: \"sequential_2\"\n",
      "_________________________________________________________________\n",
      " Layer (type)                Output Shape              Param #   \n",
      "=================================================================\n",
      " lstm_2 (LSTM)               (None, 64)                16896     \n",
      "                                                                 \n",
      " dense_8 (Dense)             (None, 32)                2080      \n",
      "                                                                 \n",
      " dense_9 (Dense)             (None, 32)                1056      \n",
      "                                                                 \n",
      " dense_10 (Dense)            (None, 32)                1056      \n",
      "                                                                 \n",
      " dense_11 (Dense)            (None, 1)                 33        \n",
      "                                                                 \n",
      "=================================================================\n",
      "Total params: 21121 (82.50 KB)\n",
      "Trainable params: 21121 (82.50 KB)\n",
      "Non-trainable params: 0 (0.00 Byte)\n",
      "_________________________________________________________________\n"
     ]
    }
   ],
   "source": [
    "model = Sequential()\n",
    "model.add(InputLayer((window_size, 1)))\n",
    "model.add(LSTM(64))\n",
    "model.add(Dense(32, activation='relu'))\n",
    "model.add(Dense(32, activation='relu'))\n",
    "model.add(Dense(32, activation='relu'))\n",
    "model.add(Dense(1))\n",
    "\n",
    "model.summary()"
   ]
  },
  {
   "cell_type": "markdown",
   "id": "31878148-a01f-4a16-a36f-553c846423a6",
   "metadata": {},
   "source": [
    "### Compile and fit the model\n",
    "I use following configurations to fit the model\n",
    "- **Adam** optimizer with learning rate 0.001\n",
    "- Save the best model instance as checkpoint separately."
   ]
  },
  {
   "cell_type": "code",
   "execution_count": 107,
   "id": "9dbc127d-e600-4e75-b94a-23a668601c95",
   "metadata": {},
   "outputs": [],
   "source": [
    "cp1 = ModelCheckpoint('model/', save_best_only=True)\n",
    "optimizer = Adam(learning_rate=0.0001)\n",
    "model.compile(loss=MeanSquaredError(), optimizer=optimizer, metrics=[RootMeanSquaredError()])"
   ]
  },
  {
   "cell_type": "code",
   "execution_count": 108,
   "id": "549fb0fb-adfb-46ff-a463-4cd79098e745",
   "metadata": {},
   "outputs": [
    {
     "name": "stdout",
     "output_type": "stream",
     "text": [
      "Epoch 1/200\n",
      "1/2 [==============>...............] - ETA: 1s - loss: 0.0168 - root_mean_squared_error: 0.1298INFO:tensorflow:Assets written to: model\\assets\n"
     ]
    },
    {
     "name": "stderr",
     "output_type": "stream",
     "text": [
      "INFO:tensorflow:Assets written to: model\\assets\n"
     ]
    },
    {
     "name": "stdout",
     "output_type": "stream",
     "text": [
      "2/2 [==============================] - 5s 3s/step - loss: 0.0193 - root_mean_squared_error: 0.1391 - val_loss: 0.4627 - val_root_mean_squared_error: 0.6802\n",
      "Epoch 2/200\n",
      "1/2 [==============>...............] - ETA: 0s - loss: 0.0158 - root_mean_squared_error: 0.1258INFO:tensorflow:Assets written to: model\\assets\n"
     ]
    },
    {
     "name": "stderr",
     "output_type": "stream",
     "text": [
      "INFO:tensorflow:Assets written to: model\\assets\n"
     ]
    },
    {
     "name": "stdout",
     "output_type": "stream",
     "text": [
      "2/2 [==============================] - 3s 3s/step - loss: 0.0188 - root_mean_squared_error: 0.1372 - val_loss: 0.4579 - val_root_mean_squared_error: 0.6766\n",
      "Epoch 3/200\n",
      "1/2 [==============>...............] - ETA: 0s - loss: 0.0160 - root_mean_squared_error: 0.1264INFO:tensorflow:Assets written to: model\\assets\n"
     ]
    },
    {
     "name": "stderr",
     "output_type": "stream",
     "text": [
      "INFO:tensorflow:Assets written to: model\\assets\n"
     ]
    },
    {
     "name": "stdout",
     "output_type": "stream",
     "text": [
      "2/2 [==============================] - 2s 2s/step - loss: 0.0184 - root_mean_squared_error: 0.1355 - val_loss: 0.4530 - val_root_mean_squared_error: 0.6730\n",
      "Epoch 4/200\n",
      "1/2 [==============>...............] - ETA: 0s - loss: 0.0177 - root_mean_squared_error: 0.1330INFO:tensorflow:Assets written to: model\\assets\n"
     ]
    },
    {
     "name": "stderr",
     "output_type": "stream",
     "text": [
      "INFO:tensorflow:Assets written to: model\\assets\n"
     ]
    },
    {
     "name": "stdout",
     "output_type": "stream",
     "text": [
      "2/2 [==============================] - 2s 2s/step - loss: 0.0179 - root_mean_squared_error: 0.1340 - val_loss: 0.4482 - val_root_mean_squared_error: 0.6695\n",
      "Epoch 5/200\n",
      "1/2 [==============>...............] - ETA: 0s - loss: 0.0123 - root_mean_squared_error: 0.1110INFO:tensorflow:Assets written to: model\\assets\n"
     ]
    },
    {
     "name": "stderr",
     "output_type": "stream",
     "text": [
      "INFO:tensorflow:Assets written to: model\\assets\n"
     ]
    },
    {
     "name": "stdout",
     "output_type": "stream",
     "text": [
      "2/2 [==============================] - 2s 2s/step - loss: 0.0175 - root_mean_squared_error: 0.1324 - val_loss: 0.4436 - val_root_mean_squared_error: 0.6660\n",
      "Epoch 6/200\n",
      "1/2 [==============>...............] - ETA: 0s - loss: 0.0170 - root_mean_squared_error: 0.1305INFO:tensorflow:Assets written to: model\\assets\n"
     ]
    },
    {
     "name": "stderr",
     "output_type": "stream",
     "text": [
      "INFO:tensorflow:Assets written to: model\\assets\n"
     ]
    },
    {
     "name": "stdout",
     "output_type": "stream",
     "text": [
      "2/2 [==============================] - 3s 3s/step - loss: 0.0172 - root_mean_squared_error: 0.1312 - val_loss: 0.4391 - val_root_mean_squared_error: 0.6627\n",
      "Epoch 7/200\n",
      "1/2 [==============>...............] - ETA: 0s - loss: 0.0171 - root_mean_squared_error: 0.1308INFO:tensorflow:Assets written to: model\\assets\n"
     ]
    },
    {
     "name": "stderr",
     "output_type": "stream",
     "text": [
      "INFO:tensorflow:Assets written to: model\\assets\n"
     ]
    },
    {
     "name": "stdout",
     "output_type": "stream",
     "text": [
      "2/2 [==============================] - 3s 2s/step - loss: 0.0169 - root_mean_squared_error: 0.1298 - val_loss: 0.4349 - val_root_mean_squared_error: 0.6595\n",
      "Epoch 8/200\n",
      "1/2 [==============>...............] - ETA: 0s - loss: 0.0197 - root_mean_squared_error: 0.1403INFO:tensorflow:Assets written to: model\\assets\n"
     ]
    },
    {
     "name": "stderr",
     "output_type": "stream",
     "text": [
      "INFO:tensorflow:Assets written to: model\\assets\n"
     ]
    },
    {
     "name": "stdout",
     "output_type": "stream",
     "text": [
      "2/2 [==============================] - 3s 3s/step - loss: 0.0165 - root_mean_squared_error: 0.1286 - val_loss: 0.4309 - val_root_mean_squared_error: 0.6565\n",
      "Epoch 9/200\n",
      "1/2 [==============>...............] - ETA: 0s - loss: 0.0171 - root_mean_squared_error: 0.1309INFO:tensorflow:Assets written to: model\\assets\n"
     ]
    },
    {
     "name": "stderr",
     "output_type": "stream",
     "text": [
      "INFO:tensorflow:Assets written to: model\\assets\n"
     ]
    },
    {
     "name": "stdout",
     "output_type": "stream",
     "text": [
      "2/2 [==============================] - 2s 2s/step - loss: 0.0162 - root_mean_squared_error: 0.1273 - val_loss: 0.4271 - val_root_mean_squared_error: 0.6536\n",
      "Epoch 10/200\n",
      "1/2 [==============>...............] - ETA: 0s - loss: 0.0164 - root_mean_squared_error: 0.1280INFO:tensorflow:Assets written to: model\\assets\n"
     ]
    },
    {
     "name": "stderr",
     "output_type": "stream",
     "text": [
      "INFO:tensorflow:Assets written to: model\\assets\n"
     ]
    },
    {
     "name": "stdout",
     "output_type": "stream",
     "text": [
      "2/2 [==============================] - 2s 2s/step - loss: 0.0159 - root_mean_squared_error: 0.1261 - val_loss: 0.4234 - val_root_mean_squared_error: 0.6507\n",
      "Epoch 11/200\n",
      "1/2 [==============>...............] - ETA: 0s - loss: 0.0185 - root_mean_squared_error: 0.1360INFO:tensorflow:Assets written to: model\\assets\n"
     ]
    },
    {
     "name": "stderr",
     "output_type": "stream",
     "text": [
      "INFO:tensorflow:Assets written to: model\\assets\n"
     ]
    },
    {
     "name": "stdout",
     "output_type": "stream",
     "text": [
      "2/2 [==============================] - 2s 2s/step - loss: 0.0156 - root_mean_squared_error: 0.1250 - val_loss: 0.4198 - val_root_mean_squared_error: 0.6479\n",
      "Epoch 12/200\n",
      "1/2 [==============>...............] - ETA: 0s - loss: 0.0157 - root_mean_squared_error: 0.1253INFO:tensorflow:Assets written to: model\\assets\n"
     ]
    },
    {
     "name": "stderr",
     "output_type": "stream",
     "text": [
      "INFO:tensorflow:Assets written to: model\\assets\n"
     ]
    },
    {
     "name": "stdout",
     "output_type": "stream",
     "text": [
      "2/2 [==============================] - 3s 3s/step - loss: 0.0153 - root_mean_squared_error: 0.1239 - val_loss: 0.4163 - val_root_mean_squared_error: 0.6452\n",
      "Epoch 13/200\n",
      "1/2 [==============>...............] - ETA: 0s - loss: 0.0123 - root_mean_squared_error: 0.1109INFO:tensorflow:Assets written to: model\\assets\n"
     ]
    },
    {
     "name": "stderr",
     "output_type": "stream",
     "text": [
      "INFO:tensorflow:Assets written to: model\\assets\n"
     ]
    },
    {
     "name": "stdout",
     "output_type": "stream",
     "text": [
      "2/2 [==============================] - 3s 3s/step - loss: 0.0151 - root_mean_squared_error: 0.1227 - val_loss: 0.4129 - val_root_mean_squared_error: 0.6426\n",
      "Epoch 14/200\n",
      "1/2 [==============>...............] - ETA: 0s - loss: 0.0172 - root_mean_squared_error: 0.1311INFO:tensorflow:Assets written to: model\\assets\n"
     ]
    },
    {
     "name": "stderr",
     "output_type": "stream",
     "text": [
      "INFO:tensorflow:Assets written to: model\\assets\n"
     ]
    },
    {
     "name": "stdout",
     "output_type": "stream",
     "text": [
      "2/2 [==============================] - 2s 2s/step - loss: 0.0148 - root_mean_squared_error: 0.1217 - val_loss: 0.4095 - val_root_mean_squared_error: 0.6399\n",
      "Epoch 15/200\n",
      "1/2 [==============>...............] - ETA: 0s - loss: 0.0124 - root_mean_squared_error: 0.1114INFO:tensorflow:Assets written to: model\\assets\n"
     ]
    },
    {
     "name": "stderr",
     "output_type": "stream",
     "text": [
      "INFO:tensorflow:Assets written to: model\\assets\n"
     ]
    },
    {
     "name": "stdout",
     "output_type": "stream",
     "text": [
      "2/2 [==============================] - 3s 3s/step - loss: 0.0145 - root_mean_squared_error: 0.1206 - val_loss: 0.4062 - val_root_mean_squared_error: 0.6373\n",
      "Epoch 16/200\n",
      "1/2 [==============>...............] - ETA: 0s - loss: 0.0148 - root_mean_squared_error: 0.1215INFO:tensorflow:Assets written to: model\\assets\n"
     ]
    },
    {
     "name": "stderr",
     "output_type": "stream",
     "text": [
      "INFO:tensorflow:Assets written to: model\\assets\n"
     ]
    },
    {
     "name": "stdout",
     "output_type": "stream",
     "text": [
      "2/2 [==============================] - 3s 3s/step - loss: 0.0143 - root_mean_squared_error: 0.1195 - val_loss: 0.4029 - val_root_mean_squared_error: 0.6347\n",
      "Epoch 17/200\n",
      "1/2 [==============>...............] - ETA: 0s - loss: 0.0161 - root_mean_squared_error: 0.1268INFO:tensorflow:Assets written to: model\\assets\n"
     ]
    },
    {
     "name": "stderr",
     "output_type": "stream",
     "text": [
      "INFO:tensorflow:Assets written to: model\\assets\n"
     ]
    },
    {
     "name": "stdout",
     "output_type": "stream",
     "text": [
      "2/2 [==============================] - 3s 3s/step - loss: 0.0140 - root_mean_squared_error: 0.1184 - val_loss: 0.3997 - val_root_mean_squared_error: 0.6322\n",
      "Epoch 18/200\n",
      "1/2 [==============>...............] - ETA: 0s - loss: 0.0160 - root_mean_squared_error: 0.1264INFO:tensorflow:Assets written to: model\\assets\n"
     ]
    },
    {
     "name": "stderr",
     "output_type": "stream",
     "text": [
      "INFO:tensorflow:Assets written to: model\\assets\n"
     ]
    },
    {
     "name": "stdout",
     "output_type": "stream",
     "text": [
      "2/2 [==============================] - 3s 3s/step - loss: 0.0138 - root_mean_squared_error: 0.1173 - val_loss: 0.3966 - val_root_mean_squared_error: 0.6298\n",
      "Epoch 19/200\n",
      "1/2 [==============>...............] - ETA: 0s - loss: 0.0139 - root_mean_squared_error: 0.1179INFO:tensorflow:Assets written to: model\\assets\n"
     ]
    },
    {
     "name": "stderr",
     "output_type": "stream",
     "text": [
      "INFO:tensorflow:Assets written to: model\\assets\n"
     ]
    },
    {
     "name": "stdout",
     "output_type": "stream",
     "text": [
      "2/2 [==============================] - 2s 2s/step - loss: 0.0135 - root_mean_squared_error: 0.1162 - val_loss: 0.3937 - val_root_mean_squared_error: 0.6274\n",
      "Epoch 20/200\n",
      "1/2 [==============>...............] - ETA: 0s - loss: 0.0115 - root_mean_squared_error: 0.1071INFO:tensorflow:Assets written to: model\\assets\n"
     ]
    },
    {
     "name": "stderr",
     "output_type": "stream",
     "text": [
      "INFO:tensorflow:Assets written to: model\\assets\n"
     ]
    },
    {
     "name": "stdout",
     "output_type": "stream",
     "text": [
      "2/2 [==============================] - 2s 2s/step - loss: 0.0132 - root_mean_squared_error: 0.1151 - val_loss: 0.3907 - val_root_mean_squared_error: 0.6250\n",
      "Epoch 21/200\n",
      "1/2 [==============>...............] - ETA: 0s - loss: 0.0155 - root_mean_squared_error: 0.1247INFO:tensorflow:Assets written to: model\\assets\n"
     ]
    },
    {
     "name": "stderr",
     "output_type": "stream",
     "text": [
      "INFO:tensorflow:Assets written to: model\\assets\n"
     ]
    },
    {
     "name": "stdout",
     "output_type": "stream",
     "text": [
      "2/2 [==============================] - 2s 2s/step - loss: 0.0130 - root_mean_squared_error: 0.1141 - val_loss: 0.3876 - val_root_mean_squared_error: 0.6226\n",
      "Epoch 22/200\n",
      "1/2 [==============>...............] - ETA: 0s - loss: 0.0103 - root_mean_squared_error: 0.1015INFO:tensorflow:Assets written to: model\\assets\n"
     ]
    },
    {
     "name": "stderr",
     "output_type": "stream",
     "text": [
      "INFO:tensorflow:Assets written to: model\\assets\n"
     ]
    },
    {
     "name": "stdout",
     "output_type": "stream",
     "text": [
      "2/2 [==============================] - 2s 2s/step - loss: 0.0128 - root_mean_squared_error: 0.1130 - val_loss: 0.3847 - val_root_mean_squared_error: 0.6202\n",
      "Epoch 23/200\n",
      "1/2 [==============>...............] - ETA: 0s - loss: 0.0148 - root_mean_squared_error: 0.1218INFO:tensorflow:Assets written to: model\\assets\n"
     ]
    },
    {
     "name": "stderr",
     "output_type": "stream",
     "text": [
      "INFO:tensorflow:Assets written to: model\\assets\n"
     ]
    },
    {
     "name": "stdout",
     "output_type": "stream",
     "text": [
      "2/2 [==============================] - 2s 2s/step - loss: 0.0125 - root_mean_squared_error: 0.1120 - val_loss: 0.3816 - val_root_mean_squared_error: 0.6178\n",
      "Epoch 24/200\n",
      "1/2 [==============>...............] - ETA: 0s - loss: 0.0148 - root_mean_squared_error: 0.1215INFO:tensorflow:Assets written to: model\\assets\n"
     ]
    },
    {
     "name": "stderr",
     "output_type": "stream",
     "text": [
      "INFO:tensorflow:Assets written to: model\\assets\n"
     ]
    },
    {
     "name": "stdout",
     "output_type": "stream",
     "text": [
      "2/2 [==============================] - 3s 3s/step - loss: 0.0123 - root_mean_squared_error: 0.1109 - val_loss: 0.3787 - val_root_mean_squared_error: 0.6154\n",
      "Epoch 25/200\n",
      "1/2 [==============>...............] - ETA: 0s - loss: 0.0121 - root_mean_squared_error: 0.1101INFO:tensorflow:Assets written to: model\\assets\n"
     ]
    },
    {
     "name": "stderr",
     "output_type": "stream",
     "text": [
      "INFO:tensorflow:Assets written to: model\\assets\n"
     ]
    },
    {
     "name": "stdout",
     "output_type": "stream",
     "text": [
      "2/2 [==============================] - 3s 3s/step - loss: 0.0120 - root_mean_squared_error: 0.1097 - val_loss: 0.3759 - val_root_mean_squared_error: 0.6131\n",
      "Epoch 26/200\n",
      "1/2 [==============>...............] - ETA: 0s - loss: 0.0117 - root_mean_squared_error: 0.1080INFO:tensorflow:Assets written to: model\\assets\n"
     ]
    },
    {
     "name": "stderr",
     "output_type": "stream",
     "text": [
      "INFO:tensorflow:Assets written to: model\\assets\n"
     ]
    },
    {
     "name": "stdout",
     "output_type": "stream",
     "text": [
      "2/2 [==============================] - 2s 2s/step - loss: 0.0118 - root_mean_squared_error: 0.1086 - val_loss: 0.3730 - val_root_mean_squared_error: 0.6107\n",
      "Epoch 27/200\n",
      "1/2 [==============>...............] - ETA: 0s - loss: 0.0139 - root_mean_squared_error: 0.1178INFO:tensorflow:Assets written to: model\\assets\n"
     ]
    },
    {
     "name": "stderr",
     "output_type": "stream",
     "text": [
      "INFO:tensorflow:Assets written to: model\\assets\n"
     ]
    },
    {
     "name": "stdout",
     "output_type": "stream",
     "text": [
      "2/2 [==============================] - 2s 2s/step - loss: 0.0116 - root_mean_squared_error: 0.1076 - val_loss: 0.3701 - val_root_mean_squared_error: 0.6083\n",
      "Epoch 28/200\n",
      "1/2 [==============>...............] - ETA: 0s - loss: 0.0133 - root_mean_squared_error: 0.1155INFO:tensorflow:Assets written to: model\\assets\n"
     ]
    },
    {
     "name": "stderr",
     "output_type": "stream",
     "text": [
      "INFO:tensorflow:Assets written to: model\\assets\n"
     ]
    },
    {
     "name": "stdout",
     "output_type": "stream",
     "text": [
      "2/2 [==============================] - 2s 2s/step - loss: 0.0113 - root_mean_squared_error: 0.1065 - val_loss: 0.3672 - val_root_mean_squared_error: 0.6060\n",
      "Epoch 29/200\n",
      "1/2 [==============>...............] - ETA: 0s - loss: 0.0118 - root_mean_squared_error: 0.1087INFO:tensorflow:Assets written to: model\\assets\n"
     ]
    },
    {
     "name": "stderr",
     "output_type": "stream",
     "text": [
      "INFO:tensorflow:Assets written to: model\\assets\n"
     ]
    },
    {
     "name": "stdout",
     "output_type": "stream",
     "text": [
      "2/2 [==============================] - 3s 3s/step - loss: 0.0111 - root_mean_squared_error: 0.1054 - val_loss: 0.3643 - val_root_mean_squared_error: 0.6036\n",
      "Epoch 30/200\n",
      "1/2 [==============>...............] - ETA: 0s - loss: 0.0111 - root_mean_squared_error: 0.1052INFO:tensorflow:Assets written to: model\\assets\n"
     ]
    },
    {
     "name": "stderr",
     "output_type": "stream",
     "text": [
      "INFO:tensorflow:Assets written to: model\\assets\n"
     ]
    },
    {
     "name": "stdout",
     "output_type": "stream",
     "text": [
      "2/2 [==============================] - 3s 3s/step - loss: 0.0109 - root_mean_squared_error: 0.1044 - val_loss: 0.3613 - val_root_mean_squared_error: 0.6011\n",
      "Epoch 31/200\n",
      "1/2 [==============>...............] - ETA: 0s - loss: 0.0075 - root_mean_squared_error: 0.0865INFO:tensorflow:Assets written to: model\\assets\n"
     ]
    },
    {
     "name": "stderr",
     "output_type": "stream",
     "text": [
      "INFO:tensorflow:Assets written to: model\\assets\n"
     ]
    },
    {
     "name": "stdout",
     "output_type": "stream",
     "text": [
      "2/2 [==============================] - 3s 3s/step - loss: 0.0107 - root_mean_squared_error: 0.1033 - val_loss: 0.3581 - val_root_mean_squared_error: 0.5984\n",
      "Epoch 32/200\n",
      "1/2 [==============>...............] - ETA: 0s - loss: 0.0087 - root_mean_squared_error: 0.0932INFO:tensorflow:Assets written to: model\\assets\n"
     ]
    },
    {
     "name": "stderr",
     "output_type": "stream",
     "text": [
      "INFO:tensorflow:Assets written to: model\\assets\n"
     ]
    },
    {
     "name": "stdout",
     "output_type": "stream",
     "text": [
      "2/2 [==============================] - 2s 2s/step - loss: 0.0105 - root_mean_squared_error: 0.1023 - val_loss: 0.3545 - val_root_mean_squared_error: 0.5954\n",
      "Epoch 33/200\n",
      "1/2 [==============>...............] - ETA: 0s - loss: 0.0098 - root_mean_squared_error: 0.0990INFO:tensorflow:Assets written to: model\\assets\n"
     ]
    },
    {
     "name": "stderr",
     "output_type": "stream",
     "text": [
      "INFO:tensorflow:Assets written to: model\\assets\n"
     ]
    },
    {
     "name": "stdout",
     "output_type": "stream",
     "text": [
      "2/2 [==============================] - 2s 2s/step - loss: 0.0102 - root_mean_squared_error: 0.1012 - val_loss: 0.3508 - val_root_mean_squared_error: 0.5923\n",
      "Epoch 34/200\n",
      "1/2 [==============>...............] - ETA: 0s - loss: 0.0119 - root_mean_squared_error: 0.1092INFO:tensorflow:Assets written to: model\\assets\n"
     ]
    },
    {
     "name": "stderr",
     "output_type": "stream",
     "text": [
      "INFO:tensorflow:Assets written to: model\\assets\n"
     ]
    },
    {
     "name": "stdout",
     "output_type": "stream",
     "text": [
      "2/2 [==============================] - 3s 3s/step - loss: 0.0101 - root_mean_squared_error: 0.1003 - val_loss: 0.3471 - val_root_mean_squared_error: 0.5892\n",
      "Epoch 35/200\n",
      "1/2 [==============>...............] - ETA: 0s - loss: 0.0102 - root_mean_squared_error: 0.1011INFO:tensorflow:Assets written to: model\\assets\n"
     ]
    },
    {
     "name": "stderr",
     "output_type": "stream",
     "text": [
      "INFO:tensorflow:Assets written to: model\\assets\n"
     ]
    },
    {
     "name": "stdout",
     "output_type": "stream",
     "text": [
      "2/2 [==============================] - 2s 2s/step - loss: 0.0098 - root_mean_squared_error: 0.0992 - val_loss: 0.3435 - val_root_mean_squared_error: 0.5861\n",
      "Epoch 36/200\n",
      "1/2 [==============>...............] - ETA: 0s - loss: 0.0096 - root_mean_squared_error: 0.0978INFO:tensorflow:Assets written to: model\\assets\n"
     ]
    },
    {
     "name": "stderr",
     "output_type": "stream",
     "text": [
      "INFO:tensorflow:Assets written to: model\\assets\n"
     ]
    },
    {
     "name": "stdout",
     "output_type": "stream",
     "text": [
      "2/2 [==============================] - 2s 2s/step - loss: 0.0097 - root_mean_squared_error: 0.0983 - val_loss: 0.3399 - val_root_mean_squared_error: 0.5830\n",
      "Epoch 37/200\n",
      "1/2 [==============>...............] - ETA: 0s - loss: 0.0078 - root_mean_squared_error: 0.0882INFO:tensorflow:Assets written to: model\\assets\n"
     ]
    },
    {
     "name": "stderr",
     "output_type": "stream",
     "text": [
      "INFO:tensorflow:Assets written to: model\\assets\n"
     ]
    },
    {
     "name": "stdout",
     "output_type": "stream",
     "text": [
      "2/2 [==============================] - 3s 3s/step - loss: 0.0095 - root_mean_squared_error: 0.0973 - val_loss: 0.3363 - val_root_mean_squared_error: 0.5799\n",
      "Epoch 38/200\n",
      "1/2 [==============>...............] - ETA: 0s - loss: 0.0111 - root_mean_squared_error: 0.1054INFO:tensorflow:Assets written to: model\\assets\n"
     ]
    },
    {
     "name": "stderr",
     "output_type": "stream",
     "text": [
      "INFO:tensorflow:Assets written to: model\\assets\n"
     ]
    },
    {
     "name": "stdout",
     "output_type": "stream",
     "text": [
      "2/2 [==============================] - 2s 2s/step - loss: 0.0093 - root_mean_squared_error: 0.0965 - val_loss: 0.3326 - val_root_mean_squared_error: 0.5767\n",
      "Epoch 39/200\n",
      "1/2 [==============>...............] - ETA: 0s - loss: 0.0078 - root_mean_squared_error: 0.0884INFO:tensorflow:Assets written to: model\\assets\n"
     ]
    },
    {
     "name": "stderr",
     "output_type": "stream",
     "text": [
      "INFO:tensorflow:Assets written to: model\\assets\n"
     ]
    },
    {
     "name": "stdout",
     "output_type": "stream",
     "text": [
      "2/2 [==============================] - 3s 3s/step - loss: 0.0091 - root_mean_squared_error: 0.0955 - val_loss: 0.3291 - val_root_mean_squared_error: 0.5737\n",
      "Epoch 40/200\n",
      "1/2 [==============>...............] - ETA: 0s - loss: 0.0107 - root_mean_squared_error: 0.1033INFO:tensorflow:Assets written to: model\\assets\n"
     ]
    },
    {
     "name": "stderr",
     "output_type": "stream",
     "text": [
      "INFO:tensorflow:Assets written to: model\\assets\n"
     ]
    },
    {
     "name": "stdout",
     "output_type": "stream",
     "text": [
      "2/2 [==============================] - 2s 2s/step - loss: 0.0090 - root_mean_squared_error: 0.0948 - val_loss: 0.3257 - val_root_mean_squared_error: 0.5707\n",
      "Epoch 41/200\n",
      "1/2 [==============>...............] - ETA: 0s - loss: 0.0038 - root_mean_squared_error: 0.0612INFO:tensorflow:Assets written to: model\\assets\n"
     ]
    },
    {
     "name": "stderr",
     "output_type": "stream",
     "text": [
      "INFO:tensorflow:Assets written to: model\\assets\n"
     ]
    },
    {
     "name": "stdout",
     "output_type": "stream",
     "text": [
      "2/2 [==============================] - 2s 2s/step - loss: 0.0088 - root_mean_squared_error: 0.0938 - val_loss: 0.3224 - val_root_mean_squared_error: 0.5678\n",
      "Epoch 42/200\n",
      "1/2 [==============>...............] - ETA: 0s - loss: 0.0098 - root_mean_squared_error: 0.0992INFO:tensorflow:Assets written to: model\\assets\n"
     ]
    },
    {
     "name": "stderr",
     "output_type": "stream",
     "text": [
      "INFO:tensorflow:Assets written to: model\\assets\n"
     ]
    },
    {
     "name": "stdout",
     "output_type": "stream",
     "text": [
      "2/2 [==============================] - 2s 2s/step - loss: 0.0087 - root_mean_squared_error: 0.0932 - val_loss: 0.3189 - val_root_mean_squared_error: 0.5647\n",
      "Epoch 43/200\n",
      "1/2 [==============>...............] - ETA: 0s - loss: 0.0100 - root_mean_squared_error: 0.0998INFO:tensorflow:Assets written to: model\\assets\n"
     ]
    },
    {
     "name": "stderr",
     "output_type": "stream",
     "text": [
      "INFO:tensorflow:Assets written to: model\\assets\n"
     ]
    },
    {
     "name": "stdout",
     "output_type": "stream",
     "text": [
      "2/2 [==============================] - 3s 3s/step - loss: 0.0085 - root_mean_squared_error: 0.0924 - val_loss: 0.3156 - val_root_mean_squared_error: 0.5618\n",
      "Epoch 44/200\n",
      "1/2 [==============>...............] - ETA: 0s - loss: 0.0096 - root_mean_squared_error: 0.0980INFO:tensorflow:Assets written to: model\\assets\n"
     ]
    },
    {
     "name": "stderr",
     "output_type": "stream",
     "text": [
      "INFO:tensorflow:Assets written to: model\\assets\n"
     ]
    },
    {
     "name": "stdout",
     "output_type": "stream",
     "text": [
      "2/2 [==============================] - 2s 2s/step - loss: 0.0084 - root_mean_squared_error: 0.0916 - val_loss: 0.3126 - val_root_mean_squared_error: 0.5591\n",
      "Epoch 45/200\n",
      "1/2 [==============>...............] - ETA: 0s - loss: 0.0099 - root_mean_squared_error: 0.0993INFO:tensorflow:Assets written to: model\\assets\n"
     ]
    },
    {
     "name": "stderr",
     "output_type": "stream",
     "text": [
      "INFO:tensorflow:Assets written to: model\\assets\n"
     ]
    },
    {
     "name": "stdout",
     "output_type": "stream",
     "text": [
      "2/2 [==============================] - 3s 3s/step - loss: 0.0083 - root_mean_squared_error: 0.0909 - val_loss: 0.3098 - val_root_mean_squared_error: 0.5566\n",
      "Epoch 46/200\n",
      "1/2 [==============>...............] - ETA: 0s - loss: 0.0065 - root_mean_squared_error: 0.0805INFO:tensorflow:Assets written to: model\\assets\n"
     ]
    },
    {
     "name": "stderr",
     "output_type": "stream",
     "text": [
      "INFO:tensorflow:Assets written to: model\\assets\n"
     ]
    },
    {
     "name": "stdout",
     "output_type": "stream",
     "text": [
      "2/2 [==============================] - 2s 2s/step - loss: 0.0081 - root_mean_squared_error: 0.0902 - val_loss: 0.3071 - val_root_mean_squared_error: 0.5541\n",
      "Epoch 47/200\n",
      "1/2 [==============>...............] - ETA: 0s - loss: 0.0085 - root_mean_squared_error: 0.0924INFO:tensorflow:Assets written to: model\\assets\n"
     ]
    },
    {
     "name": "stderr",
     "output_type": "stream",
     "text": [
      "INFO:tensorflow:Assets written to: model\\assets\n"
     ]
    },
    {
     "name": "stdout",
     "output_type": "stream",
     "text": [
      "2/2 [==============================] - 2s 2s/step - loss: 0.0080 - root_mean_squared_error: 0.0896 - val_loss: 0.3043 - val_root_mean_squared_error: 0.5516\n",
      "Epoch 48/200\n",
      "1/2 [==============>...............] - ETA: 0s - loss: 0.0081 - root_mean_squared_error: 0.0902INFO:tensorflow:Assets written to: model\\assets\n"
     ]
    },
    {
     "name": "stderr",
     "output_type": "stream",
     "text": [
      "INFO:tensorflow:Assets written to: model\\assets\n"
     ]
    },
    {
     "name": "stdout",
     "output_type": "stream",
     "text": [
      "2/2 [==============================] - 2s 2s/step - loss: 0.0079 - root_mean_squared_error: 0.0890 - val_loss: 0.3016 - val_root_mean_squared_error: 0.5492\n",
      "Epoch 49/200\n",
      "1/2 [==============>...............] - ETA: 0s - loss: 0.0075 - root_mean_squared_error: 0.0864INFO:tensorflow:Assets written to: model\\assets\n"
     ]
    },
    {
     "name": "stderr",
     "output_type": "stream",
     "text": [
      "INFO:tensorflow:Assets written to: model\\assets\n"
     ]
    },
    {
     "name": "stdout",
     "output_type": "stream",
     "text": [
      "2/2 [==============================] - 3s 3s/step - loss: 0.0078 - root_mean_squared_error: 0.0884 - val_loss: 0.2988 - val_root_mean_squared_error: 0.5466\n",
      "Epoch 50/200\n",
      "1/2 [==============>...............] - ETA: 0s - loss: 0.0090 - root_mean_squared_error: 0.0949INFO:tensorflow:Assets written to: model\\assets\n"
     ]
    },
    {
     "name": "stderr",
     "output_type": "stream",
     "text": [
      "INFO:tensorflow:Assets written to: model\\assets\n"
     ]
    },
    {
     "name": "stdout",
     "output_type": "stream",
     "text": [
      "2/2 [==============================] - 3s 3s/step - loss: 0.0077 - root_mean_squared_error: 0.0879 - val_loss: 0.2961 - val_root_mean_squared_error: 0.5441\n",
      "Epoch 51/200\n",
      "1/2 [==============>...............] - ETA: 0s - loss: 0.0061 - root_mean_squared_error: 0.0783INFO:tensorflow:Assets written to: model\\assets\n"
     ]
    },
    {
     "name": "stderr",
     "output_type": "stream",
     "text": [
      "INFO:tensorflow:Assets written to: model\\assets\n"
     ]
    },
    {
     "name": "stdout",
     "output_type": "stream",
     "text": [
      "2/2 [==============================] - 2s 2s/step - loss: 0.0076 - root_mean_squared_error: 0.0872 - val_loss: 0.2933 - val_root_mean_squared_error: 0.5416\n",
      "Epoch 52/200\n",
      "1/2 [==============>...............] - ETA: 0s - loss: 0.0076 - root_mean_squared_error: 0.0873INFO:tensorflow:Assets written to: model\\assets\n"
     ]
    },
    {
     "name": "stderr",
     "output_type": "stream",
     "text": [
      "INFO:tensorflow:Assets written to: model\\assets\n"
     ]
    },
    {
     "name": "stdout",
     "output_type": "stream",
     "text": [
      "2/2 [==============================] - 2s 2s/step - loss: 0.0075 - root_mean_squared_error: 0.0867 - val_loss: 0.2904 - val_root_mean_squared_error: 0.5389\n",
      "Epoch 53/200\n",
      "1/2 [==============>...............] - ETA: 0s - loss: 0.0068 - root_mean_squared_error: 0.0827INFO:tensorflow:Assets written to: model\\assets\n"
     ]
    },
    {
     "name": "stderr",
     "output_type": "stream",
     "text": [
      "INFO:tensorflow:Assets written to: model\\assets\n"
     ]
    },
    {
     "name": "stdout",
     "output_type": "stream",
     "text": [
      "2/2 [==============================] - 2s 2s/step - loss: 0.0074 - root_mean_squared_error: 0.0860 - val_loss: 0.2874 - val_root_mean_squared_error: 0.5361\n",
      "Epoch 54/200\n",
      "1/2 [==============>...............] - ETA: 0s - loss: 0.0061 - root_mean_squared_error: 0.0778INFO:tensorflow:Assets written to: model\\assets\n"
     ]
    },
    {
     "name": "stderr",
     "output_type": "stream",
     "text": [
      "INFO:tensorflow:Assets written to: model\\assets\n"
     ]
    },
    {
     "name": "stdout",
     "output_type": "stream",
     "text": [
      "2/2 [==============================] - 2s 2s/step - loss: 0.0073 - root_mean_squared_error: 0.0854 - val_loss: 0.2843 - val_root_mean_squared_error: 0.5332\n",
      "Epoch 55/200\n",
      "1/2 [==============>...............] - ETA: 0s - loss: 0.0084 - root_mean_squared_error: 0.0918INFO:tensorflow:Assets written to: model\\assets\n"
     ]
    },
    {
     "name": "stderr",
     "output_type": "stream",
     "text": [
      "INFO:tensorflow:Assets written to: model\\assets\n"
     ]
    },
    {
     "name": "stdout",
     "output_type": "stream",
     "text": [
      "2/2 [==============================] - 3s 3s/step - loss: 0.0072 - root_mean_squared_error: 0.0850 - val_loss: 0.2812 - val_root_mean_squared_error: 0.5303\n",
      "Epoch 56/200\n",
      "1/2 [==============>...............] - ETA: 0s - loss: 0.0084 - root_mean_squared_error: 0.0917INFO:tensorflow:Assets written to: model\\assets\n"
     ]
    },
    {
     "name": "stderr",
     "output_type": "stream",
     "text": [
      "INFO:tensorflow:Assets written to: model\\assets\n"
     ]
    },
    {
     "name": "stdout",
     "output_type": "stream",
     "text": [
      "2/2 [==============================] - 2s 2s/step - loss: 0.0071 - root_mean_squared_error: 0.0844 - val_loss: 0.2784 - val_root_mean_squared_error: 0.5276\n",
      "Epoch 57/200\n",
      "1/2 [==============>...............] - ETA: 0s - loss: 0.0083 - root_mean_squared_error: 0.0912INFO:tensorflow:Assets written to: model\\assets\n"
     ]
    },
    {
     "name": "stderr",
     "output_type": "stream",
     "text": [
      "INFO:tensorflow:Assets written to: model\\assets\n"
     ]
    },
    {
     "name": "stdout",
     "output_type": "stream",
     "text": [
      "2/2 [==============================] - 2s 2s/step - loss: 0.0070 - root_mean_squared_error: 0.0839 - val_loss: 0.2758 - val_root_mean_squared_error: 0.5252\n",
      "Epoch 58/200\n",
      "1/2 [==============>...............] - ETA: 0s - loss: 0.0071 - root_mean_squared_error: 0.0843INFO:tensorflow:Assets written to: model\\assets\n"
     ]
    },
    {
     "name": "stderr",
     "output_type": "stream",
     "text": [
      "INFO:tensorflow:Assets written to: model\\assets\n"
     ]
    },
    {
     "name": "stdout",
     "output_type": "stream",
     "text": [
      "2/2 [==============================] - 2s 2s/step - loss: 0.0070 - root_mean_squared_error: 0.0834 - val_loss: 0.2734 - val_root_mean_squared_error: 0.5228\n",
      "Epoch 59/200\n",
      "1/2 [==============>...............] - ETA: 0s - loss: 0.0067 - root_mean_squared_error: 0.0819INFO:tensorflow:Assets written to: model\\assets\n"
     ]
    },
    {
     "name": "stderr",
     "output_type": "stream",
     "text": [
      "INFO:tensorflow:Assets written to: model\\assets\n"
     ]
    },
    {
     "name": "stdout",
     "output_type": "stream",
     "text": [
      "2/2 [==============================] - 2s 2s/step - loss: 0.0069 - root_mean_squared_error: 0.0829 - val_loss: 0.2708 - val_root_mean_squared_error: 0.5204\n",
      "Epoch 60/200\n",
      "1/2 [==============>...............] - ETA: 0s - loss: 0.0080 - root_mean_squared_error: 0.0893INFO:tensorflow:Assets written to: model\\assets\n"
     ]
    },
    {
     "name": "stderr",
     "output_type": "stream",
     "text": [
      "INFO:tensorflow:Assets written to: model\\assets\n"
     ]
    },
    {
     "name": "stdout",
     "output_type": "stream",
     "text": [
      "2/2 [==============================] - 2s 2s/step - loss: 0.0068 - root_mean_squared_error: 0.0826 - val_loss: 0.2683 - val_root_mean_squared_error: 0.5180\n",
      "Epoch 61/200\n",
      "1/2 [==============>...............] - ETA: 0s - loss: 0.0071 - root_mean_squared_error: 0.0840INFO:tensorflow:Assets written to: model\\assets\n"
     ]
    },
    {
     "name": "stderr",
     "output_type": "stream",
     "text": [
      "INFO:tensorflow:Assets written to: model\\assets\n"
     ]
    },
    {
     "name": "stdout",
     "output_type": "stream",
     "text": [
      "2/2 [==============================] - 3s 3s/step - loss: 0.0067 - root_mean_squared_error: 0.0821 - val_loss: 0.2661 - val_root_mean_squared_error: 0.5158\n",
      "Epoch 62/200\n",
      "1/2 [==============>...............] - ETA: 0s - loss: 0.0054 - root_mean_squared_error: 0.0737INFO:tensorflow:Assets written to: model\\assets\n"
     ]
    },
    {
     "name": "stderr",
     "output_type": "stream",
     "text": [
      "INFO:tensorflow:Assets written to: model\\assets\n"
     ]
    },
    {
     "name": "stdout",
     "output_type": "stream",
     "text": [
      "2/2 [==============================] - 3s 3s/step - loss: 0.0067 - root_mean_squared_error: 0.0816 - val_loss: 0.2637 - val_root_mean_squared_error: 0.5135\n",
      "Epoch 63/200\n",
      "1/2 [==============>...............] - ETA: 0s - loss: 0.0041 - root_mean_squared_error: 0.0640INFO:tensorflow:Assets written to: model\\assets\n"
     ]
    },
    {
     "name": "stderr",
     "output_type": "stream",
     "text": [
      "INFO:tensorflow:Assets written to: model\\assets\n"
     ]
    },
    {
     "name": "stdout",
     "output_type": "stream",
     "text": [
      "2/2 [==============================] - 2s 2s/step - loss: 0.0066 - root_mean_squared_error: 0.0811 - val_loss: 0.2609 - val_root_mean_squared_error: 0.5108\n",
      "Epoch 64/200\n",
      "1/2 [==============>...............] - ETA: 0s - loss: 0.0064 - root_mean_squared_error: 0.0799INFO:tensorflow:Assets written to: model\\assets\n"
     ]
    },
    {
     "name": "stderr",
     "output_type": "stream",
     "text": [
      "INFO:tensorflow:Assets written to: model\\assets\n"
     ]
    },
    {
     "name": "stdout",
     "output_type": "stream",
     "text": [
      "2/2 [==============================] - 3s 3s/step - loss: 0.0065 - root_mean_squared_error: 0.0807 - val_loss: 0.2578 - val_root_mean_squared_error: 0.5078\n",
      "Epoch 65/200\n",
      "1/2 [==============>...............] - ETA: 0s - loss: 0.0074 - root_mean_squared_error: 0.0862INFO:tensorflow:Assets written to: model\\assets\n"
     ]
    },
    {
     "name": "stderr",
     "output_type": "stream",
     "text": [
      "INFO:tensorflow:Assets written to: model\\assets\n"
     ]
    },
    {
     "name": "stdout",
     "output_type": "stream",
     "text": [
      "2/2 [==============================] - 2s 2s/step - loss: 0.0064 - root_mean_squared_error: 0.0803 - val_loss: 0.2550 - val_root_mean_squared_error: 0.5050\n",
      "Epoch 66/200\n",
      "1/2 [==============>...............] - ETA: 0s - loss: 0.0074 - root_mean_squared_error: 0.0858INFO:tensorflow:Assets written to: model\\assets\n"
     ]
    },
    {
     "name": "stderr",
     "output_type": "stream",
     "text": [
      "INFO:tensorflow:Assets written to: model\\assets\n"
     ]
    },
    {
     "name": "stdout",
     "output_type": "stream",
     "text": [
      "2/2 [==============================] - 3s 3s/step - loss: 0.0064 - root_mean_squared_error: 0.0798 - val_loss: 0.2526 - val_root_mean_squared_error: 0.5026\n",
      "Epoch 67/200\n",
      "1/2 [==============>...............] - ETA: 0s - loss: 0.0074 - root_mean_squared_error: 0.0858INFO:tensorflow:Assets written to: model\\assets\n"
     ]
    },
    {
     "name": "stderr",
     "output_type": "stream",
     "text": [
      "INFO:tensorflow:Assets written to: model\\assets\n"
     ]
    },
    {
     "name": "stdout",
     "output_type": "stream",
     "text": [
      "2/2 [==============================] - 3s 3s/step - loss: 0.0063 - root_mean_squared_error: 0.0794 - val_loss: 0.2505 - val_root_mean_squared_error: 0.5005\n",
      "Epoch 68/200\n",
      "1/2 [==============>...............] - ETA: 0s - loss: 0.0059 - root_mean_squared_error: 0.0770INFO:tensorflow:Assets written to: model\\assets\n"
     ]
    },
    {
     "name": "stderr",
     "output_type": "stream",
     "text": [
      "INFO:tensorflow:Assets written to: model\\assets\n"
     ]
    },
    {
     "name": "stdout",
     "output_type": "stream",
     "text": [
      "2/2 [==============================] - 3s 3s/step - loss: 0.0062 - root_mean_squared_error: 0.0790 - val_loss: 0.2484 - val_root_mean_squared_error: 0.4984\n",
      "Epoch 69/200\n",
      "1/2 [==============>...............] - ETA: 0s - loss: 0.0043 - root_mean_squared_error: 0.0659INFO:tensorflow:Assets written to: model\\assets\n"
     ]
    },
    {
     "name": "stderr",
     "output_type": "stream",
     "text": [
      "INFO:tensorflow:Assets written to: model\\assets\n"
     ]
    },
    {
     "name": "stdout",
     "output_type": "stream",
     "text": [
      "2/2 [==============================] - 2s 2s/step - loss: 0.0062 - root_mean_squared_error: 0.0786 - val_loss: 0.2462 - val_root_mean_squared_error: 0.4962\n",
      "Epoch 70/200\n",
      "1/2 [==============>...............] - ETA: 0s - loss: 0.0072 - root_mean_squared_error: 0.0851INFO:tensorflow:Assets written to: model\\assets\n"
     ]
    },
    {
     "name": "stderr",
     "output_type": "stream",
     "text": [
      "INFO:tensorflow:Assets written to: model\\assets\n"
     ]
    },
    {
     "name": "stdout",
     "output_type": "stream",
     "text": [
      "2/2 [==============================] - 3s 3s/step - loss: 0.0061 - root_mean_squared_error: 0.0782 - val_loss: 0.2438 - val_root_mean_squared_error: 0.4937\n",
      "Epoch 71/200\n",
      "1/2 [==============>...............] - ETA: 0s - loss: 0.0049 - root_mean_squared_error: 0.0703INFO:tensorflow:Assets written to: model\\assets\n"
     ]
    },
    {
     "name": "stderr",
     "output_type": "stream",
     "text": [
      "INFO:tensorflow:Assets written to: model\\assets\n"
     ]
    },
    {
     "name": "stdout",
     "output_type": "stream",
     "text": [
      "2/2 [==============================] - 3s 3s/step - loss: 0.0060 - root_mean_squared_error: 0.0777 - val_loss: 0.2415 - val_root_mean_squared_error: 0.4914\n",
      "Epoch 72/200\n",
      "1/2 [==============>...............] - ETA: 0s - loss: 0.0064 - root_mean_squared_error: 0.0799INFO:tensorflow:Assets written to: model\\assets\n"
     ]
    },
    {
     "name": "stderr",
     "output_type": "stream",
     "text": [
      "INFO:tensorflow:Assets written to: model\\assets\n"
     ]
    },
    {
     "name": "stdout",
     "output_type": "stream",
     "text": [
      "2/2 [==============================] - 3s 3s/step - loss: 0.0060 - root_mean_squared_error: 0.0773 - val_loss: 0.2392 - val_root_mean_squared_error: 0.4890\n",
      "Epoch 73/200\n",
      "1/2 [==============>...............] - ETA: 0s - loss: 0.0068 - root_mean_squared_error: 0.0822INFO:tensorflow:Assets written to: model\\assets\n"
     ]
    },
    {
     "name": "stderr",
     "output_type": "stream",
     "text": [
      "INFO:tensorflow:Assets written to: model\\assets\n"
     ]
    },
    {
     "name": "stdout",
     "output_type": "stream",
     "text": [
      "2/2 [==============================] - 3s 3s/step - loss: 0.0059 - root_mean_squared_error: 0.0769 - val_loss: 0.2370 - val_root_mean_squared_error: 0.4869\n",
      "Epoch 74/200\n",
      "1/2 [==============>...............] - ETA: 0s - loss: 0.0061 - root_mean_squared_error: 0.0783INFO:tensorflow:Assets written to: model\\assets\n"
     ]
    },
    {
     "name": "stderr",
     "output_type": "stream",
     "text": [
      "INFO:tensorflow:Assets written to: model\\assets\n"
     ]
    },
    {
     "name": "stdout",
     "output_type": "stream",
     "text": [
      "2/2 [==============================] - 3s 3s/step - loss: 0.0058 - root_mean_squared_error: 0.0764 - val_loss: 0.2351 - val_root_mean_squared_error: 0.4848\n",
      "Epoch 75/200\n",
      "1/2 [==============>...............] - ETA: 0s - loss: 0.0040 - root_mean_squared_error: 0.0633INFO:tensorflow:Assets written to: model\\assets\n"
     ]
    },
    {
     "name": "stderr",
     "output_type": "stream",
     "text": [
      "INFO:tensorflow:Assets written to: model\\assets\n"
     ]
    },
    {
     "name": "stdout",
     "output_type": "stream",
     "text": [
      "2/2 [==============================] - 3s 3s/step - loss: 0.0058 - root_mean_squared_error: 0.0759 - val_loss: 0.2328 - val_root_mean_squared_error: 0.4825\n",
      "Epoch 76/200\n",
      "1/2 [==============>...............] - ETA: 0s - loss: 0.0039 - root_mean_squared_error: 0.0621INFO:tensorflow:Assets written to: model\\assets\n"
     ]
    },
    {
     "name": "stderr",
     "output_type": "stream",
     "text": [
      "INFO:tensorflow:Assets written to: model\\assets\n"
     ]
    },
    {
     "name": "stdout",
     "output_type": "stream",
     "text": [
      "2/2 [==============================] - 3s 3s/step - loss: 0.0057 - root_mean_squared_error: 0.0754 - val_loss: 0.2302 - val_root_mean_squared_error: 0.4798\n",
      "Epoch 77/200\n",
      "1/2 [==============>...............] - ETA: 0s - loss: 0.0059 - root_mean_squared_error: 0.0771INFO:tensorflow:Assets written to: model\\assets\n"
     ]
    },
    {
     "name": "stderr",
     "output_type": "stream",
     "text": [
      "INFO:tensorflow:Assets written to: model\\assets\n"
     ]
    },
    {
     "name": "stdout",
     "output_type": "stream",
     "text": [
      "2/2 [==============================] - 2s 2s/step - loss: 0.0056 - root_mean_squared_error: 0.0749 - val_loss: 0.2275 - val_root_mean_squared_error: 0.4770\n",
      "Epoch 78/200\n",
      "1/2 [==============>...............] - ETA: 0s - loss: 0.0058 - root_mean_squared_error: 0.0763INFO:tensorflow:Assets written to: model\\assets\n"
     ]
    },
    {
     "name": "stderr",
     "output_type": "stream",
     "text": [
      "INFO:tensorflow:Assets written to: model\\assets\n"
     ]
    },
    {
     "name": "stdout",
     "output_type": "stream",
     "text": [
      "2/2 [==============================] - 2s 2s/step - loss: 0.0055 - root_mean_squared_error: 0.0744 - val_loss: 0.2250 - val_root_mean_squared_error: 0.4743\n",
      "Epoch 79/200\n",
      "1/2 [==============>...............] - ETA: 0s - loss: 0.0057 - root_mean_squared_error: 0.0756INFO:tensorflow:Assets written to: model\\assets\n"
     ]
    },
    {
     "name": "stderr",
     "output_type": "stream",
     "text": [
      "INFO:tensorflow:Assets written to: model\\assets\n"
     ]
    },
    {
     "name": "stdout",
     "output_type": "stream",
     "text": [
      "2/2 [==============================] - 3s 3s/step - loss: 0.0055 - root_mean_squared_error: 0.0739 - val_loss: 0.2226 - val_root_mean_squared_error: 0.4718\n",
      "Epoch 80/200\n",
      "1/2 [==============>...............] - ETA: 0s - loss: 0.0056 - root_mean_squared_error: 0.0748INFO:tensorflow:Assets written to: model\\assets\n"
     ]
    },
    {
     "name": "stderr",
     "output_type": "stream",
     "text": [
      "INFO:tensorflow:Assets written to: model\\assets\n"
     ]
    },
    {
     "name": "stdout",
     "output_type": "stream",
     "text": [
      "2/2 [==============================] - 2s 2s/step - loss: 0.0054 - root_mean_squared_error: 0.0735 - val_loss: 0.2204 - val_root_mean_squared_error: 0.4695\n",
      "Epoch 81/200\n",
      "1/2 [==============>...............] - ETA: 0s - loss: 0.0052 - root_mean_squared_error: 0.0724INFO:tensorflow:Assets written to: model\\assets\n"
     ]
    },
    {
     "name": "stderr",
     "output_type": "stream",
     "text": [
      "INFO:tensorflow:Assets written to: model\\assets\n"
     ]
    },
    {
     "name": "stdout",
     "output_type": "stream",
     "text": [
      "2/2 [==============================] - 4s 4s/step - loss: 0.0053 - root_mean_squared_error: 0.0730 - val_loss: 0.2182 - val_root_mean_squared_error: 0.4671\n",
      "Epoch 82/200\n",
      "1/2 [==============>...............] - ETA: 0s - loss: 0.0063 - root_mean_squared_error: 0.0792INFO:tensorflow:Assets written to: model\\assets\n"
     ]
    },
    {
     "name": "stderr",
     "output_type": "stream",
     "text": [
      "INFO:tensorflow:Assets written to: model\\assets\n"
     ]
    },
    {
     "name": "stdout",
     "output_type": "stream",
     "text": [
      "2/2 [==============================] - 3s 3s/step - loss: 0.0053 - root_mean_squared_error: 0.0726 - val_loss: 0.2161 - val_root_mean_squared_error: 0.4649\n",
      "Epoch 83/200\n",
      "1/2 [==============>...............] - ETA: 0s - loss: 0.0032 - root_mean_squared_error: 0.0566INFO:tensorflow:Assets written to: model\\assets\n"
     ]
    },
    {
     "name": "stderr",
     "output_type": "stream",
     "text": [
      "INFO:tensorflow:Assets written to: model\\assets\n"
     ]
    },
    {
     "name": "stdout",
     "output_type": "stream",
     "text": [
      "2/2 [==============================] - 2s 2s/step - loss: 0.0052 - root_mean_squared_error: 0.0721 - val_loss: 0.2140 - val_root_mean_squared_error: 0.4626\n",
      "Epoch 84/200\n",
      "1/2 [==============>...............] - ETA: 0s - loss: 0.0060 - root_mean_squared_error: 0.0773INFO:tensorflow:Assets written to: model\\assets\n"
     ]
    },
    {
     "name": "stderr",
     "output_type": "stream",
     "text": [
      "INFO:tensorflow:Assets written to: model\\assets\n"
     ]
    },
    {
     "name": "stdout",
     "output_type": "stream",
     "text": [
      "2/2 [==============================] - 3s 3s/step - loss: 0.0051 - root_mean_squared_error: 0.0718 - val_loss: 0.2116 - val_root_mean_squared_error: 0.4600\n",
      "Epoch 85/200\n",
      "1/2 [==============>...............] - ETA: 0s - loss: 0.0054 - root_mean_squared_error: 0.0734INFO:tensorflow:Assets written to: model\\assets\n"
     ]
    },
    {
     "name": "stderr",
     "output_type": "stream",
     "text": [
      "INFO:tensorflow:Assets written to: model\\assets\n"
     ]
    },
    {
     "name": "stdout",
     "output_type": "stream",
     "text": [
      "2/2 [==============================] - 3s 3s/step - loss: 0.0051 - root_mean_squared_error: 0.0713 - val_loss: 0.2096 - val_root_mean_squared_error: 0.4578\n",
      "Epoch 86/200\n",
      "1/2 [==============>...............] - ETA: 0s - loss: 0.0041 - root_mean_squared_error: 0.0642INFO:tensorflow:Assets written to: model\\assets\n"
     ]
    },
    {
     "name": "stderr",
     "output_type": "stream",
     "text": [
      "INFO:tensorflow:Assets written to: model\\assets\n"
     ]
    },
    {
     "name": "stdout",
     "output_type": "stream",
     "text": [
      "2/2 [==============================] - 2s 2s/step - loss: 0.0050 - root_mean_squared_error: 0.0709 - val_loss: 0.2075 - val_root_mean_squared_error: 0.4555\n",
      "Epoch 87/200\n",
      "1/2 [==============>...............] - ETA: 0s - loss: 0.0050 - root_mean_squared_error: 0.0709INFO:tensorflow:Assets written to: model\\assets\n"
     ]
    },
    {
     "name": "stderr",
     "output_type": "stream",
     "text": [
      "INFO:tensorflow:Assets written to: model\\assets\n"
     ]
    },
    {
     "name": "stdout",
     "output_type": "stream",
     "text": [
      "2/2 [==============================] - 3s 3s/step - loss: 0.0050 - root_mean_squared_error: 0.0705 - val_loss: 0.2053 - val_root_mean_squared_error: 0.4531\n",
      "Epoch 88/200\n",
      "1/2 [==============>...............] - ETA: 0s - loss: 0.0057 - root_mean_squared_error: 0.0755INFO:tensorflow:Assets written to: model\\assets\n"
     ]
    },
    {
     "name": "stderr",
     "output_type": "stream",
     "text": [
      "INFO:tensorflow:Assets written to: model\\assets\n"
     ]
    },
    {
     "name": "stdout",
     "output_type": "stream",
     "text": [
      "2/2 [==============================] - 3s 3s/step - loss: 0.0049 - root_mean_squared_error: 0.0701 - val_loss: 0.2032 - val_root_mean_squared_error: 0.4508\n",
      "Epoch 89/200\n",
      "1/2 [==============>...............] - ETA: 0s - loss: 0.0040 - root_mean_squared_error: 0.0634INFO:tensorflow:Assets written to: model\\assets\n"
     ]
    },
    {
     "name": "stderr",
     "output_type": "stream",
     "text": [
      "INFO:tensorflow:Assets written to: model\\assets\n"
     ]
    },
    {
     "name": "stdout",
     "output_type": "stream",
     "text": [
      "2/2 [==============================] - 3s 3s/step - loss: 0.0049 - root_mean_squared_error: 0.0697 - val_loss: 0.2011 - val_root_mean_squared_error: 0.4485\n",
      "Epoch 90/200\n",
      "1/2 [==============>...............] - ETA: 0s - loss: 0.0057 - root_mean_squared_error: 0.0756INFO:tensorflow:Assets written to: model\\assets\n"
     ]
    },
    {
     "name": "stderr",
     "output_type": "stream",
     "text": [
      "INFO:tensorflow:Assets written to: model\\assets\n"
     ]
    },
    {
     "name": "stdout",
     "output_type": "stream",
     "text": [
      "2/2 [==============================] - 3s 3s/step - loss: 0.0048 - root_mean_squared_error: 0.0694 - val_loss: 0.1989 - val_root_mean_squared_error: 0.4460\n",
      "Epoch 91/200\n",
      "1/2 [==============>...............] - ETA: 0s - loss: 0.0051 - root_mean_squared_error: 0.0713INFO:tensorflow:Assets written to: model\\assets\n"
     ]
    },
    {
     "name": "stderr",
     "output_type": "stream",
     "text": [
      "INFO:tensorflow:Assets written to: model\\assets\n"
     ]
    },
    {
     "name": "stdout",
     "output_type": "stream",
     "text": [
      "2/2 [==============================] - 3s 3s/step - loss: 0.0048 - root_mean_squared_error: 0.0689 - val_loss: 0.1968 - val_root_mean_squared_error: 0.4436\n",
      "Epoch 92/200\n",
      "1/2 [==============>...............] - ETA: 0s - loss: 0.0038 - root_mean_squared_error: 0.0614INFO:tensorflow:Assets written to: model\\assets\n"
     ]
    },
    {
     "name": "stderr",
     "output_type": "stream",
     "text": [
      "INFO:tensorflow:Assets written to: model\\assets\n"
     ]
    },
    {
     "name": "stdout",
     "output_type": "stream",
     "text": [
      "2/2 [==============================] - 3s 3s/step - loss: 0.0047 - root_mean_squared_error: 0.0685 - val_loss: 0.1947 - val_root_mean_squared_error: 0.4412\n",
      "Epoch 93/200\n",
      "1/2 [==============>...............] - ETA: 0s - loss: 0.0046 - root_mean_squared_error: 0.0676INFO:tensorflow:Assets written to: model\\assets\n"
     ]
    },
    {
     "name": "stderr",
     "output_type": "stream",
     "text": [
      "INFO:tensorflow:Assets written to: model\\assets\n"
     ]
    },
    {
     "name": "stdout",
     "output_type": "stream",
     "text": [
      "2/2 [==============================] - 3s 3s/step - loss: 0.0046 - root_mean_squared_error: 0.0682 - val_loss: 0.1925 - val_root_mean_squared_error: 0.4388\n",
      "Epoch 94/200\n",
      "1/2 [==============>...............] - ETA: 0s - loss: 0.0048 - root_mean_squared_error: 0.0692INFO:tensorflow:Assets written to: model\\assets\n"
     ]
    },
    {
     "name": "stderr",
     "output_type": "stream",
     "text": [
      "INFO:tensorflow:Assets written to: model\\assets\n"
     ]
    },
    {
     "name": "stdout",
     "output_type": "stream",
     "text": [
      "2/2 [==============================] - 3s 3s/step - loss: 0.0046 - root_mean_squared_error: 0.0678 - val_loss: 0.1905 - val_root_mean_squared_error: 0.4365\n",
      "Epoch 95/200\n",
      "1/2 [==============>...............] - ETA: 0s - loss: 0.0053 - root_mean_squared_error: 0.0728INFO:tensorflow:Assets written to: model\\assets\n"
     ]
    },
    {
     "name": "stderr",
     "output_type": "stream",
     "text": [
      "INFO:tensorflow:Assets written to: model\\assets\n"
     ]
    },
    {
     "name": "stdout",
     "output_type": "stream",
     "text": [
      "2/2 [==============================] - 3s 3s/step - loss: 0.0045 - root_mean_squared_error: 0.0674 - val_loss: 0.1886 - val_root_mean_squared_error: 0.4343\n",
      "Epoch 96/200\n",
      "1/2 [==============>...............] - ETA: 0s - loss: 0.0052 - root_mean_squared_error: 0.0721INFO:tensorflow:Assets written to: model\\assets\n"
     ]
    },
    {
     "name": "stderr",
     "output_type": "stream",
     "text": [
      "INFO:tensorflow:Assets written to: model\\assets\n"
     ]
    },
    {
     "name": "stdout",
     "output_type": "stream",
     "text": [
      "2/2 [==============================] - 3s 3s/step - loss: 0.0045 - root_mean_squared_error: 0.0669 - val_loss: 0.1869 - val_root_mean_squared_error: 0.4323\n",
      "Epoch 97/200\n",
      "1/2 [==============>...............] - ETA: 0s - loss: 0.0051 - root_mean_squared_error: 0.0714INFO:tensorflow:Assets written to: model\\assets\n"
     ]
    },
    {
     "name": "stderr",
     "output_type": "stream",
     "text": [
      "INFO:tensorflow:Assets written to: model\\assets\n"
     ]
    },
    {
     "name": "stdout",
     "output_type": "stream",
     "text": [
      "2/2 [==============================] - 3s 3s/step - loss: 0.0044 - root_mean_squared_error: 0.0665 - val_loss: 0.1854 - val_root_mean_squared_error: 0.4306\n",
      "Epoch 98/200\n",
      "1/2 [==============>...............] - ETA: 0s - loss: 0.0050 - root_mean_squared_error: 0.0709INFO:tensorflow:Assets written to: model\\assets\n"
     ]
    },
    {
     "name": "stderr",
     "output_type": "stream",
     "text": [
      "INFO:tensorflow:Assets written to: model\\assets\n"
     ]
    },
    {
     "name": "stdout",
     "output_type": "stream",
     "text": [
      "2/2 [==============================] - 3s 3s/step - loss: 0.0044 - root_mean_squared_error: 0.0661 - val_loss: 0.1841 - val_root_mean_squared_error: 0.4290\n",
      "Epoch 99/200\n",
      "1/2 [==============>...............] - ETA: 0s - loss: 0.0050 - root_mean_squared_error: 0.0706INFO:tensorflow:Assets written to: model\\assets\n"
     ]
    },
    {
     "name": "stderr",
     "output_type": "stream",
     "text": [
      "INFO:tensorflow:Assets written to: model\\assets\n"
     ]
    },
    {
     "name": "stdout",
     "output_type": "stream",
     "text": [
      "2/2 [==============================] - 3s 3s/step - loss: 0.0043 - root_mean_squared_error: 0.0658 - val_loss: 0.1829 - val_root_mean_squared_error: 0.4277\n",
      "Epoch 100/200\n",
      "1/2 [==============>...............] - ETA: 0s - loss: 0.0046 - root_mean_squared_error: 0.0675INFO:tensorflow:Assets written to: model\\assets\n"
     ]
    },
    {
     "name": "stderr",
     "output_type": "stream",
     "text": [
      "INFO:tensorflow:Assets written to: model\\assets\n"
     ]
    },
    {
     "name": "stdout",
     "output_type": "stream",
     "text": [
      "2/2 [==============================] - 3s 3s/step - loss: 0.0043 - root_mean_squared_error: 0.0655 - val_loss: 0.1818 - val_root_mean_squared_error: 0.4264\n",
      "Epoch 101/200\n",
      "1/2 [==============>...............] - ETA: 0s - loss: 0.0031 - root_mean_squared_error: 0.0555INFO:tensorflow:Assets written to: model\\assets\n"
     ]
    },
    {
     "name": "stderr",
     "output_type": "stream",
     "text": [
      "INFO:tensorflow:Assets written to: model\\assets\n"
     ]
    },
    {
     "name": "stdout",
     "output_type": "stream",
     "text": [
      "2/2 [==============================] - 2s 2s/step - loss: 0.0042 - root_mean_squared_error: 0.0651 - val_loss: 0.1802 - val_root_mean_squared_error: 0.4246\n",
      "Epoch 102/200\n",
      "1/2 [==============>...............] - ETA: 0s - loss: 0.0034 - root_mean_squared_error: 0.0587INFO:tensorflow:Assets written to: model\\assets\n"
     ]
    },
    {
     "name": "stderr",
     "output_type": "stream",
     "text": [
      "INFO:tensorflow:Assets written to: model\\assets\n"
     ]
    },
    {
     "name": "stdout",
     "output_type": "stream",
     "text": [
      "2/2 [==============================] - 3s 3s/step - loss: 0.0042 - root_mean_squared_error: 0.0647 - val_loss: 0.1781 - val_root_mean_squared_error: 0.4221\n",
      "Epoch 103/200\n",
      "1/2 [==============>...............] - ETA: 0s - loss: 0.0034 - root_mean_squared_error: 0.0580INFO:tensorflow:Assets written to: model\\assets\n"
     ]
    },
    {
     "name": "stderr",
     "output_type": "stream",
     "text": [
      "INFO:tensorflow:Assets written to: model\\assets\n"
     ]
    },
    {
     "name": "stdout",
     "output_type": "stream",
     "text": [
      "2/2 [==============================] - 4s 4s/step - loss: 0.0041 - root_mean_squared_error: 0.0641 - val_loss: 0.1756 - val_root_mean_squared_error: 0.4191\n",
      "Epoch 104/200\n",
      "1/2 [==============>...............] - ETA: 0s - loss: 0.0048 - root_mean_squared_error: 0.0692INFO:tensorflow:Assets written to: model\\assets\n"
     ]
    },
    {
     "name": "stderr",
     "output_type": "stream",
     "text": [
      "INFO:tensorflow:Assets written to: model\\assets\n"
     ]
    },
    {
     "name": "stdout",
     "output_type": "stream",
     "text": [
      "2/2 [==============================] - 3s 3s/step - loss: 0.0041 - root_mean_squared_error: 0.0638 - val_loss: 0.1731 - val_root_mean_squared_error: 0.4160\n",
      "Epoch 105/200\n",
      "1/2 [==============>...............] - ETA: 0s - loss: 0.0042 - root_mean_squared_error: 0.0651INFO:tensorflow:Assets written to: model\\assets\n"
     ]
    },
    {
     "name": "stderr",
     "output_type": "stream",
     "text": [
      "INFO:tensorflow:Assets written to: model\\assets\n"
     ]
    },
    {
     "name": "stdout",
     "output_type": "stream",
     "text": [
      "2/2 [==============================] - 3s 3s/step - loss: 0.0040 - root_mean_squared_error: 0.0633 - val_loss: 0.1708 - val_root_mean_squared_error: 0.4133\n",
      "Epoch 106/200\n",
      "1/2 [==============>...............] - ETA: 0s - loss: 0.0019 - root_mean_squared_error: 0.0441INFO:tensorflow:Assets written to: model\\assets\n"
     ]
    },
    {
     "name": "stderr",
     "output_type": "stream",
     "text": [
      "INFO:tensorflow:Assets written to: model\\assets\n"
     ]
    },
    {
     "name": "stdout",
     "output_type": "stream",
     "text": [
      "2/2 [==============================] - 2s 2s/step - loss: 0.0039 - root_mean_squared_error: 0.0628 - val_loss: 0.1683 - val_root_mean_squared_error: 0.4103\n",
      "Epoch 107/200\n",
      "1/2 [==============>...............] - ETA: 0s - loss: 0.0041 - root_mean_squared_error: 0.0638INFO:tensorflow:Assets written to: model\\assets\n"
     ]
    },
    {
     "name": "stderr",
     "output_type": "stream",
     "text": [
      "INFO:tensorflow:Assets written to: model\\assets\n"
     ]
    },
    {
     "name": "stdout",
     "output_type": "stream",
     "text": [
      "2/2 [==============================] - 3s 3s/step - loss: 0.0039 - root_mean_squared_error: 0.0625 - val_loss: 0.1656 - val_root_mean_squared_error: 0.4069\n",
      "Epoch 108/200\n",
      "1/2 [==============>...............] - ETA: 0s - loss: 0.0046 - root_mean_squared_error: 0.0676INFO:tensorflow:Assets written to: model\\assets\n"
     ]
    },
    {
     "name": "stderr",
     "output_type": "stream",
     "text": [
      "INFO:tensorflow:Assets written to: model\\assets\n"
     ]
    },
    {
     "name": "stdout",
     "output_type": "stream",
     "text": [
      "2/2 [==============================] - 3s 3s/step - loss: 0.0039 - root_mean_squared_error: 0.0621 - val_loss: 0.1632 - val_root_mean_squared_error: 0.4040\n",
      "Epoch 109/200\n",
      "1/2 [==============>...............] - ETA: 0s - loss: 0.0044 - root_mean_squared_error: 0.0665INFO:tensorflow:Assets written to: model\\assets\n"
     ]
    },
    {
     "name": "stderr",
     "output_type": "stream",
     "text": [
      "INFO:tensorflow:Assets written to: model\\assets\n"
     ]
    },
    {
     "name": "stdout",
     "output_type": "stream",
     "text": [
      "2/2 [==============================] - 3s 3s/step - loss: 0.0038 - root_mean_squared_error: 0.0616 - val_loss: 0.1612 - val_root_mean_squared_error: 0.4015\n",
      "Epoch 110/200\n",
      "1/2 [==============>...............] - ETA: 0s - loss: 0.0035 - root_mean_squared_error: 0.0594INFO:tensorflow:Assets written to: model\\assets\n"
     ]
    },
    {
     "name": "stderr",
     "output_type": "stream",
     "text": [
      "INFO:tensorflow:Assets written to: model\\assets\n"
     ]
    },
    {
     "name": "stdout",
     "output_type": "stream",
     "text": [
      "2/2 [==============================] - 3s 3s/step - loss: 0.0037 - root_mean_squared_error: 0.0611 - val_loss: 0.1594 - val_root_mean_squared_error: 0.3992\n",
      "Epoch 111/200\n",
      "1/2 [==============>...............] - ETA: 0s - loss: 0.0037 - root_mean_squared_error: 0.0610INFO:tensorflow:Assets written to: model\\assets\n"
     ]
    },
    {
     "name": "stderr",
     "output_type": "stream",
     "text": [
      "INFO:tensorflow:Assets written to: model\\assets\n"
     ]
    },
    {
     "name": "stdout",
     "output_type": "stream",
     "text": [
      "2/2 [==============================] - 3s 3s/step - loss: 0.0037 - root_mean_squared_error: 0.0607 - val_loss: 0.1576 - val_root_mean_squared_error: 0.3969\n",
      "Epoch 112/200\n",
      "1/2 [==============>...............] - ETA: 0s - loss: 0.0037 - root_mean_squared_error: 0.0611INFO:tensorflow:Assets written to: model\\assets\n"
     ]
    },
    {
     "name": "stderr",
     "output_type": "stream",
     "text": [
      "INFO:tensorflow:Assets written to: model\\assets\n"
     ]
    },
    {
     "name": "stdout",
     "output_type": "stream",
     "text": [
      "2/2 [==============================] - 3s 3s/step - loss: 0.0036 - root_mean_squared_error: 0.0602 - val_loss: 0.1557 - val_root_mean_squared_error: 0.3946\n",
      "Epoch 113/200\n",
      "1/2 [==============>...............] - ETA: 0s - loss: 0.0030 - root_mean_squared_error: 0.0549INFO:tensorflow:Assets written to: model\\assets\n"
     ]
    },
    {
     "name": "stderr",
     "output_type": "stream",
     "text": [
      "INFO:tensorflow:Assets written to: model\\assets\n"
     ]
    },
    {
     "name": "stdout",
     "output_type": "stream",
     "text": [
      "2/2 [==============================] - 3s 3s/step - loss: 0.0036 - root_mean_squared_error: 0.0597 - val_loss: 0.1539 - val_root_mean_squared_error: 0.3923\n",
      "Epoch 114/200\n",
      "1/2 [==============>...............] - ETA: 0s - loss: 0.0033 - root_mean_squared_error: 0.0579INFO:tensorflow:Assets written to: model\\assets\n"
     ]
    },
    {
     "name": "stderr",
     "output_type": "stream",
     "text": [
      "INFO:tensorflow:Assets written to: model\\assets\n"
     ]
    },
    {
     "name": "stdout",
     "output_type": "stream",
     "text": [
      "2/2 [==============================] - 2s 2s/step - loss: 0.0035 - root_mean_squared_error: 0.0593 - val_loss: 0.1520 - val_root_mean_squared_error: 0.3898\n",
      "Epoch 115/200\n",
      "1/2 [==============>...............] - ETA: 0s - loss: 0.0034 - root_mean_squared_error: 0.0584INFO:tensorflow:Assets written to: model\\assets\n"
     ]
    },
    {
     "name": "stderr",
     "output_type": "stream",
     "text": [
      "INFO:tensorflow:Assets written to: model\\assets\n"
     ]
    },
    {
     "name": "stdout",
     "output_type": "stream",
     "text": [
      "2/2 [==============================] - 2s 2s/step - loss: 0.0035 - root_mean_squared_error: 0.0589 - val_loss: 0.1501 - val_root_mean_squared_error: 0.3875\n",
      "Epoch 116/200\n",
      "1/2 [==============>...............] - ETA: 0s - loss: 0.0028 - root_mean_squared_error: 0.0532INFO:tensorflow:Assets written to: model\\assets\n"
     ]
    },
    {
     "name": "stderr",
     "output_type": "stream",
     "text": [
      "INFO:tensorflow:Assets written to: model\\assets\n"
     ]
    },
    {
     "name": "stdout",
     "output_type": "stream",
     "text": [
      "2/2 [==============================] - 2s 2s/step - loss: 0.0034 - root_mean_squared_error: 0.0584 - val_loss: 0.1481 - val_root_mean_squared_error: 0.3849\n",
      "Epoch 117/200\n",
      "1/2 [==============>...............] - ETA: 0s - loss: 0.0021 - root_mean_squared_error: 0.0463INFO:tensorflow:Assets written to: model\\assets\n"
     ]
    },
    {
     "name": "stderr",
     "output_type": "stream",
     "text": [
      "INFO:tensorflow:Assets written to: model\\assets\n"
     ]
    },
    {
     "name": "stdout",
     "output_type": "stream",
     "text": [
      "2/2 [==============================] - 2s 2s/step - loss: 0.0034 - root_mean_squared_error: 0.0579 - val_loss: 0.1457 - val_root_mean_squared_error: 0.3817\n",
      "Epoch 118/200\n",
      "1/2 [==============>...............] - ETA: 0s - loss: 0.0033 - root_mean_squared_error: 0.0578INFO:tensorflow:Assets written to: model\\assets\n"
     ]
    },
    {
     "name": "stderr",
     "output_type": "stream",
     "text": [
      "INFO:tensorflow:Assets written to: model\\assets\n"
     ]
    },
    {
     "name": "stdout",
     "output_type": "stream",
     "text": [
      "2/2 [==============================] - 3s 3s/step - loss: 0.0033 - root_mean_squared_error: 0.0575 - val_loss: 0.1431 - val_root_mean_squared_error: 0.3783\n",
      "Epoch 119/200\n",
      "1/2 [==============>...............] - ETA: 0s - loss: 0.0027 - root_mean_squared_error: 0.0523INFO:tensorflow:Assets written to: model\\assets\n"
     ]
    },
    {
     "name": "stderr",
     "output_type": "stream",
     "text": [
      "INFO:tensorflow:Assets written to: model\\assets\n"
     ]
    },
    {
     "name": "stdout",
     "output_type": "stream",
     "text": [
      "2/2 [==============================] - 3s 3s/step - loss: 0.0032 - root_mean_squared_error: 0.0569 - val_loss: 0.1406 - val_root_mean_squared_error: 0.3749\n",
      "Epoch 120/200\n",
      "1/2 [==============>...............] - ETA: 0s - loss: 0.0031 - root_mean_squared_error: 0.0560INFO:tensorflow:Assets written to: model\\assets\n"
     ]
    },
    {
     "name": "stderr",
     "output_type": "stream",
     "text": [
      "INFO:tensorflow:Assets written to: model\\assets\n"
     ]
    },
    {
     "name": "stdout",
     "output_type": "stream",
     "text": [
      "2/2 [==============================] - 4s 4s/step - loss: 0.0032 - root_mean_squared_error: 0.0565 - val_loss: 0.1380 - val_root_mean_squared_error: 0.3715\n",
      "Epoch 121/200\n",
      "1/2 [==============>...............] - ETA: 0s - loss: 0.0037 - root_mean_squared_error: 0.0604INFO:tensorflow:Assets written to: model\\assets\n"
     ]
    },
    {
     "name": "stderr",
     "output_type": "stream",
     "text": [
      "INFO:tensorflow:Assets written to: model\\assets\n"
     ]
    },
    {
     "name": "stdout",
     "output_type": "stream",
     "text": [
      "2/2 [==============================] - 3s 3s/step - loss: 0.0032 - root_mean_squared_error: 0.0562 - val_loss: 0.1359 - val_root_mean_squared_error: 0.3686\n",
      "Epoch 122/200\n",
      "1/2 [==============>...............] - ETA: 0s - loss: 0.0020 - root_mean_squared_error: 0.0451INFO:tensorflow:Assets written to: model\\assets\n"
     ]
    },
    {
     "name": "stderr",
     "output_type": "stream",
     "text": [
      "INFO:tensorflow:Assets written to: model\\assets\n"
     ]
    },
    {
     "name": "stdout",
     "output_type": "stream",
     "text": [
      "2/2 [==============================] - 3s 3s/step - loss: 0.0031 - root_mean_squared_error: 0.0556 - val_loss: 0.1339 - val_root_mean_squared_error: 0.3660\n",
      "Epoch 123/200\n",
      "1/2 [==============>...............] - ETA: 0s - loss: 0.0028 - root_mean_squared_error: 0.0534INFO:tensorflow:Assets written to: model\\assets\n"
     ]
    },
    {
     "name": "stderr",
     "output_type": "stream",
     "text": [
      "INFO:tensorflow:Assets written to: model\\assets\n"
     ]
    },
    {
     "name": "stdout",
     "output_type": "stream",
     "text": [
      "2/2 [==============================] - 3s 3s/step - loss: 0.0030 - root_mean_squared_error: 0.0552 - val_loss: 0.1319 - val_root_mean_squared_error: 0.3632\n",
      "Epoch 124/200\n",
      "1/2 [==============>...............] - ETA: 0s - loss: 0.0034 - root_mean_squared_error: 0.0584INFO:tensorflow:Assets written to: model\\assets\n"
     ]
    },
    {
     "name": "stderr",
     "output_type": "stream",
     "text": [
      "INFO:tensorflow:Assets written to: model\\assets\n"
     ]
    },
    {
     "name": "stdout",
     "output_type": "stream",
     "text": [
      "2/2 [==============================] - 5s 5s/step - loss: 0.0030 - root_mean_squared_error: 0.0547 - val_loss: 0.1302 - val_root_mean_squared_error: 0.3608\n",
      "Epoch 125/200\n",
      "1/2 [==============>...............] - ETA: 0s - loss: 0.0026 - root_mean_squared_error: 0.0510INFO:tensorflow:Assets written to: model\\assets\n"
     ]
    },
    {
     "name": "stderr",
     "output_type": "stream",
     "text": [
      "INFO:tensorflow:Assets written to: model\\assets\n"
     ]
    },
    {
     "name": "stdout",
     "output_type": "stream",
     "text": [
      "2/2 [==============================] - 3s 3s/step - loss: 0.0029 - root_mean_squared_error: 0.0542 - val_loss: 0.1288 - val_root_mean_squared_error: 0.3589\n",
      "Epoch 126/200\n",
      "1/2 [==============>...............] - ETA: 0s - loss: 0.0034 - root_mean_squared_error: 0.0579INFO:tensorflow:Assets written to: model\\assets\n"
     ]
    },
    {
     "name": "stderr",
     "output_type": "stream",
     "text": [
      "INFO:tensorflow:Assets written to: model\\assets\n"
     ]
    },
    {
     "name": "stdout",
     "output_type": "stream",
     "text": [
      "2/2 [==============================] - 3s 3s/step - loss: 0.0029 - root_mean_squared_error: 0.0537 - val_loss: 0.1276 - val_root_mean_squared_error: 0.3573\n",
      "Epoch 127/200\n",
      "1/2 [==============>...............] - ETA: 0s - loss: 0.0021 - root_mean_squared_error: 0.0456INFO:tensorflow:Assets written to: model\\assets\n"
     ]
    },
    {
     "name": "stderr",
     "output_type": "stream",
     "text": [
      "INFO:tensorflow:Assets written to: model\\assets\n"
     ]
    },
    {
     "name": "stdout",
     "output_type": "stream",
     "text": [
      "2/2 [==============================] - 3s 3s/step - loss: 0.0028 - root_mean_squared_error: 0.0533 - val_loss: 0.1263 - val_root_mean_squared_error: 0.3554\n",
      "Epoch 128/200\n",
      "1/2 [==============>...............] - ETA: 0s - loss: 0.0032 - root_mean_squared_error: 0.0567INFO:tensorflow:Assets written to: model\\assets\n"
     ]
    },
    {
     "name": "stderr",
     "output_type": "stream",
     "text": [
      "INFO:tensorflow:Assets written to: model\\assets\n"
     ]
    },
    {
     "name": "stdout",
     "output_type": "stream",
     "text": [
      "2/2 [==============================] - 4s 4s/step - loss: 0.0028 - root_mean_squared_error: 0.0529 - val_loss: 0.1246 - val_root_mean_squared_error: 0.3530\n",
      "Epoch 129/200\n",
      "1/2 [==============>...............] - ETA: 0s - loss: 0.0023 - root_mean_squared_error: 0.0476INFO:tensorflow:Assets written to: model\\assets\n"
     ]
    },
    {
     "name": "stderr",
     "output_type": "stream",
     "text": [
      "INFO:tensorflow:Assets written to: model\\assets\n"
     ]
    },
    {
     "name": "stdout",
     "output_type": "stream",
     "text": [
      "2/2 [==============================] - 4s 4s/step - loss: 0.0027 - root_mean_squared_error: 0.0524 - val_loss: 0.1230 - val_root_mean_squared_error: 0.3508\n",
      "Epoch 130/200\n",
      "1/2 [==============>...............] - ETA: 0s - loss: 0.0026 - root_mean_squared_error: 0.0506INFO:tensorflow:Assets written to: model\\assets\n"
     ]
    },
    {
     "name": "stderr",
     "output_type": "stream",
     "text": [
      "INFO:tensorflow:Assets written to: model\\assets\n"
     ]
    },
    {
     "name": "stdout",
     "output_type": "stream",
     "text": [
      "2/2 [==============================] - 3s 3s/step - loss: 0.0027 - root_mean_squared_error: 0.0520 - val_loss: 0.1214 - val_root_mean_squared_error: 0.3484\n",
      "Epoch 131/200\n",
      "1/2 [==============>...............] - ETA: 0s - loss: 0.0019 - root_mean_squared_error: 0.0436INFO:tensorflow:Assets written to: model\\assets\n"
     ]
    },
    {
     "name": "stderr",
     "output_type": "stream",
     "text": [
      "INFO:tensorflow:Assets written to: model\\assets\n"
     ]
    },
    {
     "name": "stdout",
     "output_type": "stream",
     "text": [
      "2/2 [==============================] - 3s 3s/step - loss: 0.0026 - root_mean_squared_error: 0.0514 - val_loss: 0.1195 - val_root_mean_squared_error: 0.3457\n",
      "Epoch 132/200\n",
      "1/2 [==============>...............] - ETA: 0s - loss: 0.0029 - root_mean_squared_error: 0.0534INFO:tensorflow:Assets written to: model\\assets\n"
     ]
    },
    {
     "name": "stderr",
     "output_type": "stream",
     "text": [
      "INFO:tensorflow:Assets written to: model\\assets\n"
     ]
    },
    {
     "name": "stdout",
     "output_type": "stream",
     "text": [
      "2/2 [==============================] - 3s 3s/step - loss: 0.0026 - root_mean_squared_error: 0.0508 - val_loss: 0.1174 - val_root_mean_squared_error: 0.3426\n",
      "Epoch 133/200\n",
      "1/2 [==============>...............] - ETA: 0s - loss: 0.0029 - root_mean_squared_error: 0.0535INFO:tensorflow:Assets written to: model\\assets\n"
     ]
    },
    {
     "name": "stderr",
     "output_type": "stream",
     "text": [
      "INFO:tensorflow:Assets written to: model\\assets\n"
     ]
    },
    {
     "name": "stdout",
     "output_type": "stream",
     "text": [
      "2/2 [==============================] - 3s 3s/step - loss: 0.0025 - root_mean_squared_error: 0.0503 - val_loss: 0.1155 - val_root_mean_squared_error: 0.3399\n",
      "Epoch 134/200\n",
      "1/2 [==============>...............] - ETA: 0s - loss: 0.0025 - root_mean_squared_error: 0.0497INFO:tensorflow:Assets written to: model\\assets\n"
     ]
    },
    {
     "name": "stderr",
     "output_type": "stream",
     "text": [
      "INFO:tensorflow:Assets written to: model\\assets\n"
     ]
    },
    {
     "name": "stdout",
     "output_type": "stream",
     "text": [
      "2/2 [==============================] - 4s 4s/step - loss: 0.0025 - root_mean_squared_error: 0.0497 - val_loss: 0.1139 - val_root_mean_squared_error: 0.3374\n",
      "Epoch 135/200\n",
      "1/2 [==============>...............] - ETA: 0s - loss: 0.0028 - root_mean_squared_error: 0.0530INFO:tensorflow:Assets written to: model\\assets\n"
     ]
    },
    {
     "name": "stderr",
     "output_type": "stream",
     "text": [
      "INFO:tensorflow:Assets written to: model\\assets\n"
     ]
    },
    {
     "name": "stdout",
     "output_type": "stream",
     "text": [
      "2/2 [==============================] - 3s 3s/step - loss: 0.0024 - root_mean_squared_error: 0.0492 - val_loss: 0.1123 - val_root_mean_squared_error: 0.3352\n",
      "Epoch 136/200\n",
      "1/2 [==============>...............] - ETA: 0s - loss: 0.0024 - root_mean_squared_error: 0.0491INFO:tensorflow:Assets written to: model\\assets\n"
     ]
    },
    {
     "name": "stderr",
     "output_type": "stream",
     "text": [
      "INFO:tensorflow:Assets written to: model\\assets\n"
     ]
    },
    {
     "name": "stdout",
     "output_type": "stream",
     "text": [
      "2/2 [==============================] - 3s 3s/step - loss: 0.0024 - root_mean_squared_error: 0.0488 - val_loss: 0.1108 - val_root_mean_squared_error: 0.3329\n",
      "Epoch 137/200\n",
      "1/2 [==============>...............] - ETA: 0s - loss: 0.0027 - root_mean_squared_error: 0.0520INFO:tensorflow:Assets written to: model\\assets\n"
     ]
    },
    {
     "name": "stderr",
     "output_type": "stream",
     "text": [
      "INFO:tensorflow:Assets written to: model\\assets\n"
     ]
    },
    {
     "name": "stdout",
     "output_type": "stream",
     "text": [
      "2/2 [==============================] - 3s 3s/step - loss: 0.0023 - root_mean_squared_error: 0.0484 - val_loss: 0.1092 - val_root_mean_squared_error: 0.3304\n",
      "Epoch 138/200\n",
      "1/2 [==============>...............] - ETA: 0s - loss: 0.0025 - root_mean_squared_error: 0.0502INFO:tensorflow:Assets written to: model\\assets\n"
     ]
    },
    {
     "name": "stderr",
     "output_type": "stream",
     "text": [
      "INFO:tensorflow:Assets written to: model\\assets\n"
     ]
    },
    {
     "name": "stdout",
     "output_type": "stream",
     "text": [
      "2/2 [==============================] - 3s 3s/step - loss: 0.0023 - root_mean_squared_error: 0.0479 - val_loss: 0.1078 - val_root_mean_squared_error: 0.3283\n",
      "Epoch 139/200\n",
      "1/2 [==============>...............] - ETA: 0s - loss: 0.0025 - root_mean_squared_error: 0.0503INFO:tensorflow:Assets written to: model\\assets\n"
     ]
    },
    {
     "name": "stderr",
     "output_type": "stream",
     "text": [
      "INFO:tensorflow:Assets written to: model\\assets\n"
     ]
    },
    {
     "name": "stdout",
     "output_type": "stream",
     "text": [
      "2/2 [==============================] - 4s 4s/step - loss: 0.0023 - root_mean_squared_error: 0.0475 - val_loss: 0.1064 - val_root_mean_squared_error: 0.3263\n",
      "Epoch 140/200\n",
      "1/2 [==============>...............] - ETA: 0s - loss: 0.0025 - root_mean_squared_error: 0.0500INFO:tensorflow:Assets written to: model\\assets\n"
     ]
    },
    {
     "name": "stderr",
     "output_type": "stream",
     "text": [
      "INFO:tensorflow:Assets written to: model\\assets\n"
     ]
    },
    {
     "name": "stdout",
     "output_type": "stream",
     "text": [
      "2/2 [==============================] - 3s 3s/step - loss: 0.0022 - root_mean_squared_error: 0.0471 - val_loss: 0.1052 - val_root_mean_squared_error: 0.3244\n",
      "Epoch 141/200\n",
      "1/2 [==============>...............] - ETA: 0s - loss: 0.0023 - root_mean_squared_error: 0.0478INFO:tensorflow:Assets written to: model\\assets\n"
     ]
    },
    {
     "name": "stderr",
     "output_type": "stream",
     "text": [
      "INFO:tensorflow:Assets written to: model\\assets\n"
     ]
    },
    {
     "name": "stdout",
     "output_type": "stream",
     "text": [
      "2/2 [==============================] - 3s 3s/step - loss: 0.0022 - root_mean_squared_error: 0.0467 - val_loss: 0.1038 - val_root_mean_squared_error: 0.3222\n",
      "Epoch 142/200\n",
      "1/2 [==============>...............] - ETA: 0s - loss: 0.0025 - root_mean_squared_error: 0.0496INFO:tensorflow:Assets written to: model\\assets\n"
     ]
    },
    {
     "name": "stderr",
     "output_type": "stream",
     "text": [
      "INFO:tensorflow:Assets written to: model\\assets\n"
     ]
    },
    {
     "name": "stdout",
     "output_type": "stream",
     "text": [
      "2/2 [==============================] - 3s 3s/step - loss: 0.0021 - root_mean_squared_error: 0.0463 - val_loss: 0.1023 - val_root_mean_squared_error: 0.3199\n",
      "Epoch 143/200\n",
      "1/2 [==============>...............] - ETA: 0s - loss: 0.0018 - root_mean_squared_error: 0.0427INFO:tensorflow:Assets written to: model\\assets\n"
     ]
    },
    {
     "name": "stderr",
     "output_type": "stream",
     "text": [
      "INFO:tensorflow:Assets written to: model\\assets\n"
     ]
    },
    {
     "name": "stdout",
     "output_type": "stream",
     "text": [
      "2/2 [==============================] - 3s 3s/step - loss: 0.0021 - root_mean_squared_error: 0.0458 - val_loss: 0.1008 - val_root_mean_squared_error: 0.3175\n",
      "Epoch 144/200\n",
      "1/2 [==============>...............] - ETA: 0s - loss: 0.0016 - root_mean_squared_error: 0.0399INFO:tensorflow:Assets written to: model\\assets\n"
     ]
    },
    {
     "name": "stderr",
     "output_type": "stream",
     "text": [
      "INFO:tensorflow:Assets written to: model\\assets\n"
     ]
    },
    {
     "name": "stdout",
     "output_type": "stream",
     "text": [
      "2/2 [==============================] - 3s 3s/step - loss: 0.0021 - root_mean_squared_error: 0.0453 - val_loss: 0.0990 - val_root_mean_squared_error: 0.3146\n",
      "Epoch 145/200\n",
      "1/2 [==============>...............] - ETA: 0s - loss: 0.0018 - root_mean_squared_error: 0.0419INFO:tensorflow:Assets written to: model\\assets\n"
     ]
    },
    {
     "name": "stderr",
     "output_type": "stream",
     "text": [
      "INFO:tensorflow:Assets written to: model\\assets\n"
     ]
    },
    {
     "name": "stdout",
     "output_type": "stream",
     "text": [
      "2/2 [==============================] - 4s 4s/step - loss: 0.0020 - root_mean_squared_error: 0.0449 - val_loss: 0.0969 - val_root_mean_squared_error: 0.3112\n",
      "Epoch 146/200\n",
      "1/2 [==============>...............] - ETA: 0s - loss: 0.0021 - root_mean_squared_error: 0.0459INFO:tensorflow:Assets written to: model\\assets\n"
     ]
    },
    {
     "name": "stderr",
     "output_type": "stream",
     "text": [
      "INFO:tensorflow:Assets written to: model\\assets\n"
     ]
    },
    {
     "name": "stdout",
     "output_type": "stream",
     "text": [
      "2/2 [==============================] - 3s 3s/step - loss: 0.0020 - root_mean_squared_error: 0.0448 - val_loss: 0.0949 - val_root_mean_squared_error: 0.3080\n",
      "Epoch 147/200\n",
      "1/2 [==============>...............] - ETA: 0s - loss: 0.0015 - root_mean_squared_error: 0.0386INFO:tensorflow:Assets written to: model\\assets\n"
     ]
    },
    {
     "name": "stderr",
     "output_type": "stream",
     "text": [
      "INFO:tensorflow:Assets written to: model\\assets\n"
     ]
    },
    {
     "name": "stdout",
     "output_type": "stream",
     "text": [
      "2/2 [==============================] - 3s 3s/step - loss: 0.0020 - root_mean_squared_error: 0.0442 - val_loss: 0.0931 - val_root_mean_squared_error: 0.3052\n",
      "Epoch 148/200\n",
      "1/2 [==============>...............] - ETA: 0s - loss: 0.0022 - root_mean_squared_error: 0.0466INFO:tensorflow:Assets written to: model\\assets\n"
     ]
    },
    {
     "name": "stderr",
     "output_type": "stream",
     "text": [
      "INFO:tensorflow:Assets written to: model\\assets\n"
     ]
    },
    {
     "name": "stdout",
     "output_type": "stream",
     "text": [
      "2/2 [==============================] - 3s 3s/step - loss: 0.0019 - root_mean_squared_error: 0.0438 - val_loss: 0.0914 - val_root_mean_squared_error: 0.3023\n",
      "Epoch 149/200\n",
      "1/2 [==============>...............] - ETA: 0s - loss: 0.0022 - root_mean_squared_error: 0.0469INFO:tensorflow:Assets written to: model\\assets\n"
     ]
    },
    {
     "name": "stderr",
     "output_type": "stream",
     "text": [
      "INFO:tensorflow:Assets written to: model\\assets\n"
     ]
    },
    {
     "name": "stdout",
     "output_type": "stream",
     "text": [
      "2/2 [==============================] - 3s 3s/step - loss: 0.0019 - root_mean_squared_error: 0.0433 - val_loss: 0.0900 - val_root_mean_squared_error: 0.3000\n",
      "Epoch 150/200\n",
      "1/2 [==============>...............] - ETA: 0s - loss: 0.0021 - root_mean_squared_error: 0.0453INFO:tensorflow:Assets written to: model\\assets\n"
     ]
    },
    {
     "name": "stderr",
     "output_type": "stream",
     "text": [
      "INFO:tensorflow:Assets written to: model\\assets\n"
     ]
    },
    {
     "name": "stdout",
     "output_type": "stream",
     "text": [
      "2/2 [==============================] - 3s 3s/step - loss: 0.0018 - root_mean_squared_error: 0.0428 - val_loss: 0.0889 - val_root_mean_squared_error: 0.2981\n",
      "Epoch 151/200\n",
      "1/2 [==============>...............] - ETA: 0s - loss: 0.0021 - root_mean_squared_error: 0.0454INFO:tensorflow:Assets written to: model\\assets\n"
     ]
    },
    {
     "name": "stderr",
     "output_type": "stream",
     "text": [
      "INFO:tensorflow:Assets written to: model\\assets\n"
     ]
    },
    {
     "name": "stdout",
     "output_type": "stream",
     "text": [
      "2/2 [==============================] - 3s 3s/step - loss: 0.0018 - root_mean_squared_error: 0.0423 - val_loss: 0.0879 - val_root_mean_squared_error: 0.2965\n",
      "Epoch 152/200\n",
      "1/2 [==============>...............] - ETA: 0s - loss: 0.0019 - root_mean_squared_error: 0.0440INFO:tensorflow:Assets written to: model\\assets\n"
     ]
    },
    {
     "name": "stderr",
     "output_type": "stream",
     "text": [
      "INFO:tensorflow:Assets written to: model\\assets\n"
     ]
    },
    {
     "name": "stdout",
     "output_type": "stream",
     "text": [
      "2/2 [==============================] - 3s 3s/step - loss: 0.0018 - root_mean_squared_error: 0.0420 - val_loss: 0.0870 - val_root_mean_squared_error: 0.2950\n",
      "Epoch 153/200\n",
      "1/2 [==============>...............] - ETA: 0s - loss: 0.0019 - root_mean_squared_error: 0.0431INFO:tensorflow:Assets written to: model\\assets\n"
     ]
    },
    {
     "name": "stderr",
     "output_type": "stream",
     "text": [
      "INFO:tensorflow:Assets written to: model\\assets\n"
     ]
    },
    {
     "name": "stdout",
     "output_type": "stream",
     "text": [
      "2/2 [==============================] - 3s 3s/step - loss: 0.0017 - root_mean_squared_error: 0.0417 - val_loss: 0.0859 - val_root_mean_squared_error: 0.2931\n",
      "Epoch 154/200\n",
      "1/2 [==============>...............] - ETA: 0s - loss: 0.0020 - root_mean_squared_error: 0.0445INFO:tensorflow:Assets written to: model\\assets\n"
     ]
    },
    {
     "name": "stderr",
     "output_type": "stream",
     "text": [
      "INFO:tensorflow:Assets written to: model\\assets\n"
     ]
    },
    {
     "name": "stdout",
     "output_type": "stream",
     "text": [
      "2/2 [==============================] - 3s 3s/step - loss: 0.0017 - root_mean_squared_error: 0.0415 - val_loss: 0.0846 - val_root_mean_squared_error: 0.2909\n",
      "Epoch 155/200\n",
      "1/2 [==============>...............] - ETA: 0s - loss: 7.3897e-04 - root_mean_squared_error: 0.0272INFO:tensorflow:Assets written to: model\\assets\n"
     ]
    },
    {
     "name": "stderr",
     "output_type": "stream",
     "text": [
      "INFO:tensorflow:Assets written to: model\\assets\n"
     ]
    },
    {
     "name": "stdout",
     "output_type": "stream",
     "text": [
      "2/2 [==============================] - 4s 4s/step - loss: 0.0017 - root_mean_squared_error: 0.0411 - val_loss: 0.0830 - val_root_mean_squared_error: 0.2882\n",
      "Epoch 156/200\n",
      "1/2 [==============>...............] - ETA: 0s - loss: 0.0019 - root_mean_squared_error: 0.0436INFO:tensorflow:Assets written to: model\\assets\n"
     ]
    },
    {
     "name": "stderr",
     "output_type": "stream",
     "text": [
      "INFO:tensorflow:Assets written to: model\\assets\n"
     ]
    },
    {
     "name": "stdout",
     "output_type": "stream",
     "text": [
      "2/2 [==============================] - 3s 3s/step - loss: 0.0017 - root_mean_squared_error: 0.0408 - val_loss: 0.0811 - val_root_mean_squared_error: 0.2848\n",
      "Epoch 157/200\n",
      "1/2 [==============>...............] - ETA: 0s - loss: 0.0018 - root_mean_squared_error: 0.0428INFO:tensorflow:Assets written to: model\\assets\n"
     ]
    },
    {
     "name": "stderr",
     "output_type": "stream",
     "text": [
      "INFO:tensorflow:Assets written to: model\\assets\n"
     ]
    },
    {
     "name": "stdout",
     "output_type": "stream",
     "text": [
      "2/2 [==============================] - 3s 3s/step - loss: 0.0016 - root_mean_squared_error: 0.0402 - val_loss: 0.0795 - val_root_mean_squared_error: 0.2819\n",
      "Epoch 158/200\n",
      "1/2 [==============>...............] - ETA: 0s - loss: 0.0014 - root_mean_squared_error: 0.0370INFO:tensorflow:Assets written to: model\\assets\n"
     ]
    },
    {
     "name": "stderr",
     "output_type": "stream",
     "text": [
      "INFO:tensorflow:Assets written to: model\\assets\n"
     ]
    },
    {
     "name": "stdout",
     "output_type": "stream",
     "text": [
      "2/2 [==============================] - 3s 3s/step - loss: 0.0016 - root_mean_squared_error: 0.0398 - val_loss: 0.0780 - val_root_mean_squared_error: 0.2792\n",
      "Epoch 159/200\n",
      "1/2 [==============>...............] - ETA: 0s - loss: 0.0017 - root_mean_squared_error: 0.0417INFO:tensorflow:Assets written to: model\\assets\n"
     ]
    },
    {
     "name": "stderr",
     "output_type": "stream",
     "text": [
      "INFO:tensorflow:Assets written to: model\\assets\n"
     ]
    },
    {
     "name": "stdout",
     "output_type": "stream",
     "text": [
      "2/2 [==============================] - 3s 3s/step - loss: 0.0016 - root_mean_squared_error: 0.0394 - val_loss: 0.0764 - val_root_mean_squared_error: 0.2765\n",
      "Epoch 160/200\n",
      "1/2 [==============>...............] - ETA: 0s - loss: 0.0012 - root_mean_squared_error: 0.0343INFO:tensorflow:Assets written to: model\\assets\n"
     ]
    },
    {
     "name": "stderr",
     "output_type": "stream",
     "text": [
      "INFO:tensorflow:Assets written to: model\\assets\n"
     ]
    },
    {
     "name": "stdout",
     "output_type": "stream",
     "text": [
      "2/2 [==============================] - 3s 3s/step - loss: 0.0015 - root_mean_squared_error: 0.0391 - val_loss: 0.0750 - val_root_mean_squared_error: 0.2738\n",
      "Epoch 161/200\n",
      "1/2 [==============>...............] - ETA: 0s - loss: 0.0017 - root_mean_squared_error: 0.0417INFO:tensorflow:Assets written to: model\\assets\n"
     ]
    },
    {
     "name": "stderr",
     "output_type": "stream",
     "text": [
      "INFO:tensorflow:Assets written to: model\\assets\n"
     ]
    },
    {
     "name": "stdout",
     "output_type": "stream",
     "text": [
      "2/2 [==============================] - 3s 3s/step - loss: 0.0015 - root_mean_squared_error: 0.0388 - val_loss: 0.0735 - val_root_mean_squared_error: 0.2712\n",
      "Epoch 162/200\n",
      "1/2 [==============>...............] - ETA: 0s - loss: 0.0012 - root_mean_squared_error: 0.0353INFO:tensorflow:Assets written to: model\\assets\n"
     ]
    },
    {
     "name": "stderr",
     "output_type": "stream",
     "text": [
      "INFO:tensorflow:Assets written to: model\\assets\n"
     ]
    },
    {
     "name": "stdout",
     "output_type": "stream",
     "text": [
      "2/2 [==============================] - 3s 3s/step - loss: 0.0015 - root_mean_squared_error: 0.0385 - val_loss: 0.0723 - val_root_mean_squared_error: 0.2689\n",
      "Epoch 163/200\n",
      "1/2 [==============>...............] - ETA: 0s - loss: 0.0013 - root_mean_squared_error: 0.0358INFO:tensorflow:Assets written to: model\\assets\n"
     ]
    },
    {
     "name": "stderr",
     "output_type": "stream",
     "text": [
      "INFO:tensorflow:Assets written to: model\\assets\n"
     ]
    },
    {
     "name": "stdout",
     "output_type": "stream",
     "text": [
      "2/2 [==============================] - 3s 3s/step - loss: 0.0015 - root_mean_squared_error: 0.0383 - val_loss: 0.0712 - val_root_mean_squared_error: 0.2668\n",
      "Epoch 164/200\n",
      "1/2 [==============>...............] - ETA: 0s - loss: 0.0015 - root_mean_squared_error: 0.0392INFO:tensorflow:Assets written to: model\\assets\n"
     ]
    },
    {
     "name": "stderr",
     "output_type": "stream",
     "text": [
      "INFO:tensorflow:Assets written to: model\\assets\n"
     ]
    },
    {
     "name": "stdout",
     "output_type": "stream",
     "text": [
      "2/2 [==============================] - 3s 3s/step - loss: 0.0014 - root_mean_squared_error: 0.0380 - val_loss: 0.0700 - val_root_mean_squared_error: 0.2645\n",
      "Epoch 165/200\n",
      "1/2 [==============>...............] - ETA: 0s - loss: 0.0016 - root_mean_squared_error: 0.0396INFO:tensorflow:Assets written to: model\\assets\n"
     ]
    },
    {
     "name": "stderr",
     "output_type": "stream",
     "text": [
      "INFO:tensorflow:Assets written to: model\\assets\n"
     ]
    },
    {
     "name": "stdout",
     "output_type": "stream",
     "text": [
      "2/2 [==============================] - 3s 3s/step - loss: 0.0014 - root_mean_squared_error: 0.0378 - val_loss: 0.0688 - val_root_mean_squared_error: 0.2623\n",
      "Epoch 166/200\n",
      "1/2 [==============>...............] - ETA: 0s - loss: 0.0015 - root_mean_squared_error: 0.0386INFO:tensorflow:Assets written to: model\\assets\n"
     ]
    },
    {
     "name": "stderr",
     "output_type": "stream",
     "text": [
      "INFO:tensorflow:Assets written to: model\\assets\n"
     ]
    },
    {
     "name": "stdout",
     "output_type": "stream",
     "text": [
      "2/2 [==============================] - 4s 4s/step - loss: 0.0014 - root_mean_squared_error: 0.0375 - val_loss: 0.0678 - val_root_mean_squared_error: 0.2605\n",
      "Epoch 167/200\n",
      "1/2 [==============>...............] - ETA: 0s - loss: 0.0011 - root_mean_squared_error: 0.0336INFO:tensorflow:Assets written to: model\\assets\n"
     ]
    },
    {
     "name": "stderr",
     "output_type": "stream",
     "text": [
      "INFO:tensorflow:Assets written to: model\\assets\n"
     ]
    },
    {
     "name": "stdout",
     "output_type": "stream",
     "text": [
      "2/2 [==============================] - 3s 3s/step - loss: 0.0014 - root_mean_squared_error: 0.0372 - val_loss: 0.0670 - val_root_mean_squared_error: 0.2588\n",
      "Epoch 168/200\n",
      "1/2 [==============>...............] - ETA: 0s - loss: 8.4279e-04 - root_mean_squared_error: 0.0290INFO:tensorflow:Assets written to: model\\assets\n"
     ]
    },
    {
     "name": "stderr",
     "output_type": "stream",
     "text": [
      "INFO:tensorflow:Assets written to: model\\assets\n"
     ]
    },
    {
     "name": "stdout",
     "output_type": "stream",
     "text": [
      "2/2 [==============================] - 3s 3s/step - loss: 0.0014 - root_mean_squared_error: 0.0369 - val_loss: 0.0658 - val_root_mean_squared_error: 0.2564\n",
      "Epoch 169/200\n",
      "1/2 [==============>...............] - ETA: 0s - loss: 0.0015 - root_mean_squared_error: 0.0387INFO:tensorflow:Assets written to: model\\assets\n"
     ]
    },
    {
     "name": "stderr",
     "output_type": "stream",
     "text": [
      "INFO:tensorflow:Assets written to: model\\assets\n"
     ]
    },
    {
     "name": "stdout",
     "output_type": "stream",
     "text": [
      "2/2 [==============================] - 3s 3s/step - loss: 0.0013 - root_mean_squared_error: 0.0366 - val_loss: 0.0644 - val_root_mean_squared_error: 0.2538\n",
      "Epoch 170/200\n",
      "1/2 [==============>...............] - ETA: 0s - loss: 0.0012 - root_mean_squared_error: 0.0339INFO:tensorflow:Assets written to: model\\assets\n"
     ]
    },
    {
     "name": "stderr",
     "output_type": "stream",
     "text": [
      "INFO:tensorflow:Assets written to: model\\assets\n"
     ]
    },
    {
     "name": "stdout",
     "output_type": "stream",
     "text": [
      "2/2 [==============================] - 3s 3s/step - loss: 0.0013 - root_mean_squared_error: 0.0362 - val_loss: 0.0633 - val_root_mean_squared_error: 0.2516\n",
      "Epoch 171/200\n",
      "1/2 [==============>...............] - ETA: 0s - loss: 0.0014 - root_mean_squared_error: 0.0371INFO:tensorflow:Assets written to: model\\assets\n"
     ]
    },
    {
     "name": "stderr",
     "output_type": "stream",
     "text": [
      "INFO:tensorflow:Assets written to: model\\assets\n"
     ]
    },
    {
     "name": "stdout",
     "output_type": "stream",
     "text": [
      "2/2 [==============================] - 3s 3s/step - loss: 0.0013 - root_mean_squared_error: 0.0359 - val_loss: 0.0623 - val_root_mean_squared_error: 0.2495\n",
      "Epoch 172/200\n",
      "1/2 [==============>...............] - ETA: 0s - loss: 0.0013 - root_mean_squared_error: 0.0363INFO:tensorflow:Assets written to: model\\assets\n"
     ]
    },
    {
     "name": "stderr",
     "output_type": "stream",
     "text": [
      "INFO:tensorflow:Assets written to: model\\assets\n"
     ]
    },
    {
     "name": "stdout",
     "output_type": "stream",
     "text": [
      "2/2 [==============================] - 3s 3s/step - loss: 0.0013 - root_mean_squared_error: 0.0356 - val_loss: 0.0615 - val_root_mean_squared_error: 0.2480\n",
      "Epoch 173/200\n",
      "1/2 [==============>...............] - ETA: 0s - loss: 0.0012 - root_mean_squared_error: 0.0341INFO:tensorflow:Assets written to: model\\assets\n"
     ]
    },
    {
     "name": "stderr",
     "output_type": "stream",
     "text": [
      "INFO:tensorflow:Assets written to: model\\assets\n"
     ]
    },
    {
     "name": "stdout",
     "output_type": "stream",
     "text": [
      "2/2 [==============================] - 3s 3s/step - loss: 0.0012 - root_mean_squared_error: 0.0353 - val_loss: 0.0606 - val_root_mean_squared_error: 0.2462\n",
      "Epoch 174/200\n",
      "1/2 [==============>...............] - ETA: 0s - loss: 0.0011 - root_mean_squared_error: 0.0330INFO:tensorflow:Assets written to: model\\assets\n"
     ]
    },
    {
     "name": "stderr",
     "output_type": "stream",
     "text": [
      "INFO:tensorflow:Assets written to: model\\assets\n"
     ]
    },
    {
     "name": "stdout",
     "output_type": "stream",
     "text": [
      "2/2 [==============================] - 3s 3s/step - loss: 0.0012 - root_mean_squared_error: 0.0349 - val_loss: 0.0595 - val_root_mean_squared_error: 0.2439\n",
      "Epoch 175/200\n",
      "1/2 [==============>...............] - ETA: 0s - loss: 0.0010 - root_mean_squared_error: 0.0323INFO:tensorflow:Assets written to: model\\assets\n"
     ]
    },
    {
     "name": "stderr",
     "output_type": "stream",
     "text": [
      "INFO:tensorflow:Assets written to: model\\assets\n"
     ]
    },
    {
     "name": "stdout",
     "output_type": "stream",
     "text": [
      "2/2 [==============================] - 3s 3s/step - loss: 0.0012 - root_mean_squared_error: 0.0347 - val_loss: 0.0583 - val_root_mean_squared_error: 0.2414\n",
      "Epoch 176/200\n",
      "1/2 [==============>...............] - ETA: 0s - loss: 0.0013 - root_mean_squared_error: 0.0362INFO:tensorflow:Assets written to: model\\assets\n"
     ]
    },
    {
     "name": "stderr",
     "output_type": "stream",
     "text": [
      "INFO:tensorflow:Assets written to: model\\assets\n"
     ]
    },
    {
     "name": "stdout",
     "output_type": "stream",
     "text": [
      "2/2 [==============================] - 3s 3s/step - loss: 0.0012 - root_mean_squared_error: 0.0345 - val_loss: 0.0571 - val_root_mean_squared_error: 0.2389\n",
      "Epoch 177/200\n",
      "1/2 [==============>...............] - ETA: 0s - loss: 0.0011 - root_mean_squared_error: 0.0332INFO:tensorflow:Assets written to: model\\assets\n"
     ]
    },
    {
     "name": "stderr",
     "output_type": "stream",
     "text": [
      "INFO:tensorflow:Assets written to: model\\assets\n"
     ]
    },
    {
     "name": "stdout",
     "output_type": "stream",
     "text": [
      "2/2 [==============================] - 3s 3s/step - loss: 0.0012 - root_mean_squared_error: 0.0341 - val_loss: 0.0559 - val_root_mean_squared_error: 0.2364\n",
      "Epoch 178/200\n",
      "1/2 [==============>...............] - ETA: 0s - loss: 0.0012 - root_mean_squared_error: 0.0340INFO:tensorflow:Assets written to: model\\assets\n"
     ]
    },
    {
     "name": "stderr",
     "output_type": "stream",
     "text": [
      "INFO:tensorflow:Assets written to: model\\assets\n"
     ]
    },
    {
     "name": "stdout",
     "output_type": "stream",
     "text": [
      "2/2 [==============================] - 3s 3s/step - loss: 0.0011 - root_mean_squared_error: 0.0339 - val_loss: 0.0546 - val_root_mean_squared_error: 0.2337\n",
      "Epoch 179/200\n",
      "1/2 [==============>...............] - ETA: 0s - loss: 0.0011 - root_mean_squared_error: 0.0335INFO:tensorflow:Assets written to: model\\assets\n"
     ]
    },
    {
     "name": "stderr",
     "output_type": "stream",
     "text": [
      "INFO:tensorflow:Assets written to: model\\assets\n"
     ]
    },
    {
     "name": "stdout",
     "output_type": "stream",
     "text": [
      "2/2 [==============================] - 4s 4s/step - loss: 0.0011 - root_mean_squared_error: 0.0337 - val_loss: 0.0535 - val_root_mean_squared_error: 0.2314\n",
      "Epoch 180/200\n",
      "1/2 [==============>...............] - ETA: 0s - loss: 0.0013 - root_mean_squared_error: 0.0358INFO:tensorflow:Assets written to: model\\assets\n"
     ]
    },
    {
     "name": "stderr",
     "output_type": "stream",
     "text": [
      "INFO:tensorflow:Assets written to: model\\assets\n"
     ]
    },
    {
     "name": "stdout",
     "output_type": "stream",
     "text": [
      "2/2 [==============================] - 3s 3s/step - loss: 0.0011 - root_mean_squared_error: 0.0335 - val_loss: 0.0527 - val_root_mean_squared_error: 0.2295\n",
      "Epoch 181/200\n",
      "1/2 [==============>...............] - ETA: 0s - loss: 0.0011 - root_mean_squared_error: 0.0337INFO:tensorflow:Assets written to: model\\assets\n"
     ]
    },
    {
     "name": "stderr",
     "output_type": "stream",
     "text": [
      "INFO:tensorflow:Assets written to: model\\assets\n"
     ]
    },
    {
     "name": "stdout",
     "output_type": "stream",
     "text": [
      "2/2 [==============================] - 4s 4s/step - loss: 0.0011 - root_mean_squared_error: 0.0333 - val_loss: 0.0520 - val_root_mean_squared_error: 0.2280\n",
      "Epoch 182/200\n",
      "1/2 [==============>...............] - ETA: 0s - loss: 7.6608e-04 - root_mean_squared_error: 0.0277INFO:tensorflow:Assets written to: model\\assets\n"
     ]
    },
    {
     "name": "stderr",
     "output_type": "stream",
     "text": [
      "INFO:tensorflow:Assets written to: model\\assets\n"
     ]
    },
    {
     "name": "stdout",
     "output_type": "stream",
     "text": [
      "2/2 [==============================] - 4s 4s/step - loss: 0.0011 - root_mean_squared_error: 0.0331 - val_loss: 0.0513 - val_root_mean_squared_error: 0.2265\n",
      "Epoch 183/200\n",
      "1/2 [==============>...............] - ETA: 0s - loss: 0.0010 - root_mean_squared_error: 0.0319INFO:tensorflow:Assets written to: model\\assets\n"
     ]
    },
    {
     "name": "stderr",
     "output_type": "stream",
     "text": [
      "INFO:tensorflow:Assets written to: model\\assets\n"
     ]
    },
    {
     "name": "stdout",
     "output_type": "stream",
     "text": [
      "2/2 [==============================] - 3s 3s/step - loss: 0.0011 - root_mean_squared_error: 0.0329 - val_loss: 0.0505 - val_root_mean_squared_error: 0.2247\n",
      "Epoch 184/200\n",
      "1/2 [==============>...............] - ETA: 0s - loss: 8.6542e-04 - root_mean_squared_error: 0.0294INFO:tensorflow:Assets written to: model\\assets\n"
     ]
    },
    {
     "name": "stderr",
     "output_type": "stream",
     "text": [
      "INFO:tensorflow:Assets written to: model\\assets\n"
     ]
    },
    {
     "name": "stdout",
     "output_type": "stream",
     "text": [
      "2/2 [==============================] - 3s 3s/step - loss: 0.0011 - root_mean_squared_error: 0.0327 - val_loss: 0.0496 - val_root_mean_squared_error: 0.2227\n",
      "Epoch 185/200\n",
      "1/2 [==============>...............] - ETA: 0s - loss: 0.0011 - root_mean_squared_error: 0.0339INFO:tensorflow:Assets written to: model\\assets\n"
     ]
    },
    {
     "name": "stderr",
     "output_type": "stream",
     "text": [
      "INFO:tensorflow:Assets written to: model\\assets\n"
     ]
    },
    {
     "name": "stdout",
     "output_type": "stream",
     "text": [
      "2/2 [==============================] - 3s 3s/step - loss: 0.0011 - root_mean_squared_error: 0.0325 - val_loss: 0.0488 - val_root_mean_squared_error: 0.2209\n",
      "Epoch 186/200\n",
      "1/2 [==============>...............] - ETA: 0s - loss: 0.0011 - root_mean_squared_error: 0.0335INFO:tensorflow:Assets written to: model\\assets\n"
     ]
    },
    {
     "name": "stderr",
     "output_type": "stream",
     "text": [
      "INFO:tensorflow:Assets written to: model\\assets\n"
     ]
    },
    {
     "name": "stdout",
     "output_type": "stream",
     "text": [
      "2/2 [==============================] - 3s 3s/step - loss: 0.0010 - root_mean_squared_error: 0.0324 - val_loss: 0.0480 - val_root_mean_squared_error: 0.2192\n",
      "Epoch 187/200\n",
      "1/2 [==============>...............] - ETA: 0s - loss: 0.0011 - root_mean_squared_error: 0.0336INFO:tensorflow:Assets written to: model\\assets\n"
     ]
    },
    {
     "name": "stderr",
     "output_type": "stream",
     "text": [
      "INFO:tensorflow:Assets written to: model\\assets\n"
     ]
    },
    {
     "name": "stdout",
     "output_type": "stream",
     "text": [
      "2/2 [==============================] - 3s 3s/step - loss: 0.0010 - root_mean_squared_error: 0.0322 - val_loss: 0.0474 - val_root_mean_squared_error: 0.2176\n",
      "Epoch 188/200\n",
      "1/2 [==============>...............] - ETA: 0s - loss: 0.0012 - root_mean_squared_error: 0.0344INFO:tensorflow:Assets written to: model\\assets\n"
     ]
    },
    {
     "name": "stderr",
     "output_type": "stream",
     "text": [
      "INFO:tensorflow:Assets written to: model\\assets\n"
     ]
    },
    {
     "name": "stdout",
     "output_type": "stream",
     "text": [
      "2/2 [==============================] - 3s 3s/step - loss: 0.0010 - root_mean_squared_error: 0.0321 - val_loss: 0.0467 - val_root_mean_squared_error: 0.2161\n",
      "Epoch 189/200\n",
      "1/2 [==============>...............] - ETA: 0s - loss: 8.1033e-04 - root_mean_squared_error: 0.0285INFO:tensorflow:Assets written to: model\\assets\n"
     ]
    },
    {
     "name": "stderr",
     "output_type": "stream",
     "text": [
      "INFO:tensorflow:Assets written to: model\\assets\n"
     ]
    },
    {
     "name": "stdout",
     "output_type": "stream",
     "text": [
      "2/2 [==============================] - 3s 3s/step - loss: 0.0010 - root_mean_squared_error: 0.0319 - val_loss: 0.0460 - val_root_mean_squared_error: 0.2144\n",
      "Epoch 190/200\n",
      "1/2 [==============>...............] - ETA: 0s - loss: 8.0846e-04 - root_mean_squared_error: 0.0284INFO:tensorflow:Assets written to: model\\assets\n"
     ]
    },
    {
     "name": "stderr",
     "output_type": "stream",
     "text": [
      "INFO:tensorflow:Assets written to: model\\assets\n"
     ]
    },
    {
     "name": "stdout",
     "output_type": "stream",
     "text": [
      "2/2 [==============================] - 3s 3s/step - loss: 0.0010 - root_mean_squared_error: 0.0317 - val_loss: 0.0450 - val_root_mean_squared_error: 0.2122\n",
      "Epoch 191/200\n",
      "1/2 [==============>...............] - ETA: 0s - loss: 0.0011 - root_mean_squared_error: 0.0329INFO:tensorflow:Assets written to: model\\assets\n"
     ]
    },
    {
     "name": "stderr",
     "output_type": "stream",
     "text": [
      "INFO:tensorflow:Assets written to: model\\assets\n"
     ]
    },
    {
     "name": "stdout",
     "output_type": "stream",
     "text": [
      "2/2 [==============================] - 3s 3s/step - loss: 9.9835e-04 - root_mean_squared_error: 0.0316 - val_loss: 0.0441 - val_root_mean_squared_error: 0.2099\n",
      "Epoch 192/200\n",
      "1/2 [==============>...............] - ETA: 0s - loss: 0.0011 - root_mean_squared_error: 0.0336INFO:tensorflow:Assets written to: model\\assets\n"
     ]
    },
    {
     "name": "stderr",
     "output_type": "stream",
     "text": [
      "INFO:tensorflow:Assets written to: model\\assets\n"
     ]
    },
    {
     "name": "stdout",
     "output_type": "stream",
     "text": [
      "2/2 [==============================] - 4s 4s/step - loss: 9.9935e-04 - root_mean_squared_error: 0.0316 - val_loss: 0.0432 - val_root_mean_squared_error: 0.2079\n",
      "Epoch 193/200\n",
      "1/2 [==============>...............] - ETA: 0s - loss: 7.8585e-04 - root_mean_squared_error: 0.0280INFO:tensorflow:Assets written to: model\\assets\n"
     ]
    },
    {
     "name": "stderr",
     "output_type": "stream",
     "text": [
      "INFO:tensorflow:Assets written to: model\\assets\n"
     ]
    },
    {
     "name": "stdout",
     "output_type": "stream",
     "text": [
      "2/2 [==============================] - 3s 3s/step - loss: 0.0010 - root_mean_squared_error: 0.0317 - val_loss: 0.0425 - val_root_mean_squared_error: 0.2061\n",
      "Epoch 194/200\n",
      "1/2 [==============>...............] - ETA: 0s - loss: 0.0011 - root_mean_squared_error: 0.0329INFO:tensorflow:Assets written to: model\\assets\n"
     ]
    },
    {
     "name": "stderr",
     "output_type": "stream",
     "text": [
      "INFO:tensorflow:Assets written to: model\\assets\n"
     ]
    },
    {
     "name": "stdout",
     "output_type": "stream",
     "text": [
      "2/2 [==============================] - 3s 3s/step - loss: 0.0010 - root_mean_squared_error: 0.0318 - val_loss: 0.0419 - val_root_mean_squared_error: 0.2048\n",
      "Epoch 195/200\n",
      "1/2 [==============>...............] - ETA: 0s - loss: 8.0289e-04 - root_mean_squared_error: 0.0283INFO:tensorflow:Assets written to: model\\assets\n"
     ]
    },
    {
     "name": "stderr",
     "output_type": "stream",
     "text": [
      "INFO:tensorflow:Assets written to: model\\assets\n"
     ]
    },
    {
     "name": "stdout",
     "output_type": "stream",
     "text": [
      "2/2 [==============================] - 3s 3s/step - loss: 0.0010 - root_mean_squared_error: 0.0316 - val_loss: 0.0416 - val_root_mean_squared_error: 0.2039\n",
      "Epoch 196/200\n",
      "1/2 [==============>...............] - ETA: 0s - loss: 0.0010 - root_mean_squared_error: 0.0319INFO:tensorflow:Assets written to: model\\assets\n"
     ]
    },
    {
     "name": "stderr",
     "output_type": "stream",
     "text": [
      "INFO:tensorflow:Assets written to: model\\assets\n"
     ]
    },
    {
     "name": "stdout",
     "output_type": "stream",
     "text": [
      "2/2 [==============================] - 3s 3s/step - loss: 9.8519e-04 - root_mean_squared_error: 0.0314 - val_loss: 0.0414 - val_root_mean_squared_error: 0.2034\n",
      "Epoch 197/200\n",
      "1/2 [==============>...............] - ETA: 0s - loss: 8.0097e-04 - root_mean_squared_error: 0.0283INFO:tensorflow:Assets written to: model\\assets\n"
     ]
    },
    {
     "name": "stderr",
     "output_type": "stream",
     "text": [
      "INFO:tensorflow:Assets written to: model\\assets\n"
     ]
    },
    {
     "name": "stdout",
     "output_type": "stream",
     "text": [
      "2/2 [==============================] - 4s 4s/step - loss: 9.7817e-04 - root_mean_squared_error: 0.0313 - val_loss: 0.0412 - val_root_mean_squared_error: 0.2030\n",
      "Epoch 198/200\n",
      "1/2 [==============>...............] - ETA: 0s - loss: 0.0011 - root_mean_squared_error: 0.0329INFO:tensorflow:Assets written to: model\\assets\n"
     ]
    },
    {
     "name": "stderr",
     "output_type": "stream",
     "text": [
      "INFO:tensorflow:Assets written to: model\\assets\n"
     ]
    },
    {
     "name": "stdout",
     "output_type": "stream",
     "text": [
      "2/2 [==============================] - 4s 4s/step - loss: 9.5484e-04 - root_mean_squared_error: 0.0309 - val_loss: 0.0409 - val_root_mean_squared_error: 0.2023\n",
      "Epoch 199/200\n",
      "1/2 [==============>...............] - ETA: 0s - loss: 0.0010 - root_mean_squared_error: 0.0323INFO:tensorflow:Assets written to: model\\assets\n"
     ]
    },
    {
     "name": "stderr",
     "output_type": "stream",
     "text": [
      "INFO:tensorflow:Assets written to: model\\assets\n"
     ]
    },
    {
     "name": "stdout",
     "output_type": "stream",
     "text": [
      "2/2 [==============================] - 4s 4s/step - loss: 9.5125e-04 - root_mean_squared_error: 0.0308 - val_loss: 0.0406 - val_root_mean_squared_error: 0.2015\n",
      "Epoch 200/200\n",
      "1/2 [==============>...............] - ETA: 0s - loss: 0.0011 - root_mean_squared_error: 0.0331INFO:tensorflow:Assets written to: model\\assets\n"
     ]
    },
    {
     "name": "stderr",
     "output_type": "stream",
     "text": [
      "INFO:tensorflow:Assets written to: model\\assets\n"
     ]
    },
    {
     "name": "stdout",
     "output_type": "stream",
     "text": [
      "2/2 [==============================] - 3s 3s/step - loss: 9.4181e-04 - root_mean_squared_error: 0.0307 - val_loss: 0.0402 - val_root_mean_squared_error: 0.2005\n"
     ]
    },
    {
     "data": {
      "text/plain": [
       "<keras.src.callbacks.History at 0x2279c4342b0>"
      ]
     },
     "execution_count": 108,
     "metadata": {},
     "output_type": "execute_result"
    }
   ],
   "source": [
    "model.fit(X_train, y_train, verbose=1, validation_data=(X_val, y_val), epochs=200, callbacks=[cp1])"
   ]
  },
  {
   "cell_type": "markdown",
   "id": "dc67b341-ae29-4063-8432-7a8a6faaf482",
   "metadata": {},
   "source": [
    "### Load the model checkpoints and predict"
   ]
  },
  {
   "cell_type": "code",
   "execution_count": 109,
   "id": "abb41eb9-6004-43db-bf4b-efefb4c604d2",
   "metadata": {},
   "outputs": [],
   "source": [
    "best_model = load_model('model/')"
   ]
  },
  {
   "cell_type": "code",
   "execution_count": 110,
   "id": "41707ba3-32bb-4dcb-a5b2-91e00e3d3269",
   "metadata": {},
   "outputs": [
    {
     "name": "stdout",
     "output_type": "stream",
     "text": [
      "2/2 [==============================] - 0s 3ms/step\n"
     ]
    },
    {
     "data": {
      "text/plain": [
       "array([[2609.369 ],\n",
       "       [2727.106 ],\n",
       "       [2808.241 ],\n",
       "       [2696.7927],\n",
       "       [2738.2483],\n",
       "       [2898.7842],\n",
       "       [3015.1975],\n",
       "       [3315.3792],\n",
       "       [4044.0576],\n",
       "       [4258.005 ],\n",
       "       [3649.1084],\n",
       "       [3610.3926],\n",
       "       [3877.3293],\n",
       "       [3560.8508],\n",
       "       [3130.842 ],\n",
       "       [3066.4312],\n",
       "       [3075.0005],\n",
       "       [3409.034 ],\n",
       "       [3900.2083],\n",
       "       [3888.2505],\n",
       "       [3986.1885],\n",
       "       [4576.2085],\n",
       "       [5037.962 ],\n",
       "       [4721.5493],\n",
       "       [4206.5005],\n",
       "       [4113.566 ],\n",
       "       [4169.2285],\n",
       "       [4066.2607],\n",
       "       [3740.9697],\n",
       "       [3924.53  ],\n",
       "       [4200.1377],\n",
       "       [4949.445 ],\n",
       "       [5564.007 ],\n",
       "       [5836.61  ],\n",
       "       [6242.449 ],\n",
       "       [7630.8584],\n",
       "       [8971.283 ],\n",
       "       [9069.728 ],\n",
       "       [9401.932 ]], dtype=float32)"
      ]
     },
     "execution_count": 110,
     "metadata": {},
     "output_type": "execute_result"
    }
   ],
   "source": [
    "train_predict = best_model.predict(X_train)\n",
    "train_predict = scaler.inverse_transform(train_predict)\n",
    "train_predict"
   ]
  },
  {
   "cell_type": "code",
   "execution_count": 111,
   "id": "eb8580c4-5d3f-4219-99a6-5fb165760047",
   "metadata": {},
   "outputs": [
    {
     "data": {
      "text/plain": [
       "array([2609.369 , 2727.106 , 2808.241 , 2696.7927, 2738.2483, 2898.7842,\n",
       "       3015.1975, 3315.3792, 4044.0576, 4258.005 , 3649.1084, 3610.3926,\n",
       "       3877.3293, 3560.8508, 3130.842 , 3066.4312, 3075.0005, 3409.034 ,\n",
       "       3900.2083, 3888.2505, 3986.1885, 4576.2085, 5037.962 , 4721.5493,\n",
       "       4206.5005, 4113.566 , 4169.2285, 4066.2607, 3740.9697, 3924.53  ,\n",
       "       4200.1377, 4949.445 , 5564.007 , 5836.61  , 6242.449 , 7630.8584,\n",
       "       8971.283 , 9069.728 , 9401.932 ], dtype=float32)"
      ]
     },
     "execution_count": 111,
     "metadata": {},
     "output_type": "execute_result"
    }
   ],
   "source": [
    "train_predict.flatten()"
   ]
  },
  {
   "cell_type": "code",
   "execution_count": 112,
   "id": "a22651cb-dc32-4667-b87c-46b2140e577a",
   "metadata": {},
   "outputs": [
    {
     "data": {
      "text/plain": [
       "Text(0.5, 1.0, 'Training Accuracy')"
      ]
     },
     "execution_count": 112,
     "metadata": {},
     "output_type": "execute_result"
    },
    {
     "data": {
      "image/png": "[encoded data removed]",
      "text/plain": [
       "<Figure size 640x480 with 1 Axes>"
      ]
     },
     "metadata": {},
     "output_type": "display_data"
    }
   ],
   "source": [
    "plt.plot(train_data_year[window_size+1:], train_predict.flatten())\n",
    "plt.plot(train_data_year[window_size+1:], scaler.inverse_transform(y_train.reshape(-1, 1)))\n",
    "plt.legend(['Predicted', 'Actual'])\n",
    "plt.title('Training Accuracy')"
   ]
  },
  {
   "cell_type": "code",
   "execution_count": 113,
   "id": "f14dac84-5454-4641-9e82-0ef518332543",
   "metadata": {},
   "outputs": [
    {
     "name": "stdout",
     "output_type": "stream",
     "text": [
      "1/1 [==============================] - 0s 21ms/step\n"
     ]
    },
    {
     "data": {
      "text/plain": [
       "array([[10899.3125],\n",
       "       [11299.564 ],\n",
       "       [11683.564 ],\n",
       "       [11644.606 ],\n",
       "       [11459.824 ],\n",
       "       [11625.26  ],\n",
       "       [11282.571 ],\n",
       "       [11310.394 ],\n",
       "       [12068.114 ],\n",
       "       [13077.589 ],\n",
       "       [12950.0625],\n",
       "       [12974.496 ],\n",
       "       [14523.23  ],\n",
       "       [15697.303 ],\n",
       "       [16491.459 ]], dtype=float32)"
      ]
     },
     "execution_count": 113,
     "metadata": {},
     "output_type": "execute_result"
    }
   ],
   "source": [
    "val_predict = best_model.predict(X_val)\n",
    "val_predict = scaler.inverse_transform(val_predict)\n",
    "val_predict"
   ]
  },
  {
   "cell_type": "code",
   "execution_count": 114,
   "id": "6c3f2221-0b6c-43f6-b823-3f34278a2b4e",
   "metadata": {},
   "outputs": [
    {
     "data": {
      "text/plain": [
       "Text(0.5, 1.0, 'Validation Accuracy')"
      ]
     },
     "execution_count": 114,
     "metadata": {},
     "output_type": "execute_result"
    },
    {
     "data": {
      "image/png": "[encoded data removed]",
      "text/plain": [
       "<Figure size 640x480 with 1 Axes>"
      ]
     },
     "metadata": {},
     "output_type": "display_data"
    }
   ],
   "source": [
    "plt.plot(val_data_year[window_size+1:], val_predict.flatten())\n",
    "plt.plot(val_data_year[window_size+1:], scaler.inverse_transform(y_val.reshape(-1, 1)))\n",
    "plt.legend(['Predicted', 'Actual'])\n",
    "plt.title('Validation Accuracy')"
   ]
  },
  {
   "cell_type": "markdown",
   "id": "75331832-29e2-4a4e-9ab6-40da930bc856",
   "metadata": {},
   "source": [
    "<h2>CO<sub>2</sub> prediction for next 5 years</h2>\n",
    "In order to predict next 10 years, we have to start with last 5 (window_size) records of the dataset and predict future values one by one."
   ]
  },
  {
   "cell_type": "code",
   "execution_count": 115,
   "id": "ab205aae-88c0-4031-86b6-8d414e256e15",
   "metadata": {},
   "outputs": [
    {
     "data": {
      "text/plain": [
       "array([[0.42428668],\n",
       "       [0.47168195],\n",
       "       [0.49305629],\n",
       "       [0.5446335 ],\n",
       "       [0.47121728],\n",
       "       [0.5265118 ],\n",
       "       [0.49026836],\n",
       "       [0.46610604],\n",
       "       [0.50234947],\n",
       "       [0.61154451],\n",
       "       [0.67799085],\n",
       "       [0.56786648],\n",
       "       [0.71284033],\n",
       "       [0.8410864 ],\n",
       "       [0.91403795],\n",
       "       [0.98048429],\n",
       "       [0.90288613],\n",
       "       [1.        ]])"
      ]
     },
     "execution_count": 115,
     "metadata": {},
     "output_type": "execute_result"
    }
   ],
   "source": [
    "val_data"
   ]
  },
  {
   "cell_type": "code",
   "execution_count": 116,
   "id": "870403de-2c2e-4057-a5b7-bb1530a0cc0a",
   "metadata": {},
   "outputs": [
    {
     "data": {
      "text/plain": [
       "(18, 1)"
      ]
     },
     "execution_count": 116,
     "metadata": {},
     "output_type": "execute_result"
    }
   ],
   "source": [
    "val_data.shape"
   ]
  },
  {
   "cell_type": "code",
   "execution_count": 117,
   "id": "c89c8002-67ee-4025-b94e-a18f3c779336",
   "metadata": {},
   "outputs": [
    {
     "data": {
      "text/plain": [
       "(1, 2)"
      ]
     },
     "execution_count": 117,
     "metadata": {},
     "output_type": "execute_result"
    }
   ],
   "source": [
    "x_input = val_data[-(window_size):].reshape(1, -1)\n",
    "x_input.shape"
   ]
  },
  {
   "cell_type": "code",
   "execution_count": 118,
   "id": "20cb8416-9532-4a9d-af3c-8a049479872d",
   "metadata": {},
   "outputs": [],
   "source": [
    "temp_input = list(x_input)\n",
    "temp_input = temp_input[0].tolist()"
   ]
  },
  {
   "cell_type": "code",
   "execution_count": 119,
   "id": "d758bfd2-fa93-4ca0-ad60-9ff58c4dce32",
   "metadata": {},
   "outputs": [
    {
     "data": {
      "text/plain": [
       "[0.9028861272557324, 1.0]"
      ]
     },
     "execution_count": 119,
     "metadata": {},
     "output_type": "execute_result"
    }
   ],
   "source": [
    "temp_input"
   ]
  },
  {
   "cell_type": "code",
   "execution_count": 120,
   "id": "627483a8-338e-4f6f-88dc-4e9c401c4a46",
   "metadata": {},
   "outputs": [
    {
     "name": "stdout",
     "output_type": "stream",
     "text": [
      "[0.662503]\n",
      "3\n"
     ]
    },
    {
     "data": {
      "application/javascript": [
       "\n",
       "        if (window._pyforest_update_imports_cell) { window._pyforest_update_imports_cell('import numpy as np'); }\n",
       "    "
      ],
      "text/plain": [
       "<IPython.core.display.Javascript object>"
      ]
     },
     "metadata": {},
     "output_type": "display_data"
    },
    {
     "name": "stdout",
     "output_type": "stream",
     "text": [
      "1 Year input [1.       0.662503]\n",
      "1 Year output [[0.61310893]]\n"
     ]
    },
    {
     "data": {
      "application/javascript": [
       "\n",
       "        if (window._pyforest_update_imports_cell) { window._pyforest_update_imports_cell('import numpy as np'); }\n",
       "    "
      ],
      "text/plain": [
       "<IPython.core.display.Javascript object>"
      ]
     },
     "metadata": {},
     "output_type": "display_data"
    },
    {
     "name": "stdout",
     "output_type": "stream",
     "text": [
      "2 Year input [0.662503   0.61310893]\n",
      "2 Year output [[0.5026447]]\n"
     ]
    },
    {
     "data": {
      "application/javascript": [
       "\n",
       "        if (window._pyforest_update_imports_cell) { window._pyforest_update_imports_cell('import numpy as np'); }\n",
       "    "
      ],
      "text/plain": [
       "<IPython.core.display.Javascript object>"
      ]
     },
     "metadata": {},
     "output_type": "display_data"
    },
    {
     "name": "stdout",
     "output_type": "stream",
     "text": [
      "3 Year input [0.61310893 0.50264472]\n",
      "3 Year output [[0.4630377]]\n"
     ]
    },
    {
     "data": {
      "application/javascript": [
       "\n",
       "        if (window._pyforest_update_imports_cell) { window._pyforest_update_imports_cell('import numpy as np'); }\n",
       "    "
      ],
      "text/plain": [
       "<IPython.core.display.Javascript object>"
      ]
     },
     "metadata": {},
     "output_type": "display_data"
    },
    {
     "name": "stdout",
     "output_type": "stream",
     "text": [
      "4 Year input [0.50264472 0.4630377 ]\n",
      "4 Year output [[0.42217112]]\n",
      "[[0.6625030040740967], [0.6131089329719543], [0.5026447176933289], [0.4630376994609833], [0.42217111587524414]]\n"
     ]
    }
   ],
   "source": [
    "from numpy import array\n",
    "\n",
    "lst_output=[]\n",
    "n_steps=window_size\n",
    "number_of_years_to_predict = 5\n",
    "i=0\n",
    "while(i<number_of_years_to_predict):\n",
    "    \n",
    "    if(len(temp_input)>n_steps):\n",
    "        #print(temp_input)\n",
    "        x_input=np.array(temp_input[1:])\n",
    "        print(\"{} Year input {}\".format(i,x_input))\n",
    "        x_input=x_input.reshape(1,-1)\n",
    "        x_input = x_input.reshape((1, n_steps, 1))\n",
    "        #print(x_input)\n",
    "        yhat = model.predict(x_input, verbose=0)\n",
    "        print(\"{} Year output {}\".format(i,yhat))\n",
    "        temp_input.extend(yhat[0].tolist())\n",
    "        temp_input=temp_input[1:]\n",
    "        #print(temp_input)\n",
    "        lst_output.extend(yhat.tolist())\n",
    "        i=i+1\n",
    "    else:\n",
    "        x_input = x_input.reshape((1, n_steps,1))\n",
    "        yhat = model.predict(x_input, verbose=0)\n",
    "        print(yhat[0])\n",
    "        temp_input.extend(yhat[0].tolist())\n",
    "        print(len(temp_input))\n",
    "        lst_output.extend(yhat.tolist())\n",
    "        i=i+1\n",
    "    \n",
    "\n",
    "print(lst_output)"
   ]
  },
  {
   "cell_type": "markdown",
   "id": "a0fc428c-abe4-4f9a-9303-0183c8d9ab56",
   "metadata": {},
   "source": [
    "### Plot predicted values"
   ]
  },
  {
   "cell_type": "code",
   "execution_count": 121,
   "id": "9229c968-5655-4695-84c7-6554137a8ee4",
   "metadata": {},
   "outputs": [
    {
     "data": {
      "application/javascript": [
       "\n",
       "        if (window._pyforest_update_imports_cell) { window._pyforest_update_imports_cell('import numpy as np'); }\n",
       "    "
      ],
      "text/plain": [
       "<IPython.core.display.Javascript object>"
      ]
     },
     "metadata": {},
     "output_type": "display_data"
    }
   ],
   "source": [
    "year_new = val_data_year[-window_size:] # new year range\n",
    "year_pred = np.arange(int(year_new[-1:]) + 1, int(year_new[-1:]) + number_of_years_to_predict + 1) # new predicted years"
   ]
  },
  {
   "cell_type": "code",
   "execution_count": 122,
   "id": "6db1f17d-c792-46ee-9a81-ea59408ade33",
   "metadata": {},
   "outputs": [],
   "source": [
    "original_data_from_df = scaler.inverse_transform(df_scaled[(len(df_co2) - window_size):])\n",
    "original_data_from_predicteds = scaler.inverse_transform(lst_output)"
   ]
  },
  {
   "cell_type": "code",
   "execution_count": 123,
   "id": "3b334c49-12ad-4879-b3a8-f81fb26e08a4",
   "metadata": {},
   "outputs": [
    {
     "data": {
      "text/plain": [
       "array([[21690.00053406],\n",
       "       [23780.00068665]])"
      ]
     },
     "execution_count": 123,
     "metadata": {},
     "output_type": "execute_result"
    }
   ],
   "source": [
    "original_data_from_df"
   ]
  },
  {
   "cell_type": "code",
   "execution_count": 124,
   "id": "c4973017-89e2-4357-802e-5f53357dcc13",
   "metadata": {},
   "outputs": [
    {
     "data": {
      "image/png": "[encoded data removed]",
      "text/plain": [
       "<Figure size 640x480 with 1 Axes>"
      ]
     },
     "metadata": {},
     "output_type": "display_data"
    }
   ],
   "source": [
    "plt.title('Forecasted CO2 emission between 2020 and 2024')\n",
    "plt.plot(year_new, original_data_from_df)\n",
    "plt.plot(year_pred, original_data_from_predicteds)\n",
    "plt.legend(['Actual values in 2018 and 2019', 'Predicted values'])\n",
    "plt.show()"
   ]
  },
  {
   "cell_type": "markdown",
   "id": "c388b3da-e506-4959-9480-434e375eb6f2",
   "metadata": {},
   "source": [
    "### Combine predicteds to the original dataset and plot"
   ]
  },
  {
   "cell_type": "code",
   "execution_count": 125,
   "id": "812e0901-335f-4885-83a1-d7ee3e94ab5a",
   "metadata": {},
   "outputs": [
    {
     "data": {
      "image/png": "[encoded data removed]",
      "text/plain": [
       "<Figure size 640x480 with 1 Axes>"
      ]
     },
     "metadata": {},
     "output_type": "display_data"
    }
   ],
   "source": [
    "df3 = scaler.inverse_transform(df_scaled).tolist()\n",
    "df3.extend(scaler.inverse_transform((lst_output)))\n",
    "df3_year = list(df_year) + list(year_pred)\n",
    "\n",
    "plt.title('Actual and Forecasted values together in one graph')\n",
    "plt.plot(df3_year, df3)\n",
    "plt.show()"
   ]
  },
  {
   "cell_type": "code",
   "execution_count": null,
   "id": "f435fe96-61c1-4b49-a9cd-2ab52b9aea8e",
   "metadata": {},
   "outputs": [],
   "source": []
  }
 ],
 "metadata": {
  "kernelspec": {
   "display_name": "Python 3 (ipykernel)",
   "language": "python",
   "name": "python3"
  },
  "language_info": {
   "codemirror_mode": {
    "name": "ipython",
    "version": 3
   },
   "file_extension": ".py",
   "mimetype": "text/x-python",
   "name": "python",
   "nbconvert_exporter": "python",
   "pygments_lexer": "ipython3",
   "version": "3.10.9"
  }
 },
 "nbformat": 4,
 "nbformat_minor": 5
}
