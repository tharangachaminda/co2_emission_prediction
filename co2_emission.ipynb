{
 "cells": [
  {
   "cell_type": "markdown",
   "id": "8e3a14db-141a-4614-ba85-4d9ff0898258",
   "metadata": {},
   "source": [
    "<h1>CO<sub>2</sub> Emission Prediction of Sri Lanka using LSTM (Univariate)</h1>\n",
    "<p>LSTM (Long Short-Term Memory) is a type of Recurrent Neural Network (RNN) architecture designed to efficiently capture and utilize long-term dependencies in <b>sequential data</b>. In this project, I will be developping an LSTM model to predict future CO<sub>2</sub> emission.</p>\n",
    "\n",
    "<p>CO<sub>2</sub> emission data is a <b>Timeseries</b> dataset, which fits for sequential model perfectly.</p>\n",
    "\n",
    "## Dataset\n",
    "<p>I will be using CO<sub>2</sub> emission data set by country from <a href=\"https://www.kaggle.com/datasets/ulrikthygepedersen/co2-emissions-by-country\" target=\"_blank\">Kaggle</a></p>"
   ]
  },
  {
   "cell_type": "markdown",
   "id": "753a0812-36af-4e3b-8d53-a3e11d95dd65",
   "metadata": {},
   "source": [
    "<div class=\"alert alert-success\">\n",
    "    <h3>Table of content</h3>\n",
    "    <ol>\n",
    "        <li>\n",
    "            <a href=\"#Technologies and tools\">Technologies and tools</a>\n",
    "        </li>\n",
    "        <li><a href=\"#Load-Dataset\">Load Dataset</a></li>\n",
    "        <li><a href=\"#check_dimensions\">Check dimensions of Data</a></li>\n",
    "        <li><a href=\"#forward_prop\">Implementing Forward Propagation</a></li>\n",
    "        <li><a href=\"#compile_model\">Compile the model</a></li>\n",
    "        <li><a href=\"#summary_of_the_model\">Summary of the model</a></li>\n",
    "        <li><a href=\"#train_and_evaluation\">Train and evaluation</a></li>\n",
    "        <li><a href=\"#save_model\">Save the model</a></li>\n",
    "    </ol>\n",
    "</div>"
   ]
  },
  {
   "cell_type": "markdown",
   "id": "68e3d37b-d503-4670-a3b3-fdd24b574f59",
   "metadata": {},
   "source": [
    "## Technologies and tools\n",
    "1. TensorFlow\n",
    "2. Keras\n",
    "3. LSTM\n",
    "4. Sequential Model"
   ]
  },
  {
   "cell_type": "markdown",
   "id": "72dfb6e5-3486-4f5c-85d6-c31f9f7ecb3c",
   "metadata": {},
   "source": [
    "## Load Dataset"
   ]
  },
  {
   "cell_type": "code",
   "execution_count": 448,
   "id": "de14867a-0ceb-440c-bf65-fd791d4c19cf",
   "metadata": {},
   "outputs": [],
   "source": [
    "import pandas as pd\n",
    "import matplotlib.pyplot as plt\n",
    "from sklearn.preprocessing import MinMaxScaler\n",
    "from tensorflow.keras.models import Sequential\n",
    "from tensorflow.keras.layers import InputLayer, Dense, LSTM\n",
    "from tensorflow.keras.optimizers import Adam\n",
    "from tensorflow.keras.losses import MeanSquaredError\n",
    "from tensorflow.keras.metrics import RootMeanSquaredError\n",
    "from tensorflow.keras.callbacks import ModelCheckpoint\n",
    "from tensorflow.keras.models import load_model\n",
    "import pickle\n",
    "%matplotlib inline"
   ]
  },
  {
   "cell_type": "code",
   "execution_count": 405,
   "id": "5d2fe3f8-8ec0-40ac-8264-5668c5fb3c64",
   "metadata": {},
   "outputs": [],
   "source": [
    "df_full = pd.read_csv('co2_emissions_kt_by_country.csv')"
   ]
  },
  {
   "cell_type": "code",
   "execution_count": 406,
   "id": "4d2c4a1b-ee46-462b-91de-69ecd465f249",
   "metadata": {},
   "outputs": [
    {
     "data": {
      "text/html": [
       "<div>\n",
       "<style scoped>\n",
       "    .dataframe tbody tr th:only-of-type {\n",
       "        vertical-align: middle;\n",
       "    }\n",
       "\n",
       "    .dataframe tbody tr th {\n",
       "        vertical-align: top;\n",
       "    }\n",
       "\n",
       "    .dataframe thead th {\n",
       "        text-align: right;\n",
       "    }\n",
       "</style>\n",
       "<table border=\"1\" class=\"dataframe\">\n",
       "  <thead>\n",
       "    <tr style=\"text-align: right;\">\n",
       "      <th></th>\n",
       "      <th>country_code</th>\n",
       "      <th>country_name</th>\n",
       "      <th>year</th>\n",
       "      <th>value</th>\n",
       "    </tr>\n",
       "  </thead>\n",
       "  <tbody>\n",
       "    <tr>\n",
       "      <th>0</th>\n",
       "      <td>ABW</td>\n",
       "      <td>Aruba</td>\n",
       "      <td>1960</td>\n",
       "      <td>11092.675</td>\n",
       "    </tr>\n",
       "    <tr>\n",
       "      <th>1</th>\n",
       "      <td>ABW</td>\n",
       "      <td>Aruba</td>\n",
       "      <td>1961</td>\n",
       "      <td>11576.719</td>\n",
       "    </tr>\n",
       "    <tr>\n",
       "      <th>2</th>\n",
       "      <td>ABW</td>\n",
       "      <td>Aruba</td>\n",
       "      <td>1962</td>\n",
       "      <td>12713.489</td>\n",
       "    </tr>\n",
       "    <tr>\n",
       "      <th>3</th>\n",
       "      <td>ABW</td>\n",
       "      <td>Aruba</td>\n",
       "      <td>1963</td>\n",
       "      <td>12178.107</td>\n",
       "    </tr>\n",
       "    <tr>\n",
       "      <th>4</th>\n",
       "      <td>ABW</td>\n",
       "      <td>Aruba</td>\n",
       "      <td>1964</td>\n",
       "      <td>11840.743</td>\n",
       "    </tr>\n",
       "  </tbody>\n",
       "</table>\n",
       "</div>"
      ],
      "text/plain": [
       "  country_code country_name  year      value\n",
       "0          ABW        Aruba  1960  11092.675\n",
       "1          ABW        Aruba  1961  11576.719\n",
       "2          ABW        Aruba  1962  12713.489\n",
       "3          ABW        Aruba  1963  12178.107\n",
       "4          ABW        Aruba  1964  11840.743"
      ]
     },
     "execution_count": 406,
     "metadata": {},
     "output_type": "execute_result"
    }
   ],
   "source": [
    "df_full.head()"
   ]
  },
  {
   "cell_type": "code",
   "execution_count": 407,
   "id": "baf3de96-ed30-4275-a1f8-f8fac3c466ab",
   "metadata": {},
   "outputs": [
    {
     "data": {
      "text/plain": [
       "array(['Aruba', 'Africa Eastern and Southern', 'Afghanistan',\n",
       "       'Africa Western and Central', 'Angola', 'Albania', 'Andorra',\n",
       "       'Arab World', 'United Arab Emirates', 'Argentina', 'Armenia',\n",
       "       'Antigua and Barbuda', 'Australia', 'Austria', 'Azerbaijan',\n",
       "       'Burundi', 'Belgium', 'Benin', 'Burkina Faso', 'Bangladesh',\n",
       "       'Bulgaria', 'Bahrain', 'Bahamas, The', 'Bosnia and Herzegovina',\n",
       "       'Belarus', 'Belize', 'Bermuda', 'Bolivia', 'Brazil', 'Barbados',\n",
       "       'Brunei Darussalam', 'Bhutan', 'Botswana',\n",
       "       'Central African Republic', 'Canada',\n",
       "       'Central Europe and the Baltics', 'Switzerland', 'Chile', 'China',\n",
       "       \"Cote d'Ivoire\", 'Cameroon', 'Congo, Dem. Rep.', 'Congo, Rep.',\n",
       "       'Colombia', 'Comoros', 'Cabo Verde', 'Costa Rica',\n",
       "       'Caribbean small states', 'Cuba', 'Curacao', 'Cayman Islands',\n",
       "       'Cyprus', 'Czechia', 'Germany', 'Djibouti', 'Dominica', 'Denmark',\n",
       "       'Dominican Republic', 'Algeria',\n",
       "       'East Asia & Pacific (excluding high income)',\n",
       "       'Early-demographic dividend', 'East Asia & Pacific',\n",
       "       'Europe & Central Asia (excluding high income)',\n",
       "       'Europe & Central Asia', 'Ecuador', 'Egypt, Arab Rep.',\n",
       "       'Euro area', 'Eritrea', 'Spain', 'Estonia', 'Ethiopia',\n",
       "       'European Union', 'Fragile and conflict affected situations',\n",
       "       'Finland', 'Fiji', 'France', 'Faroe Islands',\n",
       "       'Micronesia, Fed. Sts.', 'Gabon', 'United Kingdom', 'Georgia',\n",
       "       'Ghana', 'Gibraltar', 'Guinea', 'Gambia, The', 'Guinea-Bissau',\n",
       "       'Equatorial Guinea', 'Greece', 'Grenada', 'Greenland', 'Guatemala',\n",
       "       'Guyana', 'High income', 'Hong Kong SAR, China', 'Honduras',\n",
       "       'Heavily indebted poor countries (HIPC)', 'Croatia', 'Haiti',\n",
       "       'Hungary', 'IBRD only', 'IDA & IBRD total', 'IDA total',\n",
       "       'IDA blend', 'Indonesia', 'IDA only', 'India', 'Ireland',\n",
       "       'Iran, Islamic Rep.', 'Iraq', 'Iceland', 'Israel', 'Italy',\n",
       "       'Jamaica', 'Jordan', 'Japan', 'Kazakhstan', 'Kenya',\n",
       "       'Kyrgyz Republic', 'Cambodia', 'Kiribati', 'St. Kitts and Nevis',\n",
       "       'Korea, Rep.', 'Kuwait',\n",
       "       'Latin America & Caribbean (excluding high income)', 'Lao PDR',\n",
       "       'Lebanon', 'Liberia', 'Libya', 'St. Lucia',\n",
       "       'Latin America & Caribbean',\n",
       "       'Least developed countries: UN classification', 'Low income',\n",
       "       'Liechtenstein', 'Sri Lanka', 'Lower middle income',\n",
       "       'Low & middle income', 'Lesotho', 'Late-demographic dividend',\n",
       "       'Lithuania', 'Luxembourg', 'Latvia', 'Macao SAR, China', 'Morocco',\n",
       "       'Moldova', 'Madagascar', 'Maldives', 'Middle East & North Africa',\n",
       "       'Mexico', 'Marshall Islands', 'Middle income', 'North Macedonia',\n",
       "       'Mali', 'Malta', 'Myanmar',\n",
       "       'Middle East & North Africa (excluding high income)', 'Montenegro',\n",
       "       'Mongolia', 'Mozambique', 'Mauritania', 'Mauritius', 'Malawi',\n",
       "       'Malaysia', 'North America', 'Namibia', 'New Caledonia', 'Niger',\n",
       "       'Nigeria', 'Nicaragua', 'Netherlands', 'Norway', 'Nepal', 'Nauru',\n",
       "       'New Zealand', 'OECD members', 'Oman', 'Other small states',\n",
       "       'Pakistan', 'Panama', 'Peru', 'Philippines', 'Palau',\n",
       "       'Papua New Guinea', 'Poland', 'Pre-demographic dividend',\n",
       "       \"Korea, Dem. People's Rep.\", 'Portugal', 'Paraguay',\n",
       "       'West Bank and Gaza', 'Pacific island small states',\n",
       "       'Post-demographic dividend', 'French Polynesia', 'Qatar',\n",
       "       'Romania', 'Russian Federation', 'Rwanda', 'South Asia',\n",
       "       'Saudi Arabia', 'Sudan', 'Senegal', 'Singapore', 'Solomon Islands',\n",
       "       'Sierra Leone', 'El Salvador', 'Somalia', 'Serbia',\n",
       "       'Sub-Saharan Africa (excluding high income)', 'South Sudan',\n",
       "       'Sub-Saharan Africa', 'Small states', 'Sao Tome and Principe',\n",
       "       'Suriname', 'Slovak Republic', 'Slovenia', 'Sweden', 'Eswatini',\n",
       "       'Sint Maarten (Dutch part)', 'Seychelles', 'Syrian Arab Republic',\n",
       "       'Turks and Caicos Islands', 'Chad',\n",
       "       'East Asia & Pacific (IDA & IBRD countries)',\n",
       "       'Europe & Central Asia (IDA & IBRD countries)', 'Togo', 'Thailand',\n",
       "       'Tajikistan', 'Turkmenistan',\n",
       "       'Latin America & the Caribbean (IDA & IBRD countries)',\n",
       "       'Timor-Leste', 'Middle East & North Africa (IDA & IBRD countries)',\n",
       "       'Tonga', 'South Asia (IDA & IBRD)',\n",
       "       'Sub-Saharan Africa (IDA & IBRD countries)', 'Trinidad and Tobago',\n",
       "       'Tunisia', 'Turkey', 'Turkiye', 'Tuvalu', 'Tanzania', 'Uganda',\n",
       "       'Ukraine', 'Upper middle income', 'Uruguay', 'United States',\n",
       "       'Uzbekistan', 'St. Vincent and the Grenadines', 'Venezuela, RB',\n",
       "       'British Virgin Islands', 'Vietnam', 'Vanuatu', 'World', 'Samoa',\n",
       "       'Kosovo', 'Yemen, Rep.', 'South Africa', 'Zambia', 'Zimbabwe'],\n",
       "      dtype=object)"
      ]
     },
     "execution_count": 407,
     "metadata": {},
     "output_type": "execute_result"
    }
   ],
   "source": [
    "df_full['country_name'].unique()"
   ]
  },
  {
   "cell_type": "code",
   "execution_count": 408,
   "id": "fc66b728-63e7-4a03-bd66-eee9685be942",
   "metadata": {},
   "outputs": [],
   "source": [
    "df = df_full[df_full['country_name']=='Sri Lanka']"
   ]
  },
  {
   "cell_type": "markdown",
   "id": "f0e28488-d12c-4756-9a13-9777ee567ca0",
   "metadata": {},
   "source": [
    "## Data celanup"
   ]
  },
  {
   "cell_type": "markdown",
   "id": "b0bc97f8-6774-4c8f-b342-997fab8ea90f",
   "metadata": {},
   "source": [
    "### Remove unwanted columns"
   ]
  },
  {
   "cell_type": "code",
   "execution_count": 409,
   "id": "0ffcafe5-587a-46db-a718-451051946877",
   "metadata": {},
   "outputs": [
    {
     "data": {
      "text/html": [
       "<div>\n",
       "<style scoped>\n",
       "    .dataframe tbody tr th:only-of-type {\n",
       "        vertical-align: middle;\n",
       "    }\n",
       "\n",
       "    .dataframe tbody tr th {\n",
       "        vertical-align: top;\n",
       "    }\n",
       "\n",
       "    .dataframe thead th {\n",
       "        text-align: right;\n",
       "    }\n",
       "</style>\n",
       "<table border=\"1\" class=\"dataframe\">\n",
       "  <thead>\n",
       "    <tr style=\"text-align: right;\">\n",
       "      <th></th>\n",
       "      <th>country_code</th>\n",
       "      <th>country_name</th>\n",
       "      <th>year</th>\n",
       "      <th>value</th>\n",
       "    </tr>\n",
       "  </thead>\n",
       "  <tbody>\n",
       "    <tr>\n",
       "      <th>7399</th>\n",
       "      <td>LKA</td>\n",
       "      <td>Sri Lanka</td>\n",
       "      <td>1960</td>\n",
       "      <td>2258.872</td>\n",
       "    </tr>\n",
       "    <tr>\n",
       "      <th>7400</th>\n",
       "      <td>LKA</td>\n",
       "      <td>Sri Lanka</td>\n",
       "      <td>1961</td>\n",
       "      <td>2335.879</td>\n",
       "    </tr>\n",
       "    <tr>\n",
       "      <th>7401</th>\n",
       "      <td>LKA</td>\n",
       "      <td>Sri Lanka</td>\n",
       "      <td>1962</td>\n",
       "      <td>2563.233</td>\n",
       "    </tr>\n",
       "    <tr>\n",
       "      <th>7402</th>\n",
       "      <td>LKA</td>\n",
       "      <td>Sri Lanka</td>\n",
       "      <td>1963</td>\n",
       "      <td>2533.897</td>\n",
       "    </tr>\n",
       "    <tr>\n",
       "      <th>7403</th>\n",
       "      <td>LKA</td>\n",
       "      <td>Sri Lanka</td>\n",
       "      <td>1964</td>\n",
       "      <td>2273.540</td>\n",
       "    </tr>\n",
       "  </tbody>\n",
       "</table>\n",
       "</div>"
      ],
      "text/plain": [
       "     country_code country_name  year     value\n",
       "7399          LKA    Sri Lanka  1960  2258.872\n",
       "7400          LKA    Sri Lanka  1961  2335.879\n",
       "7401          LKA    Sri Lanka  1962  2563.233\n",
       "7402          LKA    Sri Lanka  1963  2533.897\n",
       "7403          LKA    Sri Lanka  1964  2273.540"
      ]
     },
     "execution_count": 409,
     "metadata": {},
     "output_type": "execute_result"
    }
   ],
   "source": [
    "df.head()"
   ]
  },
  {
   "cell_type": "code",
   "execution_count": 410,
   "id": "790027fa-14a2-4ca7-a727-71113ef4d6b3",
   "metadata": {},
   "outputs": [
    {
     "name": "stderr",
     "output_type": "stream",
     "text": [
      "C:\\Users\\navilog\\AppData\\Local\\Temp\\ipykernel_3408\\3515826104.py:1: SettingWithCopyWarning: \n",
      "A value is trying to be set on a copy of a slice from a DataFrame\n",
      "\n",
      "See the caveats in the documentation: https://pandas.pydata.org/pandas-docs/stable/user_guide/indexing.html#returning-a-view-versus-a-copy\n",
      "  df.drop(['country_code', 'country_name'], axis=1, inplace=True)\n"
     ]
    }
   ],
   "source": [
    "df.drop(['country_code', 'country_name'], axis=1, inplace=True)"
   ]
  },
  {
   "cell_type": "code",
   "execution_count": 411,
   "id": "8fbd8364-731e-4bcf-bb26-866873b07200",
   "metadata": {},
   "outputs": [],
   "source": [
    "df.reset_index(drop=True, inplace=True)"
   ]
  },
  {
   "cell_type": "code",
   "execution_count": 412,
   "id": "e84abb22-8889-4a8e-850f-e7136664c99d",
   "metadata": {},
   "outputs": [
    {
     "data": {
      "text/html": [
       "<div>\n",
       "<style scoped>\n",
       "    .dataframe tbody tr th:only-of-type {\n",
       "        vertical-align: middle;\n",
       "    }\n",
       "\n",
       "    .dataframe tbody tr th {\n",
       "        vertical-align: top;\n",
       "    }\n",
       "\n",
       "    .dataframe thead th {\n",
       "        text-align: right;\n",
       "    }\n",
       "</style>\n",
       "<table border=\"1\" class=\"dataframe\">\n",
       "  <thead>\n",
       "    <tr style=\"text-align: right;\">\n",
       "      <th></th>\n",
       "      <th>year</th>\n",
       "      <th>value</th>\n",
       "    </tr>\n",
       "  </thead>\n",
       "  <tbody>\n",
       "    <tr>\n",
       "      <th>0</th>\n",
       "      <td>1960</td>\n",
       "      <td>2258.872</td>\n",
       "    </tr>\n",
       "    <tr>\n",
       "      <th>1</th>\n",
       "      <td>1961</td>\n",
       "      <td>2335.879</td>\n",
       "    </tr>\n",
       "    <tr>\n",
       "      <th>2</th>\n",
       "      <td>1962</td>\n",
       "      <td>2563.233</td>\n",
       "    </tr>\n",
       "    <tr>\n",
       "      <th>3</th>\n",
       "      <td>1963</td>\n",
       "      <td>2533.897</td>\n",
       "    </tr>\n",
       "    <tr>\n",
       "      <th>4</th>\n",
       "      <td>1964</td>\n",
       "      <td>2273.540</td>\n",
       "    </tr>\n",
       "  </tbody>\n",
       "</table>\n",
       "</div>"
      ],
      "text/plain": [
       "   year     value\n",
       "0  1960  2258.872\n",
       "1  1961  2335.879\n",
       "2  1962  2563.233\n",
       "3  1963  2533.897\n",
       "4  1964  2273.540"
      ]
     },
     "execution_count": 412,
     "metadata": {},
     "output_type": "execute_result"
    }
   ],
   "source": [
    "df.head()"
   ]
  },
  {
   "cell_type": "code",
   "execution_count": 487,
   "id": "ec69b81a-6447-477a-a79e-e1613b028fd4",
   "metadata": {},
   "outputs": [
    {
     "data": {
      "text/plain": [
       "2019"
      ]
     },
     "execution_count": 487,
     "metadata": {},
     "output_type": "execute_result"
    }
   ],
   "source": [
    "df_year = df['year'].tail(1)\n",
    "int(df_year)"
   ]
  },
  {
   "cell_type": "markdown",
   "id": "f57af11d-eee7-470b-8902-fdafedadaa98",
   "metadata": {},
   "source": [
    "### check for null values"
   ]
  },
  {
   "cell_type": "code",
   "execution_count": 414,
   "id": "f62fb0da-3654-40c9-82e3-3ac365ef6a62",
   "metadata": {},
   "outputs": [
    {
     "data": {
      "text/plain": [
       "year     0\n",
       "value    0\n",
       "dtype: int64"
      ]
     },
     "execution_count": 414,
     "metadata": {},
     "output_type": "execute_result"
    }
   ],
   "source": [
    "df.isna().sum()"
   ]
  },
  {
   "cell_type": "code",
   "execution_count": 415,
   "id": "75674c7c-ca1a-49cf-bc33-865e1b1a72da",
   "metadata": {},
   "outputs": [
    {
     "data": {
      "image/png": "[encoded data removed]",
      "text/plain": [
       "<Figure size 640x480 with 1 Axes>"
      ]
     },
     "metadata": {},
     "output_type": "display_data"
    }
   ],
   "source": [
    "plt.plot(df['year'], df['value'])\n",
    "plt.title('CO2 emission of Sri Lanka between 1960 and 2020')\n",
    "plt.show()"
   ]
  },
  {
   "cell_type": "markdown",
   "id": "f6b665dc-63d4-4942-a194-3a94c75fef45",
   "metadata": {},
   "source": [
    "<div class=\"alert alert-info\">\n",
    "    <h3>Observations:</h3>\n",
    "    <ol>\n",
    "        <li>Between 1960 and mid 90s the carbon emission was not much increased.</li>\n",
    "        <li>After that, it has increased rapidly.</li>\n",
    "    </ol>\n",
    "</div>"
   ]
  },
  {
   "cell_type": "markdown",
   "id": "fe0da427-dac3-4607-92ea-c606fca1da61",
   "metadata": {},
   "source": [
    "## Data Preprocessing\n",
    "In the data preprocessing stage I will be performing following things.\n",
    "- filter the CO2 emission value column from the dataset\n",
    "- rearrange the CO2 emission values and prepare a supervised learning dataset.\n",
    "- reshape prepared dataset for LSTM model"
   ]
  },
  {
   "cell_type": "code",
   "execution_count": 416,
   "id": "d57b0265-fe4d-4f0e-abb4-26dc6da3b9b1",
   "metadata": {},
   "outputs": [],
   "source": [
    "df_co2 = df['value']\n",
    "#df_co2"
   ]
  },
  {
   "cell_type": "code",
   "execution_count": 417,
   "id": "53cf400d-101e-42de-83dc-5c8bfe2e4216",
   "metadata": {},
   "outputs": [
    {
     "data": {
      "text/plain": [
       "count       60.000000\n",
       "mean      7945.101660\n",
       "std       6161.212232\n",
       "min       2258.872000\n",
       "25%       3440.562750\n",
       "50%       4409.567500\n",
       "75%      12402.499676\n",
       "max      23780.000687\n",
       "Name: value, dtype: float64"
      ]
     },
     "execution_count": 417,
     "metadata": {},
     "output_type": "execute_result"
    }
   ],
   "source": [
    "df_co2.describe()"
   ]
  },
  {
   "cell_type": "markdown",
   "id": "4aad0f5d-738f-4ec1-a000-02858748d804",
   "metadata": {},
   "source": [
    "Above descriptive statistics shows that min and max values quite apart each other. Deep Learning prefers scaled data.\n",
    "## Data scaling\n",
    "In the dataset we have all positive values. I will use **Min-Max** scaler in the range of 0 and 1."
   ]
  },
  {
   "cell_type": "code",
   "execution_count": 418,
   "id": "660956e6-b887-4536-97be-631911504259",
   "metadata": {},
   "outputs": [
    {
     "data": {
      "application/javascript": [
       "\n",
       "        if (window._pyforest_update_imports_cell) { window._pyforest_update_imports_cell('import numpy as np'); }\n",
       "    "
      ],
      "text/plain": [
       "<IPython.core.display.Javascript object>"
      ]
     },
     "metadata": {},
     "output_type": "display_data"
    }
   ],
   "source": [
    "scaler = MinMaxScaler(feature_range=(0, 1))\n",
    "df_scaled = scaler.fit_transform(np.array(df_co2).reshape(-1, 1))"
   ]
  },
  {
   "cell_type": "markdown",
   "id": "42625214-e753-4d76-bb22-b774747866c3",
   "metadata": {},
   "source": [
    "## Save scaler and original emission values for future use"
   ]
  },
  {
   "cell_type": "code",
   "execution_count": 450,
   "id": "da41eaf3-0486-427e-9b7f-f6502ba145b1",
   "metadata": {},
   "outputs": [],
   "source": [
    "scalerfile = 'scaler.sav'\n",
    "pickle.dump(scaler, open(scalerfile, 'wb'))"
   ]
  },
  {
   "cell_type": "code",
   "execution_count": 452,
   "id": "3db5a9e8-889f-42e4-a0c9-2f80711e855e",
   "metadata": {},
   "outputs": [],
   "source": [
    "df[['year', 'value']].to_csv('year_emission.csv', index=False)"
   ]
  },
  {
   "cell_type": "markdown",
   "id": "256e559c-2722-4a1b-902d-5e3fc143b0da",
   "metadata": {},
   "source": [
    "### Split dataset into train / validation sets"
   ]
  },
  {
   "cell_type": "code",
   "execution_count": 419,
   "id": "315023d8-5409-49be-9f1b-3649d6463714",
   "metadata": {},
   "outputs": [
    {
     "data": {
      "text/plain": [
       "(42, 18)"
      ]
     },
     "execution_count": 419,
     "metadata": {},
     "output_type": "execute_result"
    }
   ],
   "source": [
    "train_size = int(len(df_scaled) * 0.70)\n",
    "val_size = len(df_scaled) - train_size\n",
    "\n",
    "train_size, val_size"
   ]
  },
  {
   "cell_type": "code",
   "execution_count": 420,
   "id": "22b9306b-1512-413a-b4f7-eab8ac41d5bc",
   "metadata": {},
   "outputs": [
    {
     "data": {
      "text/plain": [
       "((42, 1), (18, 1))"
      ]
     },
     "execution_count": 420,
     "metadata": {},
     "output_type": "execute_result"
    }
   ],
   "source": [
    "train_data, val_data = df_scaled[0:train_size, :], df_scaled[train_size:len(df_scaled), :1]\n",
    "train_data.shape, val_data.shape"
   ]
  },
  {
   "cell_type": "code",
   "execution_count": 421,
   "id": "35fc430c-a9ee-43c8-baad-6eab1fdd3fd1",
   "metadata": {},
   "outputs": [
    {
     "data": {
      "text/plain": [
       "((42,), (18,))"
      ]
     },
     "execution_count": 421,
     "metadata": {},
     "output_type": "execute_result"
    }
   ],
   "source": [
    "train_data_year, val_data_year = df_year[0:train_size], df_year[train_size:len(df_year)]\n",
    "train_data_year.shape, val_data_year.shape"
   ]
  },
  {
   "cell_type": "markdown",
   "id": "b14b1c80-9a8f-496f-972d-9b4c230b793e",
   "metadata": {},
   "source": [
    "### Prepare data for LSTM modelling\n",
    "- In sequential models we assume that, the output at some timestep is dependent on it's previous values.\n",
    "- So, here we will prepare a **supervised learning** dataset by taking 5 values as inputs and 6th value as the output. (window_size = 6) \n",
    "- Then we repeat the process by shifting the values one by one to generate the new supervides learning dataset for LSTM."
   ]
  },
  {
   "cell_type": "code",
   "execution_count": 422,
   "id": "da073af7-3c37-4b35-ad90-103b5d31fc31",
   "metadata": {},
   "outputs": [],
   "source": [
    "def create_dataset(dataset, window_size=1):\n",
    "    \"\"\"\n",
    "    Prepare supervised learning dataset from time series data for LSTM model.\n",
    "    \n",
    "    Arguments:\n",
    "    dataset -- Pandas Array: Time series values for prepreocessing\n",
    "    window_size -- Integer: How many time steps as inputs of the resulting supervised learning dataset.\n",
    "    \n",
    "    Return:\n",
    "    Tuple object containing data for inputs and outputs\n",
    "    \"\"\"\n",
    "    \n",
    "    dataX, dataY = [], []\n",
    "    \n",
    "    for i in range(len(dataset) - window_size - 1):\n",
    "        a = dataset[i:(i + window_size), 0]\n",
    "        dataX.append(a)\n",
    "        dataY.append(dataset[i + window_size, 0])\n",
    "        \n",
    "    return np.array(dataX), np.array(dataY)       \n",
    "        "
   ]
  },
  {
   "cell_type": "code",
   "execution_count": 423,
   "id": "22f07ec4-8340-4fd1-a44c-9e7c2fa06bb4",
   "metadata": {},
   "outputs": [
    {
     "data": {
      "application/javascript": [
       "\n",
       "        if (window._pyforest_update_imports_cell) { window._pyforest_update_imports_cell('import numpy as np'); }\n",
       "    "
      ],
      "text/plain": [
       "<IPython.core.display.Javascript object>"
      ]
     },
     "metadata": {},
     "output_type": "display_data"
    },
    {
     "data": {
      "application/javascript": [
       "\n",
       "        if (window._pyforest_update_imports_cell) { window._pyforest_update_imports_cell('import numpy as np'); }\n",
       "    "
      ],
      "text/plain": [
       "<IPython.core.display.Javascript object>"
      ]
     },
     "metadata": {},
     "output_type": "display_data"
    },
    {
     "data": {
      "application/javascript": [
       "\n",
       "        if (window._pyforest_update_imports_cell) { window._pyforest_update_imports_cell('import numpy as np'); }\n",
       "    "
      ],
      "text/plain": [
       "<IPython.core.display.Javascript object>"
      ]
     },
     "metadata": {},
     "output_type": "display_data"
    },
    {
     "data": {
      "application/javascript": [
       "\n",
       "        if (window._pyforest_update_imports_cell) { window._pyforest_update_imports_cell('import numpy as np'); }\n",
       "    "
      ],
      "text/plain": [
       "<IPython.core.display.Javascript object>"
      ]
     },
     "metadata": {},
     "output_type": "display_data"
    }
   ],
   "source": [
    "window_size = 2\n",
    "X_train, y_train = create_dataset(train_data, window_size)\n",
    "X_val, y_val = create_dataset(val_data, window_size)"
   ]
  },
  {
   "cell_type": "code",
   "execution_count": 424,
   "id": "cfb08952-85e1-4f4d-8109-cf769d1f10bb",
   "metadata": {},
   "outputs": [
    {
     "data": {
      "text/plain": [
       "((39, 2), (39,), (15, 2), (15,))"
      ]
     },
     "execution_count": 424,
     "metadata": {},
     "output_type": "execute_result"
    }
   ],
   "source": [
    "X_train.shape, y_train.shape, X_val.shape, y_val.shape"
   ]
  },
  {
   "cell_type": "markdown",
   "id": "a803949e-8aba-4a45-af3f-1e2df5c584f4",
   "metadata": {},
   "source": [
    "### Reshape train and validation sets for LSTM\n",
    "- For LSTM, we need to reshape out data as 3D matrix. - *(samples, window_size, features/variables)*\n",
    "- In this project we do univariate LSTM model. So, the last dimension will be 1"
   ]
  },
  {
   "cell_type": "code",
   "execution_count": 425,
   "id": "4dd6613b-f60e-40b6-848b-32509da08bdb",
   "metadata": {},
   "outputs": [],
   "source": [
    "X_train = X_train.reshape(X_train.shape[0], X_train.shape[1], 1)\n",
    "X_val = X_val.reshape(X_val.shape[0], X_val.shape[1], 1)"
   ]
  },
  {
   "cell_type": "code",
   "execution_count": 426,
   "id": "88d2d2d2-24ec-4bc3-8f53-2742887dabb5",
   "metadata": {},
   "outputs": [
    {
     "data": {
      "text/plain": [
       "(39, 2, 1)"
      ]
     },
     "execution_count": 426,
     "metadata": {},
     "output_type": "execute_result"
    }
   ],
   "source": [
    "X_train.shape"
   ]
  },
  {
   "cell_type": "markdown",
   "id": "6b051177-0328-4bb7-9161-92e2ab0754cc",
   "metadata": {},
   "source": [
    "## Prepare LSTM model"
   ]
  },
  {
   "cell_type": "code",
   "execution_count": 427,
   "id": "7fb25f88-43aa-448c-b022-53e9b963cb65",
   "metadata": {},
   "outputs": [
    {
     "name": "stdout",
     "output_type": "stream",
     "text": [
      "Model: \"sequential_11\"\n",
      "_________________________________________________________________\n",
      " Layer (type)                Output Shape              Param #   \n",
      "=================================================================\n",
      " lstm_17 (LSTM)              (None, 64)                16896     \n",
      "                                                                 \n",
      " dense_34 (Dense)            (None, 32)                2080      \n",
      "                                                                 \n",
      " dense_35 (Dense)            (None, 32)                1056      \n",
      "                                                                 \n",
      " dense_36 (Dense)            (None, 32)                1056      \n",
      "                                                                 \n",
      " dense_37 (Dense)            (None, 1)                 33        \n",
      "                                                                 \n",
      "=================================================================\n",
      "Total params: 21121 (82.50 KB)\n",
      "Trainable params: 21121 (82.50 KB)\n",
      "Non-trainable params: 0 (0.00 Byte)\n",
      "_________________________________________________________________\n"
     ]
    }
   ],
   "source": [
    "model = Sequential()\n",
    "model.add(InputLayer((window_size, 1)))\n",
    "model.add(LSTM(64))\n",
    "model.add(Dense(32, activation='relu'))\n",
    "model.add(Dense(32, activation='relu'))\n",
    "model.add(Dense(32, activation='relu'))\n",
    "model.add(Dense(1))\n",
    "\n",
    "model.summary()"
   ]
  },
  {
   "cell_type": "markdown",
   "id": "31878148-a01f-4a16-a36f-553c846423a6",
   "metadata": {},
   "source": [
    "### Compile and fit the model\n",
    "I use following configurations to fit the model\n",
    "- **Adam** optimizer with learning rate 0.001\n",
    "- Save the best model instance as checkpoint separately."
   ]
  },
  {
   "cell_type": "code",
   "execution_count": 428,
   "id": "9dbc127d-e600-4e75-b94a-23a668601c95",
   "metadata": {},
   "outputs": [],
   "source": [
    "cp1 = ModelCheckpoint('model/', save_best_only=True)\n",
    "optimizer = Adam(learning_rate=0.0001)\n",
    "model.compile(loss=MeanSquaredError(), optimizer=optimizer, metrics=[RootMeanSquaredError()])"
   ]
  },
  {
   "cell_type": "code",
   "execution_count": 429,
   "id": "549fb0fb-adfb-46ff-a463-4cd79098e745",
   "metadata": {},
   "outputs": [
    {
     "name": "stdout",
     "output_type": "stream",
     "text": [
      "Epoch 1/200\n",
      "INFO:tensorflow:Assets written to: model\\assets\n"
     ]
    },
    {
     "name": "stderr",
     "output_type": "stream",
     "text": [
      "INFO:tensorflow:Assets written to: model\\assets\n"
     ]
    },
    {
     "name": "stdout",
     "output_type": "stream",
     "text": [
      "2/2 - 5s - loss: 0.0190 - root_mean_squared_error: 0.1378 - val_loss: 0.4520 - val_root_mean_squared_error: 0.6723 - 5s/epoch - 2s/step\n",
      "Epoch 2/200\n",
      "INFO:tensorflow:Assets written to: model\\assets\n"
     ]
    },
    {
     "name": "stderr",
     "output_type": "stream",
     "text": [
      "INFO:tensorflow:Assets written to: model\\assets\n"
     ]
    },
    {
     "name": "stdout",
     "output_type": "stream",
     "text": [
      "2/2 - 2s - loss: 0.0185 - root_mean_squared_error: 0.1360 - val_loss: 0.4476 - val_root_mean_squared_error: 0.6690 - 2s/epoch - 1s/step\n",
      "Epoch 3/200\n",
      "INFO:tensorflow:Assets written to: model\\assets\n"
     ]
    },
    {
     "name": "stderr",
     "output_type": "stream",
     "text": [
      "INFO:tensorflow:Assets written to: model\\assets\n"
     ]
    },
    {
     "name": "stdout",
     "output_type": "stream",
     "text": [
      "2/2 - 3s - loss: 0.0180 - root_mean_squared_error: 0.1343 - val_loss: 0.4435 - val_root_mean_squared_error: 0.6660 - 3s/epoch - 1s/step\n",
      "Epoch 4/200\n",
      "INFO:tensorflow:Assets written to: model\\assets\n"
     ]
    },
    {
     "name": "stderr",
     "output_type": "stream",
     "text": [
      "INFO:tensorflow:Assets written to: model\\assets\n"
     ]
    },
    {
     "name": "stdout",
     "output_type": "stream",
     "text": [
      "2/2 - 4s - loss: 0.0177 - root_mean_squared_error: 0.1331 - val_loss: 0.4396 - val_root_mean_squared_error: 0.6630 - 4s/epoch - 2s/step\n",
      "Epoch 5/200\n",
      "INFO:tensorflow:Assets written to: model\\assets\n"
     ]
    },
    {
     "name": "stderr",
     "output_type": "stream",
     "text": [
      "INFO:tensorflow:Assets written to: model\\assets\n"
     ]
    },
    {
     "name": "stdout",
     "output_type": "stream",
     "text": [
      "2/2 - 3s - loss: 0.0174 - root_mean_squared_error: 0.1318 - val_loss: 0.4358 - val_root_mean_squared_error: 0.6602 - 3s/epoch - 1s/step\n",
      "Epoch 6/200\n",
      "INFO:tensorflow:Assets written to: model\\assets\n"
     ]
    },
    {
     "name": "stderr",
     "output_type": "stream",
     "text": [
      "INFO:tensorflow:Assets written to: model\\assets\n"
     ]
    },
    {
     "name": "stdout",
     "output_type": "stream",
     "text": [
      "2/2 - 3s - loss: 0.0170 - root_mean_squared_error: 0.1305 - val_loss: 0.4321 - val_root_mean_squared_error: 0.6573 - 3s/epoch - 1s/step\n",
      "Epoch 7/200\n",
      "INFO:tensorflow:Assets written to: model\\assets\n"
     ]
    },
    {
     "name": "stderr",
     "output_type": "stream",
     "text": [
      "INFO:tensorflow:Assets written to: model\\assets\n"
     ]
    },
    {
     "name": "stdout",
     "output_type": "stream",
     "text": [
      "2/2 - 2s - loss: 0.0167 - root_mean_squared_error: 0.1294 - val_loss: 0.4285 - val_root_mean_squared_error: 0.6546 - 2s/epoch - 1s/step\n",
      "Epoch 8/200\n",
      "INFO:tensorflow:Assets written to: model\\assets\n"
     ]
    },
    {
     "name": "stderr",
     "output_type": "stream",
     "text": [
      "INFO:tensorflow:Assets written to: model\\assets\n"
     ]
    },
    {
     "name": "stdout",
     "output_type": "stream",
     "text": [
      "2/2 - 2s - loss: 0.0164 - root_mean_squared_error: 0.1282 - val_loss: 0.4250 - val_root_mean_squared_error: 0.6520 - 2s/epoch - 1s/step\n",
      "Epoch 9/200\n",
      "INFO:tensorflow:Assets written to: model\\assets\n"
     ]
    },
    {
     "name": "stderr",
     "output_type": "stream",
     "text": [
      "INFO:tensorflow:Assets written to: model\\assets\n"
     ]
    },
    {
     "name": "stdout",
     "output_type": "stream",
     "text": [
      "2/2 - 3s - loss: 0.0162 - root_mean_squared_error: 0.1271 - val_loss: 0.4218 - val_root_mean_squared_error: 0.6494 - 3s/epoch - 1s/step\n",
      "Epoch 10/200\n",
      "INFO:tensorflow:Assets written to: model\\assets\n"
     ]
    },
    {
     "name": "stderr",
     "output_type": "stream",
     "text": [
      "INFO:tensorflow:Assets written to: model\\assets\n"
     ]
    },
    {
     "name": "stdout",
     "output_type": "stream",
     "text": [
      "2/2 - 2s - loss: 0.0158 - root_mean_squared_error: 0.1259 - val_loss: 0.4186 - val_root_mean_squared_error: 0.6470 - 2s/epoch - 1s/step\n",
      "Epoch 11/200\n",
      "INFO:tensorflow:Assets written to: model\\assets\n"
     ]
    },
    {
     "name": "stderr",
     "output_type": "stream",
     "text": [
      "INFO:tensorflow:Assets written to: model\\assets\n"
     ]
    },
    {
     "name": "stdout",
     "output_type": "stream",
     "text": [
      "2/2 - 2s - loss: 0.0156 - root_mean_squared_error: 0.1249 - val_loss: 0.4154 - val_root_mean_squared_error: 0.6445 - 2s/epoch - 1s/step\n",
      "Epoch 12/200\n",
      "INFO:tensorflow:Assets written to: model\\assets\n"
     ]
    },
    {
     "name": "stderr",
     "output_type": "stream",
     "text": [
      "INFO:tensorflow:Assets written to: model\\assets\n"
     ]
    },
    {
     "name": "stdout",
     "output_type": "stream",
     "text": [
      "2/2 - 3s - loss: 0.0153 - root_mean_squared_error: 0.1237 - val_loss: 0.4124 - val_root_mean_squared_error: 0.6422 - 3s/epoch - 1s/step\n",
      "Epoch 13/200\n",
      "INFO:tensorflow:Assets written to: model\\assets\n"
     ]
    },
    {
     "name": "stderr",
     "output_type": "stream",
     "text": [
      "INFO:tensorflow:Assets written to: model\\assets\n"
     ]
    },
    {
     "name": "stdout",
     "output_type": "stream",
     "text": [
      "2/2 - 3s - loss: 0.0150 - root_mean_squared_error: 0.1226 - val_loss: 0.4094 - val_root_mean_squared_error: 0.6398 - 3s/epoch - 2s/step\n",
      "Epoch 14/200\n",
      "INFO:tensorflow:Assets written to: model\\assets\n"
     ]
    },
    {
     "name": "stderr",
     "output_type": "stream",
     "text": [
      "INFO:tensorflow:Assets written to: model\\assets\n"
     ]
    },
    {
     "name": "stdout",
     "output_type": "stream",
     "text": [
      "2/2 - 2s - loss: 0.0147 - root_mean_squared_error: 0.1214 - val_loss: 0.4063 - val_root_mean_squared_error: 0.6374 - 2s/epoch - 1s/step\n",
      "Epoch 15/200\n",
      "INFO:tensorflow:Assets written to: model\\assets\n"
     ]
    },
    {
     "name": "stderr",
     "output_type": "stream",
     "text": [
      "INFO:tensorflow:Assets written to: model\\assets\n"
     ]
    },
    {
     "name": "stdout",
     "output_type": "stream",
     "text": [
      "2/2 - 2s - loss: 0.0145 - root_mean_squared_error: 0.1203 - val_loss: 0.4031 - val_root_mean_squared_error: 0.6349 - 2s/epoch - 1s/step\n",
      "Epoch 16/200\n",
      "INFO:tensorflow:Assets written to: model\\assets\n"
     ]
    },
    {
     "name": "stderr",
     "output_type": "stream",
     "text": [
      "INFO:tensorflow:Assets written to: model\\assets\n"
     ]
    },
    {
     "name": "stdout",
     "output_type": "stream",
     "text": [
      "2/2 - 2s - loss: 0.0142 - root_mean_squared_error: 0.1190 - val_loss: 0.3999 - val_root_mean_squared_error: 0.6324 - 2s/epoch - 1s/step\n",
      "Epoch 17/200\n",
      "INFO:tensorflow:Assets written to: model\\assets\n"
     ]
    },
    {
     "name": "stderr",
     "output_type": "stream",
     "text": [
      "INFO:tensorflow:Assets written to: model\\assets\n"
     ]
    },
    {
     "name": "stdout",
     "output_type": "stream",
     "text": [
      "2/2 - 2s - loss: 0.0139 - root_mean_squared_error: 0.1179 - val_loss: 0.3966 - val_root_mean_squared_error: 0.6297 - 2s/epoch - 1s/step\n",
      "Epoch 18/200\n",
      "INFO:tensorflow:Assets written to: model\\assets\n"
     ]
    },
    {
     "name": "stderr",
     "output_type": "stream",
     "text": [
      "INFO:tensorflow:Assets written to: model\\assets\n"
     ]
    },
    {
     "name": "stdout",
     "output_type": "stream",
     "text": [
      "2/2 - 3s - loss: 0.0136 - root_mean_squared_error: 0.1167 - val_loss: 0.3932 - val_root_mean_squared_error: 0.6271 - 3s/epoch - 1s/step\n",
      "Epoch 19/200\n",
      "INFO:tensorflow:Assets written to: model\\assets\n"
     ]
    },
    {
     "name": "stderr",
     "output_type": "stream",
     "text": [
      "INFO:tensorflow:Assets written to: model\\assets\n"
     ]
    },
    {
     "name": "stdout",
     "output_type": "stream",
     "text": [
      "2/2 - 2s - loss: 0.0133 - root_mean_squared_error: 0.1155 - val_loss: 0.3899 - val_root_mean_squared_error: 0.6244 - 2s/epoch - 1s/step\n",
      "Epoch 20/200\n",
      "INFO:tensorflow:Assets written to: model\\assets\n"
     ]
    },
    {
     "name": "stderr",
     "output_type": "stream",
     "text": [
      "INFO:tensorflow:Assets written to: model\\assets\n"
     ]
    },
    {
     "name": "stdout",
     "output_type": "stream",
     "text": [
      "2/2 - 2s - loss: 0.0131 - root_mean_squared_error: 0.1143 - val_loss: 0.3865 - val_root_mean_squared_error: 0.6217 - 2s/epoch - 1s/step\n",
      "Epoch 21/200\n",
      "INFO:tensorflow:Assets written to: model\\assets\n"
     ]
    },
    {
     "name": "stderr",
     "output_type": "stream",
     "text": [
      "INFO:tensorflow:Assets written to: model\\assets\n"
     ]
    },
    {
     "name": "stdout",
     "output_type": "stream",
     "text": [
      "2/2 - 2s - loss: 0.0128 - root_mean_squared_error: 0.1132 - val_loss: 0.3831 - val_root_mean_squared_error: 0.6190 - 2s/epoch - 1s/step\n",
      "Epoch 22/200\n",
      "INFO:tensorflow:Assets written to: model\\assets\n"
     ]
    },
    {
     "name": "stderr",
     "output_type": "stream",
     "text": [
      "INFO:tensorflow:Assets written to: model\\assets\n"
     ]
    },
    {
     "name": "stdout",
     "output_type": "stream",
     "text": [
      "2/2 - 3s - loss: 0.0126 - root_mean_squared_error: 0.1120 - val_loss: 0.3799 - val_root_mean_squared_error: 0.6164 - 3s/epoch - 2s/step\n",
      "Epoch 23/200\n",
      "INFO:tensorflow:Assets written to: model\\assets\n"
     ]
    },
    {
     "name": "stderr",
     "output_type": "stream",
     "text": [
      "INFO:tensorflow:Assets written to: model\\assets\n"
     ]
    },
    {
     "name": "stdout",
     "output_type": "stream",
     "text": [
      "2/2 - 2s - loss: 0.0123 - root_mean_squared_error: 0.1110 - val_loss: 0.3769 - val_root_mean_squared_error: 0.6139 - 2s/epoch - 1s/step\n",
      "Epoch 24/200\n",
      "INFO:tensorflow:Assets written to: model\\assets\n"
     ]
    },
    {
     "name": "stderr",
     "output_type": "stream",
     "text": [
      "INFO:tensorflow:Assets written to: model\\assets\n"
     ]
    },
    {
     "name": "stdout",
     "output_type": "stream",
     "text": [
      "2/2 - 3s - loss: 0.0120 - root_mean_squared_error: 0.1097 - val_loss: 0.3737 - val_root_mean_squared_error: 0.6113 - 3s/epoch - 1s/step\n",
      "Epoch 25/200\n",
      "INFO:tensorflow:Assets written to: model\\assets\n"
     ]
    },
    {
     "name": "stderr",
     "output_type": "stream",
     "text": [
      "INFO:tensorflow:Assets written to: model\\assets\n"
     ]
    },
    {
     "name": "stdout",
     "output_type": "stream",
     "text": [
      "2/2 - 3s - loss: 0.0118 - root_mean_squared_error: 0.1088 - val_loss: 0.3704 - val_root_mean_squared_error: 0.6086 - 3s/epoch - 1s/step\n",
      "Epoch 26/200\n",
      "INFO:tensorflow:Assets written to: model\\assets\n"
     ]
    },
    {
     "name": "stderr",
     "output_type": "stream",
     "text": [
      "INFO:tensorflow:Assets written to: model\\assets\n"
     ]
    },
    {
     "name": "stdout",
     "output_type": "stream",
     "text": [
      "2/2 - 2s - loss: 0.0116 - root_mean_squared_error: 0.1076 - val_loss: 0.3671 - val_root_mean_squared_error: 0.6059 - 2s/epoch - 1s/step\n",
      "Epoch 27/200\n",
      "INFO:tensorflow:Assets written to: model\\assets\n"
     ]
    },
    {
     "name": "stderr",
     "output_type": "stream",
     "text": [
      "INFO:tensorflow:Assets written to: model\\assets\n"
     ]
    },
    {
     "name": "stdout",
     "output_type": "stream",
     "text": [
      "2/2 - 2s - loss: 0.0113 - root_mean_squared_error: 0.1065 - val_loss: 0.3638 - val_root_mean_squared_error: 0.6031 - 2s/epoch - 1s/step\n",
      "Epoch 28/200\n",
      "INFO:tensorflow:Assets written to: model\\assets\n"
     ]
    },
    {
     "name": "stderr",
     "output_type": "stream",
     "text": [
      "INFO:tensorflow:Assets written to: model\\assets\n"
     ]
    },
    {
     "name": "stdout",
     "output_type": "stream",
     "text": [
      "2/2 - 2s - loss: 0.0111 - root_mean_squared_error: 0.1054 - val_loss: 0.3604 - val_root_mean_squared_error: 0.6003 - 2s/epoch - 1s/step\n",
      "Epoch 29/200\n",
      "INFO:tensorflow:Assets written to: model\\assets\n"
     ]
    },
    {
     "name": "stderr",
     "output_type": "stream",
     "text": [
      "INFO:tensorflow:Assets written to: model\\assets\n"
     ]
    },
    {
     "name": "stdout",
     "output_type": "stream",
     "text": [
      "2/2 - 3s - loss: 0.0109 - root_mean_squared_error: 0.1043 - val_loss: 0.3572 - val_root_mean_squared_error: 0.5977 - 3s/epoch - 1s/step\n",
      "Epoch 30/200\n",
      "INFO:tensorflow:Assets written to: model\\assets\n"
     ]
    },
    {
     "name": "stderr",
     "output_type": "stream",
     "text": [
      "INFO:tensorflow:Assets written to: model\\assets\n"
     ]
    },
    {
     "name": "stdout",
     "output_type": "stream",
     "text": [
      "2/2 - 3s - loss: 0.0106 - root_mean_squared_error: 0.1032 - val_loss: 0.3540 - val_root_mean_squared_error: 0.5950 - 3s/epoch - 1s/step\n",
      "Epoch 31/200\n",
      "INFO:tensorflow:Assets written to: model\\assets\n"
     ]
    },
    {
     "name": "stderr",
     "output_type": "stream",
     "text": [
      "INFO:tensorflow:Assets written to: model\\assets\n"
     ]
    },
    {
     "name": "stdout",
     "output_type": "stream",
     "text": [
      "2/2 - 4s - loss: 0.0104 - root_mean_squared_error: 0.1022 - val_loss: 0.3509 - val_root_mean_squared_error: 0.5924 - 4s/epoch - 2s/step\n",
      "Epoch 32/200\n",
      "INFO:tensorflow:Assets written to: model\\assets\n"
     ]
    },
    {
     "name": "stderr",
     "output_type": "stream",
     "text": [
      "INFO:tensorflow:Assets written to: model\\assets\n"
     ]
    },
    {
     "name": "stdout",
     "output_type": "stream",
     "text": [
      "2/2 - 2s - loss: 0.0102 - root_mean_squared_error: 0.1012 - val_loss: 0.3478 - val_root_mean_squared_error: 0.5897 - 2s/epoch - 1s/step\n",
      "Epoch 33/200\n",
      "INFO:tensorflow:Assets written to: model\\assets\n"
     ]
    },
    {
     "name": "stderr",
     "output_type": "stream",
     "text": [
      "INFO:tensorflow:Assets written to: model\\assets\n"
     ]
    },
    {
     "name": "stdout",
     "output_type": "stream",
     "text": [
      "2/2 - 3s - loss: 0.0100 - root_mean_squared_error: 0.1001 - val_loss: 0.3446 - val_root_mean_squared_error: 0.5871 - 3s/epoch - 1s/step\n",
      "Epoch 34/200\n",
      "INFO:tensorflow:Assets written to: model\\assets\n"
     ]
    },
    {
     "name": "stderr",
     "output_type": "stream",
     "text": [
      "INFO:tensorflow:Assets written to: model\\assets\n"
     ]
    },
    {
     "name": "stdout",
     "output_type": "stream",
     "text": [
      "2/2 - 3s - loss: 0.0098 - root_mean_squared_error: 0.0992 - val_loss: 0.3415 - val_root_mean_squared_error: 0.5844 - 3s/epoch - 1s/step\n",
      "Epoch 35/200\n",
      "INFO:tensorflow:Assets written to: model\\assets\n"
     ]
    },
    {
     "name": "stderr",
     "output_type": "stream",
     "text": [
      "INFO:tensorflow:Assets written to: model\\assets\n"
     ]
    },
    {
     "name": "stdout",
     "output_type": "stream",
     "text": [
      "2/2 - 3s - loss: 0.0097 - root_mean_squared_error: 0.0983 - val_loss: 0.3385 - val_root_mean_squared_error: 0.5818 - 3s/epoch - 1s/step\n",
      "Epoch 36/200\n",
      "INFO:tensorflow:Assets written to: model\\assets\n"
     ]
    },
    {
     "name": "stderr",
     "output_type": "stream",
     "text": [
      "INFO:tensorflow:Assets written to: model\\assets\n"
     ]
    },
    {
     "name": "stdout",
     "output_type": "stream",
     "text": [
      "2/2 - 3s - loss: 0.0095 - root_mean_squared_error: 0.0974 - val_loss: 0.3355 - val_root_mean_squared_error: 0.5792 - 3s/epoch - 1s/step\n",
      "Epoch 37/200\n",
      "INFO:tensorflow:Assets written to: model\\assets\n"
     ]
    },
    {
     "name": "stderr",
     "output_type": "stream",
     "text": [
      "INFO:tensorflow:Assets written to: model\\assets\n"
     ]
    },
    {
     "name": "stdout",
     "output_type": "stream",
     "text": [
      "2/2 - 3s - loss: 0.0093 - root_mean_squared_error: 0.0965 - val_loss: 0.3327 - val_root_mean_squared_error: 0.5768 - 3s/epoch - 1s/step\n",
      "Epoch 38/200\n",
      "INFO:tensorflow:Assets written to: model\\assets\n"
     ]
    },
    {
     "name": "stderr",
     "output_type": "stream",
     "text": [
      "INFO:tensorflow:Assets written to: model\\assets\n"
     ]
    },
    {
     "name": "stdout",
     "output_type": "stream",
     "text": [
      "2/2 - 3s - loss: 0.0092 - root_mean_squared_error: 0.0958 - val_loss: 0.3299 - val_root_mean_squared_error: 0.5743 - 3s/epoch - 1s/step\n",
      "Epoch 39/200\n",
      "INFO:tensorflow:Assets written to: model\\assets\n"
     ]
    },
    {
     "name": "stderr",
     "output_type": "stream",
     "text": [
      "INFO:tensorflow:Assets written to: model\\assets\n"
     ]
    },
    {
     "name": "stdout",
     "output_type": "stream",
     "text": [
      "2/2 - 3s - loss: 0.0090 - root_mean_squared_error: 0.0950 - val_loss: 0.3273 - val_root_mean_squared_error: 0.5721 - 3s/epoch - 2s/step\n",
      "Epoch 40/200\n",
      "INFO:tensorflow:Assets written to: model\\assets\n"
     ]
    },
    {
     "name": "stderr",
     "output_type": "stream",
     "text": [
      "INFO:tensorflow:Assets written to: model\\assets\n"
     ]
    },
    {
     "name": "stdout",
     "output_type": "stream",
     "text": [
      "2/2 - 2s - loss: 0.0089 - root_mean_squared_error: 0.0944 - val_loss: 0.3248 - val_root_mean_squared_error: 0.5699 - 2s/epoch - 1s/step\n",
      "Epoch 41/200\n",
      "INFO:tensorflow:Assets written to: model\\assets\n"
     ]
    },
    {
     "name": "stderr",
     "output_type": "stream",
     "text": [
      "INFO:tensorflow:Assets written to: model\\assets\n"
     ]
    },
    {
     "name": "stdout",
     "output_type": "stream",
     "text": [
      "2/2 - 2s - loss: 0.0088 - root_mean_squared_error: 0.0937 - val_loss: 0.3224 - val_root_mean_squared_error: 0.5678 - 2s/epoch - 1s/step\n",
      "Epoch 42/200\n",
      "INFO:tensorflow:Assets written to: model\\assets\n"
     ]
    },
    {
     "name": "stderr",
     "output_type": "stream",
     "text": [
      "INFO:tensorflow:Assets written to: model\\assets\n"
     ]
    },
    {
     "name": "stdout",
     "output_type": "stream",
     "text": [
      "2/2 - 3s - loss: 0.0087 - root_mean_squared_error: 0.0931 - val_loss: 0.3201 - val_root_mean_squared_error: 0.5658 - 3s/epoch - 1s/step\n",
      "Epoch 43/200\n",
      "INFO:tensorflow:Assets written to: model\\assets\n"
     ]
    },
    {
     "name": "stderr",
     "output_type": "stream",
     "text": [
      "INFO:tensorflow:Assets written to: model\\assets\n"
     ]
    },
    {
     "name": "stdout",
     "output_type": "stream",
     "text": [
      "2/2 - 3s - loss: 0.0085 - root_mean_squared_error: 0.0925 - val_loss: 0.3178 - val_root_mean_squared_error: 0.5638 - 3s/epoch - 1s/step\n",
      "Epoch 44/200\n",
      "INFO:tensorflow:Assets written to: model\\assets\n"
     ]
    },
    {
     "name": "stderr",
     "output_type": "stream",
     "text": [
      "INFO:tensorflow:Assets written to: model\\assets\n"
     ]
    },
    {
     "name": "stdout",
     "output_type": "stream",
     "text": [
      "2/2 - 2s - loss: 0.0084 - root_mean_squared_error: 0.0919 - val_loss: 0.3154 - val_root_mean_squared_error: 0.5616 - 2s/epoch - 1s/step\n",
      "Epoch 45/200\n",
      "INFO:tensorflow:Assets written to: model\\assets\n"
     ]
    },
    {
     "name": "stderr",
     "output_type": "stream",
     "text": [
      "INFO:tensorflow:Assets written to: model\\assets\n"
     ]
    },
    {
     "name": "stdout",
     "output_type": "stream",
     "text": [
      "2/2 - 2s - loss: 0.0083 - root_mean_squared_error: 0.0913 - val_loss: 0.3130 - val_root_mean_squared_error: 0.5594 - 2s/epoch - 1s/step\n",
      "Epoch 46/200\n",
      "INFO:tensorflow:Assets written to: model\\assets\n"
     ]
    },
    {
     "name": "stderr",
     "output_type": "stream",
     "text": [
      "INFO:tensorflow:Assets written to: model\\assets\n"
     ]
    },
    {
     "name": "stdout",
     "output_type": "stream",
     "text": [
      "2/2 - 3s - loss: 0.0082 - root_mean_squared_error: 0.0906 - val_loss: 0.3104 - val_root_mean_squared_error: 0.5571 - 3s/epoch - 1s/step\n",
      "Epoch 47/200\n",
      "INFO:tensorflow:Assets written to: model\\assets\n"
     ]
    },
    {
     "name": "stderr",
     "output_type": "stream",
     "text": [
      "INFO:tensorflow:Assets written to: model\\assets\n"
     ]
    },
    {
     "name": "stdout",
     "output_type": "stream",
     "text": [
      "2/2 - 2s - loss: 0.0081 - root_mean_squared_error: 0.0901 - val_loss: 0.3073 - val_root_mean_squared_error: 0.5544 - 2s/epoch - 1s/step\n",
      "Epoch 48/200\n",
      "INFO:tensorflow:Assets written to: model\\assets\n"
     ]
    },
    {
     "name": "stderr",
     "output_type": "stream",
     "text": [
      "INFO:tensorflow:Assets written to: model\\assets\n"
     ]
    },
    {
     "name": "stdout",
     "output_type": "stream",
     "text": [
      "2/2 - 3s - loss: 0.0080 - root_mean_squared_error: 0.0894 - val_loss: 0.3042 - val_root_mean_squared_error: 0.5515 - 3s/epoch - 1s/step\n",
      "Epoch 49/200\n",
      "INFO:tensorflow:Assets written to: model\\assets\n"
     ]
    },
    {
     "name": "stderr",
     "output_type": "stream",
     "text": [
      "INFO:tensorflow:Assets written to: model\\assets\n"
     ]
    },
    {
     "name": "stdout",
     "output_type": "stream",
     "text": [
      "2/2 - 4s - loss: 0.0079 - root_mean_squared_error: 0.0887 - val_loss: 0.3009 - val_root_mean_squared_error: 0.5486 - 4s/epoch - 2s/step\n",
      "Epoch 50/200\n",
      "INFO:tensorflow:Assets written to: model\\assets\n"
     ]
    },
    {
     "name": "stderr",
     "output_type": "stream",
     "text": [
      "INFO:tensorflow:Assets written to: model\\assets\n"
     ]
    },
    {
     "name": "stdout",
     "output_type": "stream",
     "text": [
      "2/2 - 2s - loss: 0.0077 - root_mean_squared_error: 0.0880 - val_loss: 0.2976 - val_root_mean_squared_error: 0.5455 - 2s/epoch - 1s/step\n",
      "Epoch 51/200\n",
      "INFO:tensorflow:Assets written to: model\\assets\n"
     ]
    },
    {
     "name": "stderr",
     "output_type": "stream",
     "text": [
      "INFO:tensorflow:Assets written to: model\\assets\n"
     ]
    },
    {
     "name": "stdout",
     "output_type": "stream",
     "text": [
      "2/2 - 2s - loss: 0.0076 - root_mean_squared_error: 0.0874 - val_loss: 0.2943 - val_root_mean_squared_error: 0.5425 - 2s/epoch - 1s/step\n",
      "Epoch 52/200\n",
      "INFO:tensorflow:Assets written to: model\\assets\n"
     ]
    },
    {
     "name": "stderr",
     "output_type": "stream",
     "text": [
      "INFO:tensorflow:Assets written to: model\\assets\n"
     ]
    },
    {
     "name": "stdout",
     "output_type": "stream",
     "text": [
      "2/2 - 2s - loss: 0.0075 - root_mean_squared_error: 0.0867 - val_loss: 0.2912 - val_root_mean_squared_error: 0.5396 - 2s/epoch - 1s/step\n",
      "Epoch 53/200\n",
      "INFO:tensorflow:Assets written to: model\\assets\n"
     ]
    },
    {
     "name": "stderr",
     "output_type": "stream",
     "text": [
      "INFO:tensorflow:Assets written to: model\\assets\n"
     ]
    },
    {
     "name": "stdout",
     "output_type": "stream",
     "text": [
      "2/2 - 2s - loss: 0.0074 - root_mean_squared_error: 0.0861 - val_loss: 0.2882 - val_root_mean_squared_error: 0.5369 - 2s/epoch - 1s/step\n",
      "Epoch 54/200\n",
      "INFO:tensorflow:Assets written to: model\\assets\n"
     ]
    },
    {
     "name": "stderr",
     "output_type": "stream",
     "text": [
      "INFO:tensorflow:Assets written to: model\\assets\n"
     ]
    },
    {
     "name": "stdout",
     "output_type": "stream",
     "text": [
      "2/2 - 2s - loss: 0.0073 - root_mean_squared_error: 0.0855 - val_loss: 0.2851 - val_root_mean_squared_error: 0.5339 - 2s/epoch - 1s/step\n",
      "Epoch 55/200\n",
      "INFO:tensorflow:Assets written to: model\\assets\n"
     ]
    },
    {
     "name": "stderr",
     "output_type": "stream",
     "text": [
      "INFO:tensorflow:Assets written to: model\\assets\n"
     ]
    },
    {
     "name": "stdout",
     "output_type": "stream",
     "text": [
      "2/2 - 3s - loss: 0.0072 - root_mean_squared_error: 0.0850 - val_loss: 0.2817 - val_root_mean_squared_error: 0.5308 - 3s/epoch - 1s/step\n",
      "Epoch 56/200\n",
      "INFO:tensorflow:Assets written to: model\\assets\n"
     ]
    },
    {
     "name": "stderr",
     "output_type": "stream",
     "text": [
      "INFO:tensorflow:Assets written to: model\\assets\n"
     ]
    },
    {
     "name": "stdout",
     "output_type": "stream",
     "text": [
      "2/2 - 2s - loss: 0.0071 - root_mean_squared_error: 0.0844 - val_loss: 0.2784 - val_root_mean_squared_error: 0.5276 - 2s/epoch - 1s/step\n",
      "Epoch 57/200\n",
      "INFO:tensorflow:Assets written to: model\\assets\n"
     ]
    },
    {
     "name": "stderr",
     "output_type": "stream",
     "text": [
      "INFO:tensorflow:Assets written to: model\\assets\n"
     ]
    },
    {
     "name": "stdout",
     "output_type": "stream",
     "text": [
      "2/2 - 3s - loss: 0.0070 - root_mean_squared_error: 0.0839 - val_loss: 0.2749 - val_root_mean_squared_error: 0.5244 - 3s/epoch - 1s/step\n",
      "Epoch 58/200\n",
      "INFO:tensorflow:Assets written to: model\\assets\n"
     ]
    },
    {
     "name": "stderr",
     "output_type": "stream",
     "text": [
      "INFO:tensorflow:Assets written to: model\\assets\n"
     ]
    },
    {
     "name": "stdout",
     "output_type": "stream",
     "text": [
      "2/2 - 3s - loss: 0.0070 - root_mean_squared_error: 0.0835 - val_loss: 0.2716 - val_root_mean_squared_error: 0.5211 - 3s/epoch - 2s/step\n",
      "Epoch 59/200\n",
      "INFO:tensorflow:Assets written to: model\\assets\n"
     ]
    },
    {
     "name": "stderr",
     "output_type": "stream",
     "text": [
      "INFO:tensorflow:Assets written to: model\\assets\n"
     ]
    },
    {
     "name": "stdout",
     "output_type": "stream",
     "text": [
      "2/2 - 2s - loss: 0.0069 - root_mean_squared_error: 0.0829 - val_loss: 0.2684 - val_root_mean_squared_error: 0.5181 - 2s/epoch - 1s/step\n",
      "Epoch 60/200\n",
      "INFO:tensorflow:Assets written to: model\\assets\n"
     ]
    },
    {
     "name": "stderr",
     "output_type": "stream",
     "text": [
      "INFO:tensorflow:Assets written to: model\\assets\n"
     ]
    },
    {
     "name": "stdout",
     "output_type": "stream",
     "text": [
      "2/2 - 2s - loss: 0.0068 - root_mean_squared_error: 0.0824 - val_loss: 0.2653 - val_root_mean_squared_error: 0.5151 - 2s/epoch - 1s/step\n",
      "Epoch 61/200\n",
      "INFO:tensorflow:Assets written to: model\\assets\n"
     ]
    },
    {
     "name": "stderr",
     "output_type": "stream",
     "text": [
      "INFO:tensorflow:Assets written to: model\\assets\n"
     ]
    },
    {
     "name": "stdout",
     "output_type": "stream",
     "text": [
      "2/2 - 3s - loss: 0.0067 - root_mean_squared_error: 0.0819 - val_loss: 0.2624 - val_root_mean_squared_error: 0.5123 - 3s/epoch - 1s/step\n",
      "Epoch 62/200\n",
      "INFO:tensorflow:Assets written to: model\\assets\n"
     ]
    },
    {
     "name": "stderr",
     "output_type": "stream",
     "text": [
      "INFO:tensorflow:Assets written to: model\\assets\n"
     ]
    },
    {
     "name": "stdout",
     "output_type": "stream",
     "text": [
      "2/2 - 2s - loss: 0.0066 - root_mean_squared_error: 0.0814 - val_loss: 0.2595 - val_root_mean_squared_error: 0.5094 - 2s/epoch - 1s/step\n",
      "Epoch 63/200\n",
      "INFO:tensorflow:Assets written to: model\\assets\n"
     ]
    },
    {
     "name": "stderr",
     "output_type": "stream",
     "text": [
      "INFO:tensorflow:Assets written to: model\\assets\n"
     ]
    },
    {
     "name": "stdout",
     "output_type": "stream",
     "text": [
      "2/2 - 2s - loss: 0.0066 - root_mean_squared_error: 0.0810 - val_loss: 0.2565 - val_root_mean_squared_error: 0.5065 - 2s/epoch - 1s/step\n",
      "Epoch 64/200\n",
      "INFO:tensorflow:Assets written to: model\\assets\n"
     ]
    },
    {
     "name": "stderr",
     "output_type": "stream",
     "text": [
      "INFO:tensorflow:Assets written to: model\\assets\n"
     ]
    },
    {
     "name": "stdout",
     "output_type": "stream",
     "text": [
      "2/2 - 2s - loss: 0.0065 - root_mean_squared_error: 0.0806 - val_loss: 0.2539 - val_root_mean_squared_error: 0.5038 - 2s/epoch - 1s/step\n",
      "Epoch 65/200\n",
      "INFO:tensorflow:Assets written to: model\\assets\n"
     ]
    },
    {
     "name": "stderr",
     "output_type": "stream",
     "text": [
      "INFO:tensorflow:Assets written to: model\\assets\n"
     ]
    },
    {
     "name": "stdout",
     "output_type": "stream",
     "text": [
      "2/2 - 2s - loss: 0.0064 - root_mean_squared_error: 0.0801 - val_loss: 0.2517 - val_root_mean_squared_error: 0.5017 - 2s/epoch - 1s/step\n",
      "Epoch 66/200\n",
      "INFO:tensorflow:Assets written to: model\\assets\n"
     ]
    },
    {
     "name": "stderr",
     "output_type": "stream",
     "text": [
      "INFO:tensorflow:Assets written to: model\\assets\n"
     ]
    },
    {
     "name": "stdout",
     "output_type": "stream",
     "text": [
      "2/2 - 3s - loss: 0.0064 - root_mean_squared_error: 0.0797 - val_loss: 0.2499 - val_root_mean_squared_error: 0.4999 - 3s/epoch - 2s/step\n",
      "Epoch 67/200\n",
      "INFO:tensorflow:Assets written to: model\\assets\n"
     ]
    },
    {
     "name": "stderr",
     "output_type": "stream",
     "text": [
      "INFO:tensorflow:Assets written to: model\\assets\n"
     ]
    },
    {
     "name": "stdout",
     "output_type": "stream",
     "text": [
      "2/2 - 3s - loss: 0.0063 - root_mean_squared_error: 0.0794 - val_loss: 0.2483 - val_root_mean_squared_error: 0.4983 - 3s/epoch - 1s/step\n",
      "Epoch 68/200\n",
      "INFO:tensorflow:Assets written to: model\\assets\n"
     ]
    },
    {
     "name": "stderr",
     "output_type": "stream",
     "text": [
      "INFO:tensorflow:Assets written to: model\\assets\n"
     ]
    },
    {
     "name": "stdout",
     "output_type": "stream",
     "text": [
      "2/2 - 2s - loss: 0.0063 - root_mean_squared_error: 0.0792 - val_loss: 0.2464 - val_root_mean_squared_error: 0.4964 - 2s/epoch - 1s/step\n",
      "Epoch 69/200\n",
      "INFO:tensorflow:Assets written to: model\\assets\n"
     ]
    },
    {
     "name": "stderr",
     "output_type": "stream",
     "text": [
      "INFO:tensorflow:Assets written to: model\\assets\n"
     ]
    },
    {
     "name": "stdout",
     "output_type": "stream",
     "text": [
      "2/2 - 2s - loss: 0.0062 - root_mean_squared_error: 0.0789 - val_loss: 0.2447 - val_root_mean_squared_error: 0.4946 - 2s/epoch - 1s/step\n",
      "Epoch 70/200\n",
      "INFO:tensorflow:Assets written to: model\\assets\n"
     ]
    },
    {
     "name": "stderr",
     "output_type": "stream",
     "text": [
      "INFO:tensorflow:Assets written to: model\\assets\n"
     ]
    },
    {
     "name": "stdout",
     "output_type": "stream",
     "text": [
      "2/2 - 2s - loss: 0.0062 - root_mean_squared_error: 0.0786 - val_loss: 0.2428 - val_root_mean_squared_error: 0.4928 - 2s/epoch - 1s/step\n",
      "Epoch 71/200\n",
      "INFO:tensorflow:Assets written to: model\\assets\n"
     ]
    },
    {
     "name": "stderr",
     "output_type": "stream",
     "text": [
      "INFO:tensorflow:Assets written to: model\\assets\n"
     ]
    },
    {
     "name": "stdout",
     "output_type": "stream",
     "text": [
      "2/2 - 2s - loss: 0.0061 - root_mean_squared_error: 0.0783 - val_loss: 0.2412 - val_root_mean_squared_error: 0.4911 - 2s/epoch - 1s/step\n",
      "Epoch 72/200\n",
      "INFO:tensorflow:Assets written to: model\\assets\n"
     ]
    },
    {
     "name": "stderr",
     "output_type": "stream",
     "text": [
      "INFO:tensorflow:Assets written to: model\\assets\n"
     ]
    },
    {
     "name": "stdout",
     "output_type": "stream",
     "text": [
      "2/2 - 2s - loss: 0.0061 - root_mean_squared_error: 0.0780 - val_loss: 0.2396 - val_root_mean_squared_error: 0.4895 - 2s/epoch - 1s/step\n",
      "Epoch 73/200\n",
      "INFO:tensorflow:Assets written to: model\\assets\n"
     ]
    },
    {
     "name": "stderr",
     "output_type": "stream",
     "text": [
      "INFO:tensorflow:Assets written to: model\\assets\n"
     ]
    },
    {
     "name": "stdout",
     "output_type": "stream",
     "text": [
      "2/2 - 2s - loss: 0.0060 - root_mean_squared_error: 0.0777 - val_loss: 0.2380 - val_root_mean_squared_error: 0.4878 - 2s/epoch - 1s/step\n",
      "Epoch 74/200\n",
      "INFO:tensorflow:Assets written to: model\\assets\n"
     ]
    },
    {
     "name": "stderr",
     "output_type": "stream",
     "text": [
      "INFO:tensorflow:Assets written to: model\\assets\n"
     ]
    },
    {
     "name": "stdout",
     "output_type": "stream",
     "text": [
      "2/2 - 3s - loss: 0.0060 - root_mean_squared_error: 0.0774 - val_loss: 0.2362 - val_root_mean_squared_error: 0.4860 - 3s/epoch - 1s/step\n",
      "Epoch 75/200\n",
      "INFO:tensorflow:Assets written to: model\\assets\n"
     ]
    },
    {
     "name": "stderr",
     "output_type": "stream",
     "text": [
      "INFO:tensorflow:Assets written to: model\\assets\n"
     ]
    },
    {
     "name": "stdout",
     "output_type": "stream",
     "text": [
      "2/2 - 4s - loss: 0.0060 - root_mean_squared_error: 0.0772 - val_loss: 0.2345 - val_root_mean_squared_error: 0.4843 - 4s/epoch - 2s/step\n",
      "Epoch 76/200\n",
      "INFO:tensorflow:Assets written to: model\\assets\n"
     ]
    },
    {
     "name": "stderr",
     "output_type": "stream",
     "text": [
      "INFO:tensorflow:Assets written to: model\\assets\n"
     ]
    },
    {
     "name": "stdout",
     "output_type": "stream",
     "text": [
      "2/2 - 2s - loss: 0.0059 - root_mean_squared_error: 0.0769 - val_loss: 0.2332 - val_root_mean_squared_error: 0.4829 - 2s/epoch - 1s/step\n",
      "Epoch 77/200\n",
      "INFO:tensorflow:Assets written to: model\\assets\n"
     ]
    },
    {
     "name": "stderr",
     "output_type": "stream",
     "text": [
      "INFO:tensorflow:Assets written to: model\\assets\n"
     ]
    },
    {
     "name": "stdout",
     "output_type": "stream",
     "text": [
      "2/2 - 2s - loss: 0.0059 - root_mean_squared_error: 0.0766 - val_loss: 0.2320 - val_root_mean_squared_error: 0.4817 - 2s/epoch - 1s/step\n",
      "Epoch 78/200\n",
      "INFO:tensorflow:Assets written to: model\\assets\n"
     ]
    },
    {
     "name": "stderr",
     "output_type": "stream",
     "text": [
      "INFO:tensorflow:Assets written to: model\\assets\n"
     ]
    },
    {
     "name": "stdout",
     "output_type": "stream",
     "text": [
      "2/2 - 2s - loss: 0.0058 - root_mean_squared_error: 0.0764 - val_loss: 0.2309 - val_root_mean_squared_error: 0.4805 - 2s/epoch - 1s/step\n",
      "Epoch 79/200\n",
      "INFO:tensorflow:Assets written to: model\\assets\n"
     ]
    },
    {
     "name": "stderr",
     "output_type": "stream",
     "text": [
      "INFO:tensorflow:Assets written to: model\\assets\n"
     ]
    },
    {
     "name": "stdout",
     "output_type": "stream",
     "text": [
      "2/2 - 3s - loss: 0.0058 - root_mean_squared_error: 0.0761 - val_loss: 0.2298 - val_root_mean_squared_error: 0.4794 - 3s/epoch - 1s/step\n",
      "Epoch 80/200\n",
      "INFO:tensorflow:Assets written to: model\\assets\n"
     ]
    },
    {
     "name": "stderr",
     "output_type": "stream",
     "text": [
      "INFO:tensorflow:Assets written to: model\\assets\n"
     ]
    },
    {
     "name": "stdout",
     "output_type": "stream",
     "text": [
      "2/2 - 3s - loss: 0.0058 - root_mean_squared_error: 0.0759 - val_loss: 0.2288 - val_root_mean_squared_error: 0.4784 - 3s/epoch - 1s/step\n",
      "Epoch 81/200\n",
      "INFO:tensorflow:Assets written to: model\\assets\n"
     ]
    },
    {
     "name": "stderr",
     "output_type": "stream",
     "text": [
      "INFO:tensorflow:Assets written to: model\\assets\n"
     ]
    },
    {
     "name": "stdout",
     "output_type": "stream",
     "text": [
      "2/2 - 2s - loss: 0.0057 - root_mean_squared_error: 0.0757 - val_loss: 0.2280 - val_root_mean_squared_error: 0.4775 - 2s/epoch - 1s/step\n",
      "Epoch 82/200\n",
      "INFO:tensorflow:Assets written to: model\\assets\n"
     ]
    },
    {
     "name": "stderr",
     "output_type": "stream",
     "text": [
      "INFO:tensorflow:Assets written to: model\\assets\n"
     ]
    },
    {
     "name": "stdout",
     "output_type": "stream",
     "text": [
      "2/2 - 2s - loss: 0.0057 - root_mean_squared_error: 0.0754 - val_loss: 0.2274 - val_root_mean_squared_error: 0.4768 - 2s/epoch - 1s/step\n",
      "Epoch 83/200\n",
      "INFO:tensorflow:Assets written to: model\\assets\n"
     ]
    },
    {
     "name": "stderr",
     "output_type": "stream",
     "text": [
      "INFO:tensorflow:Assets written to: model\\assets\n"
     ]
    },
    {
     "name": "stdout",
     "output_type": "stream",
     "text": [
      "2/2 - 2s - loss: 0.0057 - root_mean_squared_error: 0.0753 - val_loss: 0.2268 - val_root_mean_squared_error: 0.4763 - 2s/epoch - 1s/step\n",
      "Epoch 84/200\n",
      "INFO:tensorflow:Assets written to: model\\assets\n"
     ]
    },
    {
     "name": "stderr",
     "output_type": "stream",
     "text": [
      "INFO:tensorflow:Assets written to: model\\assets\n"
     ]
    },
    {
     "name": "stdout",
     "output_type": "stream",
     "text": [
      "2/2 - 3s - loss: 0.0056 - root_mean_squared_error: 0.0751 - val_loss: 0.2262 - val_root_mean_squared_error: 0.4756 - 3s/epoch - 2s/step\n",
      "Epoch 85/200\n",
      "INFO:tensorflow:Assets written to: model\\assets\n"
     ]
    },
    {
     "name": "stderr",
     "output_type": "stream",
     "text": [
      "INFO:tensorflow:Assets written to: model\\assets\n"
     ]
    },
    {
     "name": "stdout",
     "output_type": "stream",
     "text": [
      "2/2 - 2s - loss: 0.0056 - root_mean_squared_error: 0.0750 - val_loss: 0.2253 - val_root_mean_squared_error: 0.4746 - 2s/epoch - 1s/step\n",
      "Epoch 86/200\n",
      "INFO:tensorflow:Assets written to: model\\assets\n"
     ]
    },
    {
     "name": "stderr",
     "output_type": "stream",
     "text": [
      "INFO:tensorflow:Assets written to: model\\assets\n"
     ]
    },
    {
     "name": "stdout",
     "output_type": "stream",
     "text": [
      "2/2 - 3s - loss: 0.0056 - root_mean_squared_error: 0.0747 - val_loss: 0.2242 - val_root_mean_squared_error: 0.4735 - 3s/epoch - 1s/step\n",
      "Epoch 87/200\n",
      "INFO:tensorflow:Assets written to: model\\assets\n"
     ]
    },
    {
     "name": "stderr",
     "output_type": "stream",
     "text": [
      "INFO:tensorflow:Assets written to: model\\assets\n"
     ]
    },
    {
     "name": "stdout",
     "output_type": "stream",
     "text": [
      "2/2 - 2s - loss: 0.0055 - root_mean_squared_error: 0.0744 - val_loss: 0.2230 - val_root_mean_squared_error: 0.4723 - 2s/epoch - 1s/step\n",
      "Epoch 88/200\n",
      "INFO:tensorflow:Assets written to: model\\assets\n"
     ]
    },
    {
     "name": "stderr",
     "output_type": "stream",
     "text": [
      "INFO:tensorflow:Assets written to: model\\assets\n"
     ]
    },
    {
     "name": "stdout",
     "output_type": "stream",
     "text": [
      "2/2 - 2s - loss: 0.0055 - root_mean_squared_error: 0.0742 - val_loss: 0.2219 - val_root_mean_squared_error: 0.4710 - 2s/epoch - 1s/step\n",
      "Epoch 89/200\n",
      "INFO:tensorflow:Assets written to: model\\assets\n"
     ]
    },
    {
     "name": "stderr",
     "output_type": "stream",
     "text": [
      "INFO:tensorflow:Assets written to: model\\assets\n"
     ]
    },
    {
     "name": "stdout",
     "output_type": "stream",
     "text": [
      "2/2 - 2s - loss: 0.0054 - root_mean_squared_error: 0.0738 - val_loss: 0.2208 - val_root_mean_squared_error: 0.4699 - 2s/epoch - 1s/step\n",
      "Epoch 90/200\n",
      "INFO:tensorflow:Assets written to: model\\assets\n"
     ]
    },
    {
     "name": "stderr",
     "output_type": "stream",
     "text": [
      "INFO:tensorflow:Assets written to: model\\assets\n"
     ]
    },
    {
     "name": "stdout",
     "output_type": "stream",
     "text": [
      "2/2 - 2s - loss: 0.0054 - root_mean_squared_error: 0.0736 - val_loss: 0.2197 - val_root_mean_squared_error: 0.4687 - 2s/epoch - 1s/step\n",
      "Epoch 91/200\n",
      "INFO:tensorflow:Assets written to: model\\assets\n"
     ]
    },
    {
     "name": "stderr",
     "output_type": "stream",
     "text": [
      "INFO:tensorflow:Assets written to: model\\assets\n"
     ]
    },
    {
     "name": "stdout",
     "output_type": "stream",
     "text": [
      "2/2 - 2s - loss: 0.0054 - root_mean_squared_error: 0.0733 - val_loss: 0.2186 - val_root_mean_squared_error: 0.4676 - 2s/epoch - 1s/step\n",
      "Epoch 92/200\n",
      "INFO:tensorflow:Assets written to: model\\assets\n"
     ]
    },
    {
     "name": "stderr",
     "output_type": "stream",
     "text": [
      "INFO:tensorflow:Assets written to: model\\assets\n"
     ]
    },
    {
     "name": "stdout",
     "output_type": "stream",
     "text": [
      "2/2 - 3s - loss: 0.0053 - root_mean_squared_error: 0.0731 - val_loss: 0.2175 - val_root_mean_squared_error: 0.4664 - 3s/epoch - 1s/step\n",
      "Epoch 93/200\n",
      "INFO:tensorflow:Assets written to: model\\assets\n"
     ]
    },
    {
     "name": "stderr",
     "output_type": "stream",
     "text": [
      "INFO:tensorflow:Assets written to: model\\assets\n"
     ]
    },
    {
     "name": "stdout",
     "output_type": "stream",
     "text": [
      "2/2 - 4s - loss: 0.0053 - root_mean_squared_error: 0.0728 - val_loss: 0.2166 - val_root_mean_squared_error: 0.4654 - 4s/epoch - 2s/step\n",
      "Epoch 94/200\n",
      "INFO:tensorflow:Assets written to: model\\assets\n"
     ]
    },
    {
     "name": "stderr",
     "output_type": "stream",
     "text": [
      "INFO:tensorflow:Assets written to: model\\assets\n"
     ]
    },
    {
     "name": "stdout",
     "output_type": "stream",
     "text": [
      "2/2 - 2s - loss: 0.0053 - root_mean_squared_error: 0.0726 - val_loss: 0.2156 - val_root_mean_squared_error: 0.4643 - 2s/epoch - 1s/step\n",
      "Epoch 95/200\n",
      "INFO:tensorflow:Assets written to: model\\assets\n"
     ]
    },
    {
     "name": "stderr",
     "output_type": "stream",
     "text": [
      "INFO:tensorflow:Assets written to: model\\assets\n"
     ]
    },
    {
     "name": "stdout",
     "output_type": "stream",
     "text": [
      "2/2 - 2s - loss: 0.0052 - root_mean_squared_error: 0.0724 - val_loss: 0.2145 - val_root_mean_squared_error: 0.4631 - 2s/epoch - 1s/step\n",
      "Epoch 96/200\n",
      "INFO:tensorflow:Assets written to: model\\assets\n"
     ]
    },
    {
     "name": "stderr",
     "output_type": "stream",
     "text": [
      "INFO:tensorflow:Assets written to: model\\assets\n"
     ]
    },
    {
     "name": "stdout",
     "output_type": "stream",
     "text": [
      "2/2 - 2s - loss: 0.0052 - root_mean_squared_error: 0.0722 - val_loss: 0.2134 - val_root_mean_squared_error: 0.4620 - 2s/epoch - 1s/step\n",
      "Epoch 97/200\n",
      "INFO:tensorflow:Assets written to: model\\assets\n"
     ]
    },
    {
     "name": "stderr",
     "output_type": "stream",
     "text": [
      "INFO:tensorflow:Assets written to: model\\assets\n"
     ]
    },
    {
     "name": "stdout",
     "output_type": "stream",
     "text": [
      "2/2 - 2s - loss: 0.0052 - root_mean_squared_error: 0.0720 - val_loss: 0.2123 - val_root_mean_squared_error: 0.4607 - 2s/epoch - 1s/step\n",
      "Epoch 98/200\n",
      "INFO:tensorflow:Assets written to: model\\assets\n"
     ]
    },
    {
     "name": "stderr",
     "output_type": "stream",
     "text": [
      "INFO:tensorflow:Assets written to: model\\assets\n"
     ]
    },
    {
     "name": "stdout",
     "output_type": "stream",
     "text": [
      "2/2 - 3s - loss: 0.0051 - root_mean_squared_error: 0.0717 - val_loss: 0.2112 - val_root_mean_squared_error: 0.4596 - 3s/epoch - 1s/step\n",
      "Epoch 99/200\n",
      "INFO:tensorflow:Assets written to: model\\assets\n"
     ]
    },
    {
     "name": "stderr",
     "output_type": "stream",
     "text": [
      "INFO:tensorflow:Assets written to: model\\assets\n"
     ]
    },
    {
     "name": "stdout",
     "output_type": "stream",
     "text": [
      "2/2 - 3s - loss: 0.0051 - root_mean_squared_error: 0.0715 - val_loss: 0.2102 - val_root_mean_squared_error: 0.4584 - 3s/epoch - 1s/step\n",
      "Epoch 100/200\n",
      "INFO:tensorflow:Assets written to: model\\assets\n"
     ]
    },
    {
     "name": "stderr",
     "output_type": "stream",
     "text": [
      "INFO:tensorflow:Assets written to: model\\assets\n"
     ]
    },
    {
     "name": "stdout",
     "output_type": "stream",
     "text": [
      "2/2 - 2s - loss: 0.0051 - root_mean_squared_error: 0.0712 - val_loss: 0.2090 - val_root_mean_squared_error: 0.4572 - 2s/epoch - 1s/step\n",
      "Epoch 101/200\n",
      "INFO:tensorflow:Assets written to: model\\assets\n"
     ]
    },
    {
     "name": "stderr",
     "output_type": "stream",
     "text": [
      "INFO:tensorflow:Assets written to: model\\assets\n"
     ]
    },
    {
     "name": "stdout",
     "output_type": "stream",
     "text": [
      "2/2 - 2s - loss: 0.0050 - root_mean_squared_error: 0.0710 - val_loss: 0.2078 - val_root_mean_squared_error: 0.4559 - 2s/epoch - 1s/step\n",
      "Epoch 102/200\n",
      "INFO:tensorflow:Assets written to: model\\assets\n"
     ]
    },
    {
     "name": "stderr",
     "output_type": "stream",
     "text": [
      "INFO:tensorflow:Assets written to: model\\assets\n"
     ]
    },
    {
     "name": "stdout",
     "output_type": "stream",
     "text": [
      "2/2 - 3s - loss: 0.0050 - root_mean_squared_error: 0.0707 - val_loss: 0.2067 - val_root_mean_squared_error: 0.4546 - 3s/epoch - 2s/step\n",
      "Epoch 103/200\n",
      "INFO:tensorflow:Assets written to: model\\assets\n"
     ]
    },
    {
     "name": "stderr",
     "output_type": "stream",
     "text": [
      "INFO:tensorflow:Assets written to: model\\assets\n"
     ]
    },
    {
     "name": "stdout",
     "output_type": "stream",
     "text": [
      "2/2 - 2s - loss: 0.0050 - root_mean_squared_error: 0.0704 - val_loss: 0.2055 - val_root_mean_squared_error: 0.4534 - 2s/epoch - 1s/step\n",
      "Epoch 104/200\n",
      "INFO:tensorflow:Assets written to: model\\assets\n"
     ]
    },
    {
     "name": "stderr",
     "output_type": "stream",
     "text": [
      "INFO:tensorflow:Assets written to: model\\assets\n"
     ]
    },
    {
     "name": "stdout",
     "output_type": "stream",
     "text": [
      "2/2 - 3s - loss: 0.0049 - root_mean_squared_error: 0.0701 - val_loss: 0.2043 - val_root_mean_squared_error: 0.4519 - 3s/epoch - 1s/step\n",
      "Epoch 105/200\n",
      "INFO:tensorflow:Assets written to: model\\assets\n"
     ]
    },
    {
     "name": "stderr",
     "output_type": "stream",
     "text": [
      "INFO:tensorflow:Assets written to: model\\assets\n"
     ]
    },
    {
     "name": "stdout",
     "output_type": "stream",
     "text": [
      "2/2 - 3s - loss: 0.0049 - root_mean_squared_error: 0.0698 - val_loss: 0.2027 - val_root_mean_squared_error: 0.4502 - 3s/epoch - 1s/step\n",
      "Epoch 106/200\n",
      "INFO:tensorflow:Assets written to: model\\assets\n"
     ]
    },
    {
     "name": "stderr",
     "output_type": "stream",
     "text": [
      "INFO:tensorflow:Assets written to: model\\assets\n"
     ]
    },
    {
     "name": "stdout",
     "output_type": "stream",
     "text": [
      "2/2 - 2s - loss: 0.0048 - root_mean_squared_error: 0.0695 - val_loss: 0.2008 - val_root_mean_squared_error: 0.4481 - 2s/epoch - 1s/step\n",
      "Epoch 107/200\n",
      "INFO:tensorflow:Assets written to: model\\assets\n"
     ]
    },
    {
     "name": "stderr",
     "output_type": "stream",
     "text": [
      "INFO:tensorflow:Assets written to: model\\assets\n"
     ]
    },
    {
     "name": "stdout",
     "output_type": "stream",
     "text": [
      "2/2 - 2s - loss: 0.0048 - root_mean_squared_error: 0.0692 - val_loss: 0.1988 - val_root_mean_squared_error: 0.4459 - 2s/epoch - 1s/step\n",
      "Epoch 108/200\n",
      "INFO:tensorflow:Assets written to: model\\assets\n"
     ]
    },
    {
     "name": "stderr",
     "output_type": "stream",
     "text": [
      "INFO:tensorflow:Assets written to: model\\assets\n"
     ]
    },
    {
     "name": "stdout",
     "output_type": "stream",
     "text": [
      "2/2 - 2s - loss: 0.0047 - root_mean_squared_error: 0.0689 - val_loss: 0.1969 - val_root_mean_squared_error: 0.4437 - 2s/epoch - 1s/step\n",
      "Epoch 109/200\n",
      "INFO:tensorflow:Assets written to: model\\assets\n"
     ]
    },
    {
     "name": "stderr",
     "output_type": "stream",
     "text": [
      "INFO:tensorflow:Assets written to: model\\assets\n"
     ]
    },
    {
     "name": "stdout",
     "output_type": "stream",
     "text": [
      "2/2 - 2s - loss: 0.0047 - root_mean_squared_error: 0.0686 - val_loss: 0.1951 - val_root_mean_squared_error: 0.4417 - 2s/epoch - 1s/step\n",
      "Epoch 110/200\n",
      "INFO:tensorflow:Assets written to: model\\assets\n"
     ]
    },
    {
     "name": "stderr",
     "output_type": "stream",
     "text": [
      "INFO:tensorflow:Assets written to: model\\assets\n"
     ]
    },
    {
     "name": "stdout",
     "output_type": "stream",
     "text": [
      "2/2 - 2s - loss: 0.0047 - root_mean_squared_error: 0.0683 - val_loss: 0.1933 - val_root_mean_squared_error: 0.4397 - 2s/epoch - 1s/step\n",
      "Epoch 111/200\n",
      "INFO:tensorflow:Assets written to: model\\assets\n"
     ]
    },
    {
     "name": "stderr",
     "output_type": "stream",
     "text": [
      "INFO:tensorflow:Assets written to: model\\assets\n"
     ]
    },
    {
     "name": "stdout",
     "output_type": "stream",
     "text": [
      "2/2 - 3s - loss: 0.0046 - root_mean_squared_error: 0.0680 - val_loss: 0.1917 - val_root_mean_squared_error: 0.4378 - 3s/epoch - 1s/step\n",
      "Epoch 112/200\n",
      "INFO:tensorflow:Assets written to: model\\assets\n"
     ]
    },
    {
     "name": "stderr",
     "output_type": "stream",
     "text": [
      "INFO:tensorflow:Assets written to: model\\assets\n"
     ]
    },
    {
     "name": "stdout",
     "output_type": "stream",
     "text": [
      "2/2 - 4s - loss: 0.0046 - root_mean_squared_error: 0.0677 - val_loss: 0.1903 - val_root_mean_squared_error: 0.4362 - 4s/epoch - 2s/step\n",
      "Epoch 113/200\n",
      "INFO:tensorflow:Assets written to: model\\assets\n"
     ]
    },
    {
     "name": "stderr",
     "output_type": "stream",
     "text": [
      "INFO:tensorflow:Assets written to: model\\assets\n"
     ]
    },
    {
     "name": "stdout",
     "output_type": "stream",
     "text": [
      "2/2 - 2s - loss: 0.0045 - root_mean_squared_error: 0.0673 - val_loss: 0.1889 - val_root_mean_squared_error: 0.4346 - 2s/epoch - 1s/step\n",
      "Epoch 114/200\n",
      "INFO:tensorflow:Assets written to: model\\assets\n"
     ]
    },
    {
     "name": "stderr",
     "output_type": "stream",
     "text": [
      "INFO:tensorflow:Assets written to: model\\assets\n"
     ]
    },
    {
     "name": "stdout",
     "output_type": "stream",
     "text": [
      "2/2 - 2s - loss: 0.0045 - root_mean_squared_error: 0.0670 - val_loss: 0.1871 - val_root_mean_squared_error: 0.4326 - 2s/epoch - 1s/step\n",
      "Epoch 115/200\n",
      "INFO:tensorflow:Assets written to: model\\assets\n"
     ]
    },
    {
     "name": "stderr",
     "output_type": "stream",
     "text": [
      "INFO:tensorflow:Assets written to: model\\assets\n"
     ]
    },
    {
     "name": "stdout",
     "output_type": "stream",
     "text": [
      "2/2 - 3s - loss: 0.0045 - root_mean_squared_error: 0.0667 - val_loss: 0.1852 - val_root_mean_squared_error: 0.4303 - 3s/epoch - 1s/step\n",
      "Epoch 116/200\n",
      "INFO:tensorflow:Assets written to: model\\assets\n"
     ]
    },
    {
     "name": "stderr",
     "output_type": "stream",
     "text": [
      "INFO:tensorflow:Assets written to: model\\assets\n"
     ]
    },
    {
     "name": "stdout",
     "output_type": "stream",
     "text": [
      "2/2 - 3s - loss: 0.0044 - root_mean_squared_error: 0.0664 - val_loss: 0.1834 - val_root_mean_squared_error: 0.4282 - 3s/epoch - 1s/step\n",
      "Epoch 117/200\n",
      "INFO:tensorflow:Assets written to: model\\assets\n"
     ]
    },
    {
     "name": "stderr",
     "output_type": "stream",
     "text": [
      "INFO:tensorflow:Assets written to: model\\assets\n"
     ]
    },
    {
     "name": "stdout",
     "output_type": "stream",
     "text": [
      "2/2 - 3s - loss: 0.0044 - root_mean_squared_error: 0.0660 - val_loss: 0.1816 - val_root_mean_squared_error: 0.4261 - 3s/epoch - 1s/step\n",
      "Epoch 118/200\n",
      "INFO:tensorflow:Assets written to: model\\assets\n"
     ]
    },
    {
     "name": "stderr",
     "output_type": "stream",
     "text": [
      "INFO:tensorflow:Assets written to: model\\assets\n"
     ]
    },
    {
     "name": "stdout",
     "output_type": "stream",
     "text": [
      "2/2 - 2s - loss: 0.0043 - root_mean_squared_error: 0.0657 - val_loss: 0.1800 - val_root_mean_squared_error: 0.4242 - 2s/epoch - 1s/step\n",
      "Epoch 119/200\n",
      "INFO:tensorflow:Assets written to: model\\assets\n"
     ]
    },
    {
     "name": "stderr",
     "output_type": "stream",
     "text": [
      "INFO:tensorflow:Assets written to: model\\assets\n"
     ]
    },
    {
     "name": "stdout",
     "output_type": "stream",
     "text": [
      "2/2 - 2s - loss: 0.0043 - root_mean_squared_error: 0.0653 - val_loss: 0.1783 - val_root_mean_squared_error: 0.4223 - 2s/epoch - 1s/step\n",
      "Epoch 120/200\n",
      "INFO:tensorflow:Assets written to: model\\assets\n"
     ]
    },
    {
     "name": "stderr",
     "output_type": "stream",
     "text": [
      "INFO:tensorflow:Assets written to: model\\assets\n"
     ]
    },
    {
     "name": "stdout",
     "output_type": "stream",
     "text": [
      "2/2 - 3s - loss: 0.0042 - root_mean_squared_error: 0.0651 - val_loss: 0.1767 - val_root_mean_squared_error: 0.4204 - 3s/epoch - 2s/step\n",
      "Epoch 121/200\n",
      "INFO:tensorflow:Assets written to: model\\assets\n"
     ]
    },
    {
     "name": "stderr",
     "output_type": "stream",
     "text": [
      "INFO:tensorflow:Assets written to: model\\assets\n"
     ]
    },
    {
     "name": "stdout",
     "output_type": "stream",
     "text": [
      "2/2 - 2s - loss: 0.0042 - root_mean_squared_error: 0.0647 - val_loss: 0.1754 - val_root_mean_squared_error: 0.4188 - 2s/epoch - 1s/step\n",
      "Epoch 122/200\n",
      "INFO:tensorflow:Assets written to: model\\assets\n"
     ]
    },
    {
     "name": "stderr",
     "output_type": "stream",
     "text": [
      "INFO:tensorflow:Assets written to: model\\assets\n"
     ]
    },
    {
     "name": "stdout",
     "output_type": "stream",
     "text": [
      "2/2 - 2s - loss: 0.0041 - root_mean_squared_error: 0.0644 - val_loss: 0.1742 - val_root_mean_squared_error: 0.4174 - 2s/epoch - 1s/step\n",
      "Epoch 123/200\n",
      "INFO:tensorflow:Assets written to: model\\assets\n"
     ]
    },
    {
     "name": "stderr",
     "output_type": "stream",
     "text": [
      "INFO:tensorflow:Assets written to: model\\assets\n"
     ]
    },
    {
     "name": "stdout",
     "output_type": "stream",
     "text": [
      "2/2 - 3s - loss: 0.0041 - root_mean_squared_error: 0.0640 - val_loss: 0.1731 - val_root_mean_squared_error: 0.4160 - 3s/epoch - 1s/step\n",
      "Epoch 124/200\n",
      "INFO:tensorflow:Assets written to: model\\assets\n"
     ]
    },
    {
     "name": "stderr",
     "output_type": "stream",
     "text": [
      "INFO:tensorflow:Assets written to: model\\assets\n"
     ]
    },
    {
     "name": "stdout",
     "output_type": "stream",
     "text": [
      "2/2 - 2s - loss: 0.0041 - root_mean_squared_error: 0.0637 - val_loss: 0.1717 - val_root_mean_squared_error: 0.4144 - 2s/epoch - 1s/step\n",
      "Epoch 125/200\n",
      "INFO:tensorflow:Assets written to: model\\assets\n"
     ]
    },
    {
     "name": "stderr",
     "output_type": "stream",
     "text": [
      "INFO:tensorflow:Assets written to: model\\assets\n"
     ]
    },
    {
     "name": "stdout",
     "output_type": "stream",
     "text": [
      "2/2 - 2s - loss: 0.0040 - root_mean_squared_error: 0.0633 - val_loss: 0.1700 - val_root_mean_squared_error: 0.4123 - 2s/epoch - 1s/step\n",
      "Epoch 126/200\n",
      "INFO:tensorflow:Assets written to: model\\assets\n"
     ]
    },
    {
     "name": "stderr",
     "output_type": "stream",
     "text": [
      "INFO:tensorflow:Assets written to: model\\assets\n"
     ]
    },
    {
     "name": "stdout",
     "output_type": "stream",
     "text": [
      "2/2 - 2s - loss: 0.0040 - root_mean_squared_error: 0.0630 - val_loss: 0.1678 - val_root_mean_squared_error: 0.4096 - 2s/epoch - 1s/step\n",
      "Epoch 127/200\n",
      "INFO:tensorflow:Assets written to: model\\assets\n"
     ]
    },
    {
     "name": "stderr",
     "output_type": "stream",
     "text": [
      "INFO:tensorflow:Assets written to: model\\assets\n"
     ]
    },
    {
     "name": "stdout",
     "output_type": "stream",
     "text": [
      "2/2 - 2s - loss: 0.0039 - root_mean_squared_error: 0.0627 - val_loss: 0.1658 - val_root_mean_squared_error: 0.4072 - 2s/epoch - 1s/step\n",
      "Epoch 128/200\n",
      "INFO:tensorflow:Assets written to: model\\assets\n"
     ]
    },
    {
     "name": "stderr",
     "output_type": "stream",
     "text": [
      "INFO:tensorflow:Assets written to: model\\assets\n"
     ]
    },
    {
     "name": "stdout",
     "output_type": "stream",
     "text": [
      "2/2 - 2s - loss: 0.0039 - root_mean_squared_error: 0.0623 - val_loss: 0.1639 - val_root_mean_squared_error: 0.4049 - 2s/epoch - 1s/step\n",
      "Epoch 129/200\n",
      "INFO:tensorflow:Assets written to: model\\assets\n"
     ]
    },
    {
     "name": "stderr",
     "output_type": "stream",
     "text": [
      "INFO:tensorflow:Assets written to: model\\assets\n"
     ]
    },
    {
     "name": "stdout",
     "output_type": "stream",
     "text": [
      "2/2 - 2s - loss: 0.0038 - root_mean_squared_error: 0.0620 - val_loss: 0.1620 - val_root_mean_squared_error: 0.4026 - 2s/epoch - 1s/step\n",
      "Epoch 130/200\n",
      "INFO:tensorflow:Assets written to: model\\assets\n"
     ]
    },
    {
     "name": "stderr",
     "output_type": "stream",
     "text": [
      "INFO:tensorflow:Assets written to: model\\assets\n"
     ]
    },
    {
     "name": "stdout",
     "output_type": "stream",
     "text": [
      "2/2 - 4s - loss: 0.0038 - root_mean_squared_error: 0.0615 - val_loss: 0.1599 - val_root_mean_squared_error: 0.3999 - 4s/epoch - 2s/step\n",
      "Epoch 131/200\n",
      "INFO:tensorflow:Assets written to: model\\assets\n"
     ]
    },
    {
     "name": "stderr",
     "output_type": "stream",
     "text": [
      "INFO:tensorflow:Assets written to: model\\assets\n"
     ]
    },
    {
     "name": "stdout",
     "output_type": "stream",
     "text": [
      "2/2 - 2s - loss: 0.0037 - root_mean_squared_error: 0.0612 - val_loss: 0.1575 - val_root_mean_squared_error: 0.3969 - 2s/epoch - 1s/step\n",
      "Epoch 132/200\n",
      "INFO:tensorflow:Assets written to: model\\assets\n"
     ]
    },
    {
     "name": "stderr",
     "output_type": "stream",
     "text": [
      "INFO:tensorflow:Assets written to: model\\assets\n"
     ]
    },
    {
     "name": "stdout",
     "output_type": "stream",
     "text": [
      "2/2 - 2s - loss: 0.0037 - root_mean_squared_error: 0.0608 - val_loss: 0.1553 - val_root_mean_squared_error: 0.3940 - 2s/epoch - 1s/step\n",
      "Epoch 133/200\n",
      "INFO:tensorflow:Assets written to: model\\assets\n"
     ]
    },
    {
     "name": "stderr",
     "output_type": "stream",
     "text": [
      "INFO:tensorflow:Assets written to: model\\assets\n"
     ]
    },
    {
     "name": "stdout",
     "output_type": "stream",
     "text": [
      "2/2 - 2s - loss: 0.0036 - root_mean_squared_error: 0.0604 - val_loss: 0.1533 - val_root_mean_squared_error: 0.3915 - 2s/epoch - 1s/step\n",
      "Epoch 134/200\n",
      "INFO:tensorflow:Assets written to: model\\assets\n"
     ]
    },
    {
     "name": "stderr",
     "output_type": "stream",
     "text": [
      "INFO:tensorflow:Assets written to: model\\assets\n"
     ]
    },
    {
     "name": "stdout",
     "output_type": "stream",
     "text": [
      "2/2 - 2s - loss: 0.0036 - root_mean_squared_error: 0.0599 - val_loss: 0.1516 - val_root_mean_squared_error: 0.3893 - 2s/epoch - 1s/step\n",
      "Epoch 135/200\n",
      "INFO:tensorflow:Assets written to: model\\assets\n"
     ]
    },
    {
     "name": "stderr",
     "output_type": "stream",
     "text": [
      "INFO:tensorflow:Assets written to: model\\assets\n"
     ]
    },
    {
     "name": "stdout",
     "output_type": "stream",
     "text": [
      "2/2 - 2s - loss: 0.0035 - root_mean_squared_error: 0.0595 - val_loss: 0.1500 - val_root_mean_squared_error: 0.3873 - 2s/epoch - 1s/step\n",
      "Epoch 136/200\n",
      "INFO:tensorflow:Assets written to: model\\assets\n"
     ]
    },
    {
     "name": "stderr",
     "output_type": "stream",
     "text": [
      "INFO:tensorflow:Assets written to: model\\assets\n"
     ]
    },
    {
     "name": "stdout",
     "output_type": "stream",
     "text": [
      "2/2 - 3s - loss: 0.0035 - root_mean_squared_error: 0.0591 - val_loss: 0.1485 - val_root_mean_squared_error: 0.3854 - 3s/epoch - 1s/step\n",
      "Epoch 137/200\n",
      "INFO:tensorflow:Assets written to: model\\assets\n"
     ]
    },
    {
     "name": "stderr",
     "output_type": "stream",
     "text": [
      "INFO:tensorflow:Assets written to: model\\assets\n"
     ]
    },
    {
     "name": "stdout",
     "output_type": "stream",
     "text": [
      "2/2 - 2s - loss: 0.0034 - root_mean_squared_error: 0.0587 - val_loss: 0.1470 - val_root_mean_squared_error: 0.3835 - 2s/epoch - 1s/step\n",
      "Epoch 138/200\n",
      "INFO:tensorflow:Assets written to: model\\assets\n"
     ]
    },
    {
     "name": "stderr",
     "output_type": "stream",
     "text": [
      "INFO:tensorflow:Assets written to: model\\assets\n"
     ]
    },
    {
     "name": "stdout",
     "output_type": "stream",
     "text": [
      "2/2 - 3s - loss: 0.0034 - root_mean_squared_error: 0.0583 - val_loss: 0.1456 - val_root_mean_squared_error: 0.3816 - 3s/epoch - 2s/step\n",
      "Epoch 139/200\n",
      "INFO:tensorflow:Assets written to: model\\assets\n"
     ]
    },
    {
     "name": "stderr",
     "output_type": "stream",
     "text": [
      "INFO:tensorflow:Assets written to: model\\assets\n"
     ]
    },
    {
     "name": "stdout",
     "output_type": "stream",
     "text": [
      "2/2 - 2s - loss: 0.0034 - root_mean_squared_error: 0.0580 - val_loss: 0.1444 - val_root_mean_squared_error: 0.3799 - 2s/epoch - 1s/step\n",
      "Epoch 140/200\n",
      "INFO:tensorflow:Assets written to: model\\assets\n"
     ]
    },
    {
     "name": "stderr",
     "output_type": "stream",
     "text": [
      "INFO:tensorflow:Assets written to: model\\assets\n"
     ]
    },
    {
     "name": "stdout",
     "output_type": "stream",
     "text": [
      "2/2 - 2s - loss: 0.0033 - root_mean_squared_error: 0.0576 - val_loss: 0.1431 - val_root_mean_squared_error: 0.3783 - 2s/epoch - 1s/step\n",
      "Epoch 141/200\n",
      "INFO:tensorflow:Assets written to: model\\assets\n"
     ]
    },
    {
     "name": "stderr",
     "output_type": "stream",
     "text": [
      "INFO:tensorflow:Assets written to: model\\assets\n"
     ]
    },
    {
     "name": "stdout",
     "output_type": "stream",
     "text": [
      "2/2 - 2s - loss: 0.0033 - root_mean_squared_error: 0.0572 - val_loss: 0.1419 - val_root_mean_squared_error: 0.3768 - 2s/epoch - 1s/step\n",
      "Epoch 142/200\n",
      "INFO:tensorflow:Assets written to: model\\assets\n"
     ]
    },
    {
     "name": "stderr",
     "output_type": "stream",
     "text": [
      "INFO:tensorflow:Assets written to: model\\assets\n"
     ]
    },
    {
     "name": "stdout",
     "output_type": "stream",
     "text": [
      "2/2 - 2s - loss: 0.0032 - root_mean_squared_error: 0.0568 - val_loss: 0.1406 - val_root_mean_squared_error: 0.3749 - 2s/epoch - 1s/step\n",
      "Epoch 143/200\n",
      "INFO:tensorflow:Assets written to: model\\assets\n"
     ]
    },
    {
     "name": "stderr",
     "output_type": "stream",
     "text": [
      "INFO:tensorflow:Assets written to: model\\assets\n"
     ]
    },
    {
     "name": "stdout",
     "output_type": "stream",
     "text": [
      "2/2 - 2s - loss: 0.0032 - root_mean_squared_error: 0.0564 - val_loss: 0.1390 - val_root_mean_squared_error: 0.3728 - 2s/epoch - 1s/step\n",
      "Epoch 144/200\n",
      "INFO:tensorflow:Assets written to: model\\assets\n"
     ]
    },
    {
     "name": "stderr",
     "output_type": "stream",
     "text": [
      "INFO:tensorflow:Assets written to: model\\assets\n"
     ]
    },
    {
     "name": "stdout",
     "output_type": "stream",
     "text": [
      "2/2 - 2s - loss: 0.0031 - root_mean_squared_error: 0.0561 - val_loss: 0.1375 - val_root_mean_squared_error: 0.3708 - 2s/epoch - 1s/step\n",
      "Epoch 145/200\n",
      "INFO:tensorflow:Assets written to: model\\assets\n"
     ]
    },
    {
     "name": "stderr",
     "output_type": "stream",
     "text": [
      "INFO:tensorflow:Assets written to: model\\assets\n"
     ]
    },
    {
     "name": "stdout",
     "output_type": "stream",
     "text": [
      "2/2 - 2s - loss: 0.0031 - root_mean_squared_error: 0.0557 - val_loss: 0.1362 - val_root_mean_squared_error: 0.3691 - 2s/epoch - 1s/step\n",
      "Epoch 146/200\n",
      "INFO:tensorflow:Assets written to: model\\assets\n"
     ]
    },
    {
     "name": "stderr",
     "output_type": "stream",
     "text": [
      "INFO:tensorflow:Assets written to: model\\assets\n"
     ]
    },
    {
     "name": "stdout",
     "output_type": "stream",
     "text": [
      "2/2 - 2s - loss: 0.0031 - root_mean_squared_error: 0.0553 - val_loss: 0.1350 - val_root_mean_squared_error: 0.3674 - 2s/epoch - 1s/step\n",
      "Epoch 147/200\n",
      "INFO:tensorflow:Assets written to: model\\assets\n"
     ]
    },
    {
     "name": "stderr",
     "output_type": "stream",
     "text": [
      "INFO:tensorflow:Assets written to: model\\assets\n"
     ]
    },
    {
     "name": "stdout",
     "output_type": "stream",
     "text": [
      "2/2 - 3s - loss: 0.0030 - root_mean_squared_error: 0.0549 - val_loss: 0.1336 - val_root_mean_squared_error: 0.3655 - 3s/epoch - 2s/step\n",
      "Epoch 148/200\n",
      "INFO:tensorflow:Assets written to: model\\assets\n"
     ]
    },
    {
     "name": "stderr",
     "output_type": "stream",
     "text": [
      "INFO:tensorflow:Assets written to: model\\assets\n"
     ]
    },
    {
     "name": "stdout",
     "output_type": "stream",
     "text": [
      "2/2 - 2s - loss: 0.0030 - root_mean_squared_error: 0.0546 - val_loss: 0.1321 - val_root_mean_squared_error: 0.3634 - 2s/epoch - 1s/step\n",
      "Epoch 149/200\n",
      "INFO:tensorflow:Assets written to: model\\assets\n"
     ]
    },
    {
     "name": "stderr",
     "output_type": "stream",
     "text": [
      "INFO:tensorflow:Assets written to: model\\assets\n"
     ]
    },
    {
     "name": "stdout",
     "output_type": "stream",
     "text": [
      "2/2 - 2s - loss: 0.0029 - root_mean_squared_error: 0.0542 - val_loss: 0.1306 - val_root_mean_squared_error: 0.3613 - 2s/epoch - 1s/step\n",
      "Epoch 150/200\n",
      "INFO:tensorflow:Assets written to: model\\assets\n"
     ]
    },
    {
     "name": "stderr",
     "output_type": "stream",
     "text": [
      "INFO:tensorflow:Assets written to: model\\assets\n"
     ]
    },
    {
     "name": "stdout",
     "output_type": "stream",
     "text": [
      "2/2 - 2s - loss: 0.0029 - root_mean_squared_error: 0.0539 - val_loss: 0.1291 - val_root_mean_squared_error: 0.3593 - 2s/epoch - 1s/step\n",
      "Epoch 151/200\n",
      "INFO:tensorflow:Assets written to: model\\assets\n"
     ]
    },
    {
     "name": "stderr",
     "output_type": "stream",
     "text": [
      "INFO:tensorflow:Assets written to: model\\assets\n"
     ]
    },
    {
     "name": "stdout",
     "output_type": "stream",
     "text": [
      "2/2 - 2s - loss: 0.0029 - root_mean_squared_error: 0.0536 - val_loss: 0.1278 - val_root_mean_squared_error: 0.3575 - 2s/epoch - 1s/step\n",
      "Epoch 152/200\n",
      "INFO:tensorflow:Assets written to: model\\assets\n"
     ]
    },
    {
     "name": "stderr",
     "output_type": "stream",
     "text": [
      "INFO:tensorflow:Assets written to: model\\assets\n"
     ]
    },
    {
     "name": "stdout",
     "output_type": "stream",
     "text": [
      "2/2 - 2s - loss: 0.0028 - root_mean_squared_error: 0.0532 - val_loss: 0.1266 - val_root_mean_squared_error: 0.3558 - 2s/epoch - 1s/step\n",
      "Epoch 153/200\n",
      "INFO:tensorflow:Assets written to: model\\assets\n"
     ]
    },
    {
     "name": "stderr",
     "output_type": "stream",
     "text": [
      "INFO:tensorflow:Assets written to: model\\assets\n"
     ]
    },
    {
     "name": "stdout",
     "output_type": "stream",
     "text": [
      "2/2 - 2s - loss: 0.0028 - root_mean_squared_error: 0.0528 - val_loss: 0.1255 - val_root_mean_squared_error: 0.3542 - 2s/epoch - 1s/step\n",
      "Epoch 154/200\n",
      "INFO:tensorflow:Assets written to: model\\assets\n"
     ]
    },
    {
     "name": "stderr",
     "output_type": "stream",
     "text": [
      "INFO:tensorflow:Assets written to: model\\assets\n"
     ]
    },
    {
     "name": "stdout",
     "output_type": "stream",
     "text": [
      "2/2 - 2s - loss: 0.0027 - root_mean_squared_error: 0.0524 - val_loss: 0.1246 - val_root_mean_squared_error: 0.3530 - 2s/epoch - 1s/step\n",
      "Epoch 155/200\n",
      "INFO:tensorflow:Assets written to: model\\assets\n"
     ]
    },
    {
     "name": "stderr",
     "output_type": "stream",
     "text": [
      "INFO:tensorflow:Assets written to: model\\assets\n"
     ]
    },
    {
     "name": "stdout",
     "output_type": "stream",
     "text": [
      "2/2 - 2s - loss: 0.0027 - root_mean_squared_error: 0.0521 - val_loss: 0.1234 - val_root_mean_squared_error: 0.3513 - 2s/epoch - 1s/step\n",
      "Epoch 156/200\n",
      "INFO:tensorflow:Assets written to: model\\assets\n"
     ]
    },
    {
     "name": "stderr",
     "output_type": "stream",
     "text": [
      "INFO:tensorflow:Assets written to: model\\assets\n"
     ]
    },
    {
     "name": "stdout",
     "output_type": "stream",
     "text": [
      "2/2 - 3s - loss: 0.0027 - root_mean_squared_error: 0.0518 - val_loss: 0.1217 - val_root_mean_squared_error: 0.3489 - 3s/epoch - 2s/step\n",
      "Epoch 157/200\n",
      "INFO:tensorflow:Assets written to: model\\assets\n"
     ]
    },
    {
     "name": "stderr",
     "output_type": "stream",
     "text": [
      "INFO:tensorflow:Assets written to: model\\assets\n"
     ]
    },
    {
     "name": "stdout",
     "output_type": "stream",
     "text": [
      "2/2 - 2s - loss: 0.0026 - root_mean_squared_error: 0.0513 - val_loss: 0.1199 - val_root_mean_squared_error: 0.3463 - 2s/epoch - 1s/step\n",
      "Epoch 158/200\n",
      "INFO:tensorflow:Assets written to: model\\assets\n"
     ]
    },
    {
     "name": "stderr",
     "output_type": "stream",
     "text": [
      "INFO:tensorflow:Assets written to: model\\assets\n"
     ]
    },
    {
     "name": "stdout",
     "output_type": "stream",
     "text": [
      "2/2 - 2s - loss: 0.0026 - root_mean_squared_error: 0.0509 - val_loss: 0.1179 - val_root_mean_squared_error: 0.3434 - 2s/epoch - 1s/step\n",
      "Epoch 159/200\n",
      "INFO:tensorflow:Assets written to: model\\assets\n"
     ]
    },
    {
     "name": "stderr",
     "output_type": "stream",
     "text": [
      "INFO:tensorflow:Assets written to: model\\assets\n"
     ]
    },
    {
     "name": "stdout",
     "output_type": "stream",
     "text": [
      "2/2 - 2s - loss: 0.0025 - root_mean_squared_error: 0.0504 - val_loss: 0.1157 - val_root_mean_squared_error: 0.3402 - 2s/epoch - 1s/step\n",
      "Epoch 160/200\n",
      "INFO:tensorflow:Assets written to: model\\assets\n"
     ]
    },
    {
     "name": "stderr",
     "output_type": "stream",
     "text": [
      "INFO:tensorflow:Assets written to: model\\assets\n"
     ]
    },
    {
     "name": "stdout",
     "output_type": "stream",
     "text": [
      "2/2 - 2s - loss: 0.0025 - root_mean_squared_error: 0.0499 - val_loss: 0.1136 - val_root_mean_squared_error: 0.3370 - 2s/epoch - 1s/step\n",
      "Epoch 161/200\n",
      "INFO:tensorflow:Assets written to: model\\assets\n"
     ]
    },
    {
     "name": "stderr",
     "output_type": "stream",
     "text": [
      "INFO:tensorflow:Assets written to: model\\assets\n"
     ]
    },
    {
     "name": "stdout",
     "output_type": "stream",
     "text": [
      "2/2 - 2s - loss: 0.0025 - root_mean_squared_error: 0.0496 - val_loss: 0.1116 - val_root_mean_squared_error: 0.3340 - 2s/epoch - 1s/step\n",
      "Epoch 162/200\n",
      "INFO:tensorflow:Assets written to: model\\assets\n"
     ]
    },
    {
     "name": "stderr",
     "output_type": "stream",
     "text": [
      "INFO:tensorflow:Assets written to: model\\assets\n"
     ]
    },
    {
     "name": "stdout",
     "output_type": "stream",
     "text": [
      "2/2 - 2s - loss: 0.0024 - root_mean_squared_error: 0.0493 - val_loss: 0.1099 - val_root_mean_squared_error: 0.3315 - 2s/epoch - 1s/step\n",
      "Epoch 163/200\n",
      "INFO:tensorflow:Assets written to: model\\assets\n"
     ]
    },
    {
     "name": "stderr",
     "output_type": "stream",
     "text": [
      "INFO:tensorflow:Assets written to: model\\assets\n"
     ]
    },
    {
     "name": "stdout",
     "output_type": "stream",
     "text": [
      "2/2 - 3s - loss: 0.0024 - root_mean_squared_error: 0.0489 - val_loss: 0.1083 - val_root_mean_squared_error: 0.3291 - 3s/epoch - 1s/step\n",
      "Epoch 164/200\n",
      "INFO:tensorflow:Assets written to: model\\assets\n"
     ]
    },
    {
     "name": "stderr",
     "output_type": "stream",
     "text": [
      "INFO:tensorflow:Assets written to: model\\assets\n"
     ]
    },
    {
     "name": "stdout",
     "output_type": "stream",
     "text": [
      "2/2 - 3s - loss: 0.0023 - root_mean_squared_error: 0.0485 - val_loss: 0.1067 - val_root_mean_squared_error: 0.3266 - 3s/epoch - 1s/step\n",
      "Epoch 165/200\n",
      "INFO:tensorflow:Assets written to: model\\assets\n"
     ]
    },
    {
     "name": "stderr",
     "output_type": "stream",
     "text": [
      "INFO:tensorflow:Assets written to: model\\assets\n"
     ]
    },
    {
     "name": "stdout",
     "output_type": "stream",
     "text": [
      "2/2 - 2s - loss: 0.0023 - root_mean_squared_error: 0.0480 - val_loss: 0.1050 - val_root_mean_squared_error: 0.3241 - 2s/epoch - 1s/step\n",
      "Epoch 166/200\n",
      "INFO:tensorflow:Assets written to: model\\assets\n"
     ]
    },
    {
     "name": "stderr",
     "output_type": "stream",
     "text": [
      "INFO:tensorflow:Assets written to: model\\assets\n"
     ]
    },
    {
     "name": "stdout",
     "output_type": "stream",
     "text": [
      "2/2 - 3s - loss: 0.0023 - root_mean_squared_error: 0.0476 - val_loss: 0.1035 - val_root_mean_squared_error: 0.3218 - 3s/epoch - 2s/step\n",
      "Epoch 167/200\n",
      "INFO:tensorflow:Assets written to: model\\assets\n"
     ]
    },
    {
     "name": "stderr",
     "output_type": "stream",
     "text": [
      "INFO:tensorflow:Assets written to: model\\assets\n"
     ]
    },
    {
     "name": "stdout",
     "output_type": "stream",
     "text": [
      "2/2 - 2s - loss: 0.0022 - root_mean_squared_error: 0.0472 - val_loss: 0.1024 - val_root_mean_squared_error: 0.3200 - 2s/epoch - 1s/step\n",
      "Epoch 168/200\n",
      "INFO:tensorflow:Assets written to: model\\assets\n"
     ]
    },
    {
     "name": "stderr",
     "output_type": "stream",
     "text": [
      "INFO:tensorflow:Assets written to: model\\assets\n"
     ]
    },
    {
     "name": "stdout",
     "output_type": "stream",
     "text": [
      "2/2 - 2s - loss: 0.0022 - root_mean_squared_error: 0.0468 - val_loss: 0.1014 - val_root_mean_squared_error: 0.3185 - 2s/epoch - 1s/step\n",
      "Epoch 169/200\n",
      "INFO:tensorflow:Assets written to: model\\assets\n"
     ]
    },
    {
     "name": "stderr",
     "output_type": "stream",
     "text": [
      "INFO:tensorflow:Assets written to: model\\assets\n"
     ]
    },
    {
     "name": "stdout",
     "output_type": "stream",
     "text": [
      "2/2 - 2s - loss: 0.0022 - root_mean_squared_error: 0.0464 - val_loss: 0.1000 - val_root_mean_squared_error: 0.3163 - 2s/epoch - 1s/step\n",
      "Epoch 170/200\n",
      "INFO:tensorflow:Assets written to: model\\assets\n"
     ]
    },
    {
     "name": "stderr",
     "output_type": "stream",
     "text": [
      "INFO:tensorflow:Assets written to: model\\assets\n"
     ]
    },
    {
     "name": "stdout",
     "output_type": "stream",
     "text": [
      "2/2 - 2s - loss: 0.0021 - root_mean_squared_error: 0.0461 - val_loss: 0.0984 - val_root_mean_squared_error: 0.3136 - 2s/epoch - 1s/step\n",
      "Epoch 171/200\n",
      "INFO:tensorflow:Assets written to: model\\assets\n"
     ]
    },
    {
     "name": "stderr",
     "output_type": "stream",
     "text": [
      "INFO:tensorflow:Assets written to: model\\assets\n"
     ]
    },
    {
     "name": "stdout",
     "output_type": "stream",
     "text": [
      "2/2 - 2s - loss: 0.0021 - root_mean_squared_error: 0.0456 - val_loss: 0.0967 - val_root_mean_squared_error: 0.3110 - 2s/epoch - 1s/step\n",
      "Epoch 172/200\n",
      "INFO:tensorflow:Assets written to: model\\assets\n"
     ]
    },
    {
     "name": "stderr",
     "output_type": "stream",
     "text": [
      "INFO:tensorflow:Assets written to: model\\assets\n"
     ]
    },
    {
     "name": "stdout",
     "output_type": "stream",
     "text": [
      "2/2 - 2s - loss: 0.0020 - root_mean_squared_error: 0.0452 - val_loss: 0.0952 - val_root_mean_squared_error: 0.3086 - 2s/epoch - 1s/step\n",
      "Epoch 173/200\n",
      "INFO:tensorflow:Assets written to: model\\assets\n"
     ]
    },
    {
     "name": "stderr",
     "output_type": "stream",
     "text": [
      "INFO:tensorflow:Assets written to: model\\assets\n"
     ]
    },
    {
     "name": "stdout",
     "output_type": "stream",
     "text": [
      "2/2 - 2s - loss: 0.0020 - root_mean_squared_error: 0.0449 - val_loss: 0.0939 - val_root_mean_squared_error: 0.3064 - 2s/epoch - 1s/step\n",
      "Epoch 174/200\n",
      "INFO:tensorflow:Assets written to: model\\assets\n"
     ]
    },
    {
     "name": "stderr",
     "output_type": "stream",
     "text": [
      "INFO:tensorflow:Assets written to: model\\assets\n"
     ]
    },
    {
     "name": "stdout",
     "output_type": "stream",
     "text": [
      "2/2 - 2s - loss: 0.0020 - root_mean_squared_error: 0.0445 - val_loss: 0.0927 - val_root_mean_squared_error: 0.3044 - 2s/epoch - 1s/step\n",
      "Epoch 175/200\n",
      "INFO:tensorflow:Assets written to: model\\assets\n"
     ]
    },
    {
     "name": "stderr",
     "output_type": "stream",
     "text": [
      "INFO:tensorflow:Assets written to: model\\assets\n"
     ]
    },
    {
     "name": "stdout",
     "output_type": "stream",
     "text": [
      "2/2 - 3s - loss: 0.0019 - root_mean_squared_error: 0.0441 - val_loss: 0.0914 - val_root_mean_squared_error: 0.3024 - 3s/epoch - 2s/step\n",
      "Epoch 176/200\n",
      "INFO:tensorflow:Assets written to: model\\assets\n"
     ]
    },
    {
     "name": "stderr",
     "output_type": "stream",
     "text": [
      "INFO:tensorflow:Assets written to: model\\assets\n"
     ]
    },
    {
     "name": "stdout",
     "output_type": "stream",
     "text": [
      "2/2 - 2s - loss: 0.0019 - root_mean_squared_error: 0.0438 - val_loss: 0.0902 - val_root_mean_squared_error: 0.3004 - 2s/epoch - 1s/step\n",
      "Epoch 177/200\n",
      "INFO:tensorflow:Assets written to: model\\assets\n"
     ]
    },
    {
     "name": "stderr",
     "output_type": "stream",
     "text": [
      "INFO:tensorflow:Assets written to: model\\assets\n"
     ]
    },
    {
     "name": "stdout",
     "output_type": "stream",
     "text": [
      "2/2 - 2s - loss: 0.0019 - root_mean_squared_error: 0.0434 - val_loss: 0.0893 - val_root_mean_squared_error: 0.2988 - 2s/epoch - 1s/step\n",
      "Epoch 178/200\n",
      "INFO:tensorflow:Assets written to: model\\assets\n"
     ]
    },
    {
     "name": "stderr",
     "output_type": "stream",
     "text": [
      "INFO:tensorflow:Assets written to: model\\assets\n"
     ]
    },
    {
     "name": "stdout",
     "output_type": "stream",
     "text": [
      "2/2 - 2s - loss: 0.0019 - root_mean_squared_error: 0.0431 - val_loss: 0.0882 - val_root_mean_squared_error: 0.2969 - 2s/epoch - 1s/step\n",
      "Epoch 179/200\n",
      "INFO:tensorflow:Assets written to: model\\assets\n"
     ]
    },
    {
     "name": "stderr",
     "output_type": "stream",
     "text": [
      "INFO:tensorflow:Assets written to: model\\assets\n"
     ]
    },
    {
     "name": "stdout",
     "output_type": "stream",
     "text": [
      "2/2 - 2s - loss: 0.0018 - root_mean_squared_error: 0.0427 - val_loss: 0.0868 - val_root_mean_squared_error: 0.2946 - 2s/epoch - 1s/step\n",
      "Epoch 180/200\n",
      "INFO:tensorflow:Assets written to: model\\assets\n"
     ]
    },
    {
     "name": "stderr",
     "output_type": "stream",
     "text": [
      "INFO:tensorflow:Assets written to: model\\assets\n"
     ]
    },
    {
     "name": "stdout",
     "output_type": "stream",
     "text": [
      "2/2 - 2s - loss: 0.0018 - root_mean_squared_error: 0.0423 - val_loss: 0.0853 - val_root_mean_squared_error: 0.2921 - 2s/epoch - 1s/step\n",
      "Epoch 181/200\n",
      "INFO:tensorflow:Assets written to: model\\assets\n"
     ]
    },
    {
     "name": "stderr",
     "output_type": "stream",
     "text": [
      "INFO:tensorflow:Assets written to: model\\assets\n"
     ]
    },
    {
     "name": "stdout",
     "output_type": "stream",
     "text": [
      "2/2 - 2s - loss: 0.0018 - root_mean_squared_error: 0.0419 - val_loss: 0.0836 - val_root_mean_squared_error: 0.2892 - 2s/epoch - 1s/step\n",
      "Epoch 182/200\n",
      "INFO:tensorflow:Assets written to: model\\assets\n"
     ]
    },
    {
     "name": "stderr",
     "output_type": "stream",
     "text": [
      "INFO:tensorflow:Assets written to: model\\assets\n"
     ]
    },
    {
     "name": "stdout",
     "output_type": "stream",
     "text": [
      "2/2 - 2s - loss: 0.0017 - root_mean_squared_error: 0.0417 - val_loss: 0.0819 - val_root_mean_squared_error: 0.2862 - 2s/epoch - 1s/step\n",
      "Epoch 183/200\n",
      "INFO:tensorflow:Assets written to: model\\assets\n"
     ]
    },
    {
     "name": "stderr",
     "output_type": "stream",
     "text": [
      "INFO:tensorflow:Assets written to: model\\assets\n"
     ]
    },
    {
     "name": "stdout",
     "output_type": "stream",
     "text": [
      "2/2 - 3s - loss: 0.0017 - root_mean_squared_error: 0.0413 - val_loss: 0.0804 - val_root_mean_squared_error: 0.2836 - 3s/epoch - 2s/step\n",
      "Epoch 184/200\n",
      "INFO:tensorflow:Assets written to: model\\assets\n"
     ]
    },
    {
     "name": "stderr",
     "output_type": "stream",
     "text": [
      "INFO:tensorflow:Assets written to: model\\assets\n"
     ]
    },
    {
     "name": "stdout",
     "output_type": "stream",
     "text": [
      "2/2 - 2s - loss: 0.0017 - root_mean_squared_error: 0.0409 - val_loss: 0.0790 - val_root_mean_squared_error: 0.2810 - 2s/epoch - 1s/step\n",
      "Epoch 185/200\n",
      "INFO:tensorflow:Assets written to: model\\assets\n"
     ]
    },
    {
     "name": "stderr",
     "output_type": "stream",
     "text": [
      "INFO:tensorflow:Assets written to: model\\assets\n"
     ]
    },
    {
     "name": "stdout",
     "output_type": "stream",
     "text": [
      "2/2 - 2s - loss: 0.0016 - root_mean_squared_error: 0.0406 - val_loss: 0.0774 - val_root_mean_squared_error: 0.2783 - 2s/epoch - 1s/step\n",
      "Epoch 186/200\n",
      "INFO:tensorflow:Assets written to: model\\assets\n"
     ]
    },
    {
     "name": "stderr",
     "output_type": "stream",
     "text": [
      "INFO:tensorflow:Assets written to: model\\assets\n"
     ]
    },
    {
     "name": "stdout",
     "output_type": "stream",
     "text": [
      "2/2 - 2s - loss: 0.0016 - root_mean_squared_error: 0.0401 - val_loss: 0.0759 - val_root_mean_squared_error: 0.2754 - 2s/epoch - 1s/step\n",
      "Epoch 187/200\n",
      "INFO:tensorflow:Assets written to: model\\assets\n"
     ]
    },
    {
     "name": "stderr",
     "output_type": "stream",
     "text": [
      "INFO:tensorflow:Assets written to: model\\assets\n"
     ]
    },
    {
     "name": "stdout",
     "output_type": "stream",
     "text": [
      "2/2 - 2s - loss: 0.0016 - root_mean_squared_error: 0.0397 - val_loss: 0.0744 - val_root_mean_squared_error: 0.2727 - 2s/epoch - 1s/step\n",
      "Epoch 188/200\n",
      "INFO:tensorflow:Assets written to: model\\assets\n"
     ]
    },
    {
     "name": "stderr",
     "output_type": "stream",
     "text": [
      "INFO:tensorflow:Assets written to: model\\assets\n"
     ]
    },
    {
     "name": "stdout",
     "output_type": "stream",
     "text": [
      "2/2 - 2s - loss: 0.0015 - root_mean_squared_error: 0.0394 - val_loss: 0.0730 - val_root_mean_squared_error: 0.2703 - 2s/epoch - 1s/step\n",
      "Epoch 189/200\n",
      "INFO:tensorflow:Assets written to: model\\assets\n"
     ]
    },
    {
     "name": "stderr",
     "output_type": "stream",
     "text": [
      "INFO:tensorflow:Assets written to: model\\assets\n"
     ]
    },
    {
     "name": "stdout",
     "output_type": "stream",
     "text": [
      "2/2 - 2s - loss: 0.0015 - root_mean_squared_error: 0.0390 - val_loss: 0.0719 - val_root_mean_squared_error: 0.2682 - 2s/epoch - 1s/step\n",
      "Epoch 190/200\n",
      "INFO:tensorflow:Assets written to: model\\assets\n"
     ]
    },
    {
     "name": "stderr",
     "output_type": "stream",
     "text": [
      "INFO:tensorflow:Assets written to: model\\assets\n"
     ]
    },
    {
     "name": "stdout",
     "output_type": "stream",
     "text": [
      "2/2 - 2s - loss: 0.0015 - root_mean_squared_error: 0.0387 - val_loss: 0.0708 - val_root_mean_squared_error: 0.2661 - 2s/epoch - 1s/step\n",
      "Epoch 191/200\n",
      "INFO:tensorflow:Assets written to: model\\assets\n"
     ]
    },
    {
     "name": "stderr",
     "output_type": "stream",
     "text": [
      "INFO:tensorflow:Assets written to: model\\assets\n"
     ]
    },
    {
     "name": "stdout",
     "output_type": "stream",
     "text": [
      "2/2 - 2s - loss: 0.0015 - root_mean_squared_error: 0.0383 - val_loss: 0.0697 - val_root_mean_squared_error: 0.2641 - 2s/epoch - 1s/step\n",
      "Epoch 192/200\n",
      "INFO:tensorflow:Assets written to: model\\assets\n"
     ]
    },
    {
     "name": "stderr",
     "output_type": "stream",
     "text": [
      "INFO:tensorflow:Assets written to: model\\assets\n"
     ]
    },
    {
     "name": "stdout",
     "output_type": "stream",
     "text": [
      "2/2 - 3s - loss: 0.0014 - root_mean_squared_error: 0.0380 - val_loss: 0.0688 - val_root_mean_squared_error: 0.2624 - 3s/epoch - 2s/step\n",
      "Epoch 193/200\n",
      "INFO:tensorflow:Assets written to: model\\assets\n"
     ]
    },
    {
     "name": "stderr",
     "output_type": "stream",
     "text": [
      "INFO:tensorflow:Assets written to: model\\assets\n"
     ]
    },
    {
     "name": "stdout",
     "output_type": "stream",
     "text": [
      "2/2 - 2s - loss: 0.0014 - root_mean_squared_error: 0.0377 - val_loss: 0.0680 - val_root_mean_squared_error: 0.2608 - 2s/epoch - 1s/step\n",
      "Epoch 194/200\n",
      "INFO:tensorflow:Assets written to: model\\assets\n"
     ]
    },
    {
     "name": "stderr",
     "output_type": "stream",
     "text": [
      "INFO:tensorflow:Assets written to: model\\assets\n"
     ]
    },
    {
     "name": "stdout",
     "output_type": "stream",
     "text": [
      "2/2 - 2s - loss: 0.0014 - root_mean_squared_error: 0.0374 - val_loss: 0.0673 - val_root_mean_squared_error: 0.2594 - 2s/epoch - 1s/step\n",
      "Epoch 195/200\n",
      "INFO:tensorflow:Assets written to: model\\assets\n"
     ]
    },
    {
     "name": "stderr",
     "output_type": "stream",
     "text": [
      "INFO:tensorflow:Assets written to: model\\assets\n"
     ]
    },
    {
     "name": "stdout",
     "output_type": "stream",
     "text": [
      "2/2 - 2s - loss: 0.0014 - root_mean_squared_error: 0.0372 - val_loss: 0.0665 - val_root_mean_squared_error: 0.2578 - 2s/epoch - 1s/step\n",
      "Epoch 196/200\n",
      "INFO:tensorflow:Assets written to: model\\assets\n"
     ]
    },
    {
     "name": "stderr",
     "output_type": "stream",
     "text": [
      "INFO:tensorflow:Assets written to: model\\assets\n"
     ]
    },
    {
     "name": "stdout",
     "output_type": "stream",
     "text": [
      "2/2 - 2s - loss: 0.0014 - root_mean_squared_error: 0.0370 - val_loss: 0.0654 - val_root_mean_squared_error: 0.2557 - 2s/epoch - 1s/step\n",
      "Epoch 197/200\n",
      "INFO:tensorflow:Assets written to: model\\assets\n"
     ]
    },
    {
     "name": "stderr",
     "output_type": "stream",
     "text": [
      "INFO:tensorflow:Assets written to: model\\assets\n"
     ]
    },
    {
     "name": "stdout",
     "output_type": "stream",
     "text": [
      "2/2 - 2s - loss: 0.0013 - root_mean_squared_error: 0.0367 - val_loss: 0.0643 - val_root_mean_squared_error: 0.2535 - 2s/epoch - 1s/step\n",
      "Epoch 198/200\n",
      "INFO:tensorflow:Assets written to: model\\assets\n"
     ]
    },
    {
     "name": "stderr",
     "output_type": "stream",
     "text": [
      "INFO:tensorflow:Assets written to: model\\assets\n"
     ]
    },
    {
     "name": "stdout",
     "output_type": "stream",
     "text": [
      "2/2 - 2s - loss: 0.0013 - root_mean_squared_error: 0.0363 - val_loss: 0.0630 - val_root_mean_squared_error: 0.2510 - 2s/epoch - 1s/step\n",
      "Epoch 199/200\n",
      "INFO:tensorflow:Assets written to: model\\assets\n"
     ]
    },
    {
     "name": "stderr",
     "output_type": "stream",
     "text": [
      "INFO:tensorflow:Assets written to: model\\assets\n"
     ]
    },
    {
     "name": "stdout",
     "output_type": "stream",
     "text": [
      "2/2 - 2s - loss: 0.0013 - root_mean_squared_error: 0.0361 - val_loss: 0.0617 - val_root_mean_squared_error: 0.2483 - 2s/epoch - 1s/step\n",
      "Epoch 200/200\n",
      "INFO:tensorflow:Assets written to: model\\assets\n"
     ]
    },
    {
     "name": "stderr",
     "output_type": "stream",
     "text": [
      "INFO:tensorflow:Assets written to: model\\assets\n"
     ]
    },
    {
     "name": "stdout",
     "output_type": "stream",
     "text": [
      "2/2 - 3s - loss: 0.0013 - root_mean_squared_error: 0.0358 - val_loss: 0.0605 - val_root_mean_squared_error: 0.2459 - 3s/epoch - 1s/step\n"
     ]
    },
    {
     "data": {
      "text/plain": [
       "<keras.src.callbacks.History at 0x1b03319aef0>"
      ]
     },
     "execution_count": 429,
     "metadata": {},
     "output_type": "execute_result"
    }
   ],
   "source": [
    "model.fit(X_train, y_train, verbose=2, validation_data=(X_val, y_val), epochs=200, callbacks=[cp1])"
   ]
  },
  {
   "cell_type": "markdown",
   "id": "dc67b341-ae29-4063-8432-7a8a6faaf482",
   "metadata": {},
   "source": [
    "### Load the model checkpoints and predict"
   ]
  },
  {
   "cell_type": "code",
   "execution_count": 430,
   "id": "abb41eb9-6004-43db-bf4b-efefb4c604d2",
   "metadata": {},
   "outputs": [],
   "source": [
    "best_model = load_model('model/')"
   ]
  },
  {
   "cell_type": "code",
   "execution_count": 432,
   "id": "41707ba3-32bb-4dcb-a5b2-91e00e3d3269",
   "metadata": {},
   "outputs": [
    {
     "name": "stdout",
     "output_type": "stream",
     "text": [
      "2/2 [==============================] - 0s 3ms/step\n"
     ]
    },
    {
     "data": {
      "text/plain": [
       "array([[2844.2607],\n",
       "       [2934.0586],\n",
       "       [3011.8208],\n",
       "       [2911.715 ],\n",
       "       [2942.9802],\n",
       "       [3095.05  ],\n",
       "       [3217.158 ],\n",
       "       [3480.6797],\n",
       "       [4091.1855],\n",
       "       [4294.3843],\n",
       "       [3772.1567],\n",
       "       [3730.5078],\n",
       "       [3959.5815],\n",
       "       [3701.4238],\n",
       "       [3324.3533],\n",
       "       [3267.2002],\n",
       "       [3272.6484],\n",
       "       [3557.3503],\n",
       "       [3976.3125],\n",
       "       [3975.4954],\n",
       "       [4046.6055],\n",
       "       [4554.1772],\n",
       "       [4951.4004],\n",
       "       [4694.953 ],\n",
       "       [4241.46  ],\n",
       "       [4165.417 ],\n",
       "       [4206.2427],\n",
       "       [4128.7036],\n",
       "       [3845.5488],\n",
       "       [3997.231 ],\n",
       "       [4235.1616],\n",
       "       [4865.8896],\n",
       "       [5409.3213],\n",
       "       [5634.7334],\n",
       "       [5987.807 ],\n",
       "       [7147.3857],\n",
       "       [8388.002 ],\n",
       "       [8479.42  ],\n",
       "       [8783.341 ]], dtype=float32)"
      ]
     },
     "execution_count": 432,
     "metadata": {},
     "output_type": "execute_result"
    }
   ],
   "source": [
    "train_predict = best_model.predict(X_train)\n",
    "train_predict = scaler.inverse_transform(train_predict)\n",
    "train_predict"
   ]
  },
  {
   "cell_type": "code",
   "execution_count": 433,
   "id": "eb8580c4-5d3f-4219-99a6-5fb165760047",
   "metadata": {},
   "outputs": [
    {
     "data": {
      "text/plain": [
       "array([2844.2607, 2934.0586, 3011.8208, 2911.715 , 2942.9802, 3095.05  ,\n",
       "       3217.158 , 3480.6797, 4091.1855, 4294.3843, 3772.1567, 3730.5078,\n",
       "       3959.5815, 3701.4238, 3324.3533, 3267.2002, 3272.6484, 3557.3503,\n",
       "       3976.3125, 3975.4954, 4046.6055, 4554.1772, 4951.4004, 4694.953 ,\n",
       "       4241.46  , 4165.417 , 4206.2427, 4128.7036, 3845.5488, 3997.231 ,\n",
       "       4235.1616, 4865.8896, 5409.3213, 5634.7334, 5987.807 , 7147.3857,\n",
       "       8388.002 , 8479.42  , 8783.341 ], dtype=float32)"
      ]
     },
     "execution_count": 433,
     "metadata": {},
     "output_type": "execute_result"
    }
   ],
   "source": [
    "train_predict.flatten()"
   ]
  },
  {
   "cell_type": "code",
   "execution_count": 434,
   "id": "a22651cb-dc32-4667-b87c-46b2140e577a",
   "metadata": {},
   "outputs": [
    {
     "data": {
      "text/plain": [
       "Text(0.5, 1.0, 'Training Accuracy')"
      ]
     },
     "execution_count": 434,
     "metadata": {},
     "output_type": "execute_result"
    },
    {
     "data": {
      "image/png": "[encoded data removed]",
      "text/plain": [
       "<Figure size 640x480 with 1 Axes>"
      ]
     },
     "metadata": {},
     "output_type": "display_data"
    }
   ],
   "source": [
    "plt.plot(train_data_year[window_size+1:], train_predict.flatten())\n",
    "plt.plot(train_data_year[window_size+1:], scaler.inverse_transform(y_train.reshape(-1, 1)))\n",
    "plt.legend(['Predicted', 'Actual'])\n",
    "plt.title('Training Accuracy')"
   ]
  },
  {
   "cell_type": "code",
   "execution_count": 435,
   "id": "f14dac84-5454-4641-9e82-0ef518332543",
   "metadata": {},
   "outputs": [
    {
     "name": "stdout",
     "output_type": "stream",
     "text": [
      "1/1 [==============================] - 0s 23ms/step\n"
     ]
    },
    {
     "data": {
      "text/plain": [
       "array([[10053.547],\n",
       "       [10402.245],\n",
       "       [10738.279],\n",
       "       [10708.954],\n",
       "       [10541.633],\n",
       "       [10690.499],\n",
       "       [10389.619],\n",
       "       [10411.176],\n",
       "       [11074.814],\n",
       "       [11960.236],\n",
       "       [11856.565],\n",
       "       [11868.243],\n",
       "       [13226.766],\n",
       "       [14265.295],\n",
       "       [14969.576]], dtype=float32)"
      ]
     },
     "execution_count": 435,
     "metadata": {},
     "output_type": "execute_result"
    }
   ],
   "source": [
    "val_predict = best_model.predict(X_val)\n",
    "val_predict = scaler.inverse_transform(val_predict)\n",
    "val_predict"
   ]
  },
  {
   "cell_type": "code",
   "execution_count": 436,
   "id": "6c3f2221-0b6c-43f6-b823-3f34278a2b4e",
   "metadata": {},
   "outputs": [
    {
     "data": {
      "text/plain": [
       "Text(0.5, 1.0, 'Validation Accuracy')"
      ]
     },
     "execution_count": 436,
     "metadata": {},
     "output_type": "execute_result"
    },
    {
     "data": {
      "image/png": "[encoded data removed]",
      "text/plain": [
       "<Figure size 640x480 with 1 Axes>"
      ]
     },
     "metadata": {},
     "output_type": "display_data"
    }
   ],
   "source": [
    "plt.plot(val_data_year[window_size+1:], val_predict.flatten())\n",
    "plt.plot(val_data_year[window_size+1:], scaler.inverse_transform(y_val.reshape(-1, 1)))\n",
    "plt.legend(['Predicted', 'Actual'])\n",
    "plt.title('Validation Accuracy')"
   ]
  },
  {
   "cell_type": "markdown",
   "id": "75331832-29e2-4a4e-9ab6-40da930bc856",
   "metadata": {},
   "source": [
    "<h2>CO<sub>2</sub> prediction for next 5 years</h2>\n",
    "In order to predict next 10 years, we have to start with last 5 (window_size) records of the dataset and predict future values one by one."
   ]
  },
  {
   "cell_type": "code",
   "execution_count": 437,
   "id": "ab205aae-88c0-4031-86b6-8d414e256e15",
   "metadata": {},
   "outputs": [
    {
     "data": {
      "text/plain": [
       "array([[0.42428668],\n",
       "       [0.47168195],\n",
       "       [0.49305629],\n",
       "       [0.5446335 ],\n",
       "       [0.47121728],\n",
       "       [0.5265118 ],\n",
       "       [0.49026836],\n",
       "       [0.46610604],\n",
       "       [0.50234947],\n",
       "       [0.61154451],\n",
       "       [0.67799085],\n",
       "       [0.56786648],\n",
       "       [0.71284033],\n",
       "       [0.8410864 ],\n",
       "       [0.91403795],\n",
       "       [0.98048429],\n",
       "       [0.90288613],\n",
       "       [1.        ]])"
      ]
     },
     "execution_count": 437,
     "metadata": {},
     "output_type": "execute_result"
    }
   ],
   "source": [
    "val_data"
   ]
  },
  {
   "cell_type": "code",
   "execution_count": 438,
   "id": "870403de-2c2e-4057-a5b7-bb1530a0cc0a",
   "metadata": {},
   "outputs": [
    {
     "data": {
      "text/plain": [
       "(18, 1)"
      ]
     },
     "execution_count": 438,
     "metadata": {},
     "output_type": "execute_result"
    }
   ],
   "source": [
    "val_data.shape"
   ]
  },
  {
   "cell_type": "code",
   "execution_count": 439,
   "id": "c89c8002-67ee-4025-b94e-a18f3c779336",
   "metadata": {},
   "outputs": [
    {
     "data": {
      "text/plain": [
       "(1, 2)"
      ]
     },
     "execution_count": 439,
     "metadata": {},
     "output_type": "execute_result"
    }
   ],
   "source": [
    "x_input = val_data[-(window_size):].reshape(1, -1)\n",
    "x_input.shape"
   ]
  },
  {
   "cell_type": "code",
   "execution_count": 440,
   "id": "20cb8416-9532-4a9d-af3c-8a049479872d",
   "metadata": {},
   "outputs": [],
   "source": [
    "temp_input = list(x_input)\n",
    "temp_input = temp_input[0].tolist()"
   ]
  },
  {
   "cell_type": "code",
   "execution_count": 441,
   "id": "d758bfd2-fa93-4ca0-ad60-9ff58c4dce32",
   "metadata": {},
   "outputs": [
    {
     "data": {
      "text/plain": [
       "[0.9028861272557324, 1.0]"
      ]
     },
     "execution_count": 441,
     "metadata": {},
     "output_type": "execute_result"
    }
   ],
   "source": [
    "temp_input"
   ]
  },
  {
   "cell_type": "code",
   "execution_count": 442,
   "id": "627483a8-338e-4f6f-88dc-4e9c401c4a46",
   "metadata": {},
   "outputs": [
    {
     "name": "stdout",
     "output_type": "stream",
     "text": [
      "[0.59165937]\n",
      "3\n"
     ]
    },
    {
     "data": {
      "application/javascript": [
       "\n",
       "        if (window._pyforest_update_imports_cell) { window._pyforest_update_imports_cell('import numpy as np'); }\n",
       "    "
      ],
      "text/plain": [
       "<IPython.core.display.Javascript object>"
      ]
     },
     "metadata": {},
     "output_type": "display_data"
    },
    {
     "name": "stdout",
     "output_type": "stream",
     "text": [
      "1 Year input [1.         0.59165937]\n",
      "1 Year output [[0.5338469]]\n"
     ]
    },
    {
     "data": {
      "application/javascript": [
       "\n",
       "        if (window._pyforest_update_imports_cell) { window._pyforest_update_imports_cell('import numpy as np'); }\n",
       "    "
      ],
      "text/plain": [
       "<IPython.core.display.Javascript object>"
      ]
     },
     "metadata": {},
     "output_type": "display_data"
    },
    {
     "name": "stdout",
     "output_type": "stream",
     "text": [
      "2 Year input [0.59165937 0.53384691]\n",
      "2 Year output [[0.41706842]]\n"
     ]
    },
    {
     "data": {
      "application/javascript": [
       "\n",
       "        if (window._pyforest_update_imports_cell) { window._pyforest_update_imports_cell('import numpy as np'); }\n",
       "    "
      ],
      "text/plain": [
       "<IPython.core.display.Javascript object>"
      ]
     },
     "metadata": {},
     "output_type": "display_data"
    },
    {
     "name": "stdout",
     "output_type": "stream",
     "text": [
      "3 Year input [0.53384691 0.41706842]\n",
      "3 Year output [[0.37916726]]\n"
     ]
    },
    {
     "data": {
      "application/javascript": [
       "\n",
       "        if (window._pyforest_update_imports_cell) { window._pyforest_update_imports_cell('import numpy as np'); }\n",
       "    "
      ],
      "text/plain": [
       "<IPython.core.display.Javascript object>"
      ]
     },
     "metadata": {},
     "output_type": "display_data"
    },
    {
     "name": "stdout",
     "output_type": "stream",
     "text": [
      "4 Year input [0.41706842 0.37916726]\n",
      "4 Year output [[0.34227353]]\n",
      "[[0.5916593670845032], [0.533846914768219], [0.4170684218406677], [0.37916725873947144], [0.3422735333442688]]\n"
     ]
    }
   ],
   "source": [
    "from numpy import array\n",
    "\n",
    "lst_output=[]\n",
    "n_steps=window_size\n",
    "number_of_years_to_predict = 5\n",
    "i=0\n",
    "while(i<number_of_years_to_predict):\n",
    "    \n",
    "    if(len(temp_input)>n_steps):\n",
    "        #print(temp_input)\n",
    "        x_input=np.array(temp_input[1:])\n",
    "        print(\"{} Year input {}\".format(i,x_input))\n",
    "        x_input=x_input.reshape(1,-1)\n",
    "        x_input = x_input.reshape((1, n_steps, 1))\n",
    "        #print(x_input)\n",
    "        yhat = model.predict(x_input, verbose=0)\n",
    "        print(\"{} Year output {}\".format(i,yhat))\n",
    "        temp_input.extend(yhat[0].tolist())\n",
    "        temp_input=temp_input[1:]\n",
    "        #print(temp_input)\n",
    "        lst_output.extend(yhat.tolist())\n",
    "        i=i+1\n",
    "    else:\n",
    "        x_input = x_input.reshape((1, n_steps,1))\n",
    "        yhat = model.predict(x_input, verbose=0)\n",
    "        print(yhat[0])\n",
    "        temp_input.extend(yhat[0].tolist())\n",
    "        print(len(temp_input))\n",
    "        lst_output.extend(yhat.tolist())\n",
    "        i=i+1\n",
    "    \n",
    "\n",
    "print(lst_output)"
   ]
  },
  {
   "cell_type": "markdown",
   "id": "a0fc428c-abe4-4f9a-9303-0183c8d9ab56",
   "metadata": {},
   "source": [
    "### Plot predicted values"
   ]
  },
  {
   "cell_type": "code",
   "execution_count": 443,
   "id": "9229c968-5655-4695-84c7-6554137a8ee4",
   "metadata": {},
   "outputs": [
    {
     "data": {
      "application/javascript": [
       "\n",
       "        if (window._pyforest_update_imports_cell) { window._pyforest_update_imports_cell('import numpy as np'); }\n",
       "    "
      ],
      "text/plain": [
       "<IPython.core.display.Javascript object>"
      ]
     },
     "metadata": {},
     "output_type": "display_data"
    }
   ],
   "source": [
    "year_new = val_data_year[-window_size:] # new year range\n",
    "year_pred = np.arange(int(year_new[-1:]) + 1, int(year_new[-1:]) + number_of_years_to_predict + 1) # new predicted years"
   ]
  },
  {
   "cell_type": "code",
   "execution_count": 444,
   "id": "6db1f17d-c792-46ee-9a81-ea59408ade33",
   "metadata": {},
   "outputs": [],
   "source": [
    "original_data_from_df = scaler.inverse_transform(df_scaled[(len(df_co2) - window_size):])\n",
    "original_data_from_predicteds = scaler.inverse_transform(lst_output)"
   ]
  },
  {
   "cell_type": "code",
   "execution_count": 445,
   "id": "3b334c49-12ad-4879-b3a8-f81fb26e08a4",
   "metadata": {},
   "outputs": [
    {
     "data": {
      "text/plain": [
       "array([[21690.00053406],\n",
       "       [23780.00068665]])"
      ]
     },
     "execution_count": 445,
     "metadata": {},
     "output_type": "execute_result"
    }
   ],
   "source": [
    "original_data_from_df"
   ]
  },
  {
   "cell_type": "code",
   "execution_count": 446,
   "id": "c4973017-89e2-4357-802e-5f53357dcc13",
   "metadata": {},
   "outputs": [
    {
     "data": {
      "image/png": "[encoded data removed]",
      "text/plain": [
       "<Figure size 640x480 with 1 Axes>"
      ]
     },
     "metadata": {},
     "output_type": "display_data"
    }
   ],
   "source": [
    "plt.title('Forecasted CO2 emission between 2020 and 2024')\n",
    "plt.plot(year_new, original_data_from_df)\n",
    "plt.plot(year_pred, original_data_from_predicteds)\n",
    "plt.legend(['Actual values in 2018 and 2019', 'Predicted values'])\n",
    "plt.show()"
   ]
  },
  {
   "cell_type": "markdown",
   "id": "c388b3da-e506-4959-9480-434e375eb6f2",
   "metadata": {},
   "source": [
    "### Combine predicteds to the original dataset and plot"
   ]
  },
  {
   "cell_type": "code",
   "execution_count": 447,
   "id": "812e0901-335f-4885-83a1-d7ee3e94ab5a",
   "metadata": {},
   "outputs": [
    {
     "data": {
      "image/png": "[encoded data removed]",
      "text/plain": [
       "<Figure size 640x480 with 1 Axes>"
      ]
     },
     "metadata": {},
     "output_type": "display_data"
    }
   ],
   "source": [
    "df3 = scaler.inverse_transform(df_scaled).tolist()\n",
    "df3.extend(scaler.inverse_transform((lst_output)))\n",
    "df3_year = list(df_year) + list(year_pred)\n",
    "\n",
    "plt.title('Actual and Forecasted values together in one graph')\n",
    "plt.plot(df3_year, df3)\n",
    "plt.show()"
   ]
  }
 ],
 "metadata": {
  "kernelspec": {
   "display_name": "Python 3 (ipykernel)",
   "language": "python",
   "name": "python3"
  },
  "language_info": {
   "codemirror_mode": {
    "name": "ipython",
    "version": 3
   },
   "file_extension": ".py",
   "mimetype": "text/x-python",
   "name": "python",
   "nbconvert_exporter": "python",
   "pygments_lexer": "ipython3",
   "version": "3.10.9"
  }
 },
 "nbformat": 4,
 "nbformat_minor": 5
}
